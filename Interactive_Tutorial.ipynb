{
 "cells": [
  {
   "cell_type": "code",
   "execution_count": 1,
   "metadata": {},
   "outputs": [],
   "source": [
    "#WELCOME TO THE NLP, TEXT MINING AND TEXT PROCESSING TUTORIAL\n",
    "#IN THIS NOTEBOOK WE GO FROM SIMPLE TO COMPLEX, ESSENTIAL TO OPTIONAL, AS YOU SCROLL DOWN."
   ]
  },
  {
   "cell_type": "code",
   "execution_count": null,
   "metadata": {},
   "outputs": [],
   "source": [
    "#IMPORTANT-MAKE A NEW PYTHON ENVIRONMENT"
   ]
  },
  {
   "cell_type": "code",
   "execution_count": null,
   "metadata": {},
   "outputs": [],
   "source": [
    "#"
   ]
  },
  {
   "cell_type": "code",
   "execution_count": 2,
   "metadata": {},
   "outputs": [],
   "source": [
    "#LOADING IN YOUR DATA"
   ]
  },
  {
   "cell_type": "code",
   "execution_count": 3,
   "metadata": {},
   "outputs": [],
   "source": [
    "#Text data comes in many forms, .txt files, .json files, .pdf files\n",
    "#Alan's Pandas tutorial would have walked you through some of this"
   ]
  },
  {
   "cell_type": "code",
   "execution_count": 4,
   "metadata": {},
   "outputs": [],
   "source": [
    "#The 'data' folder contains State Constitution PDF files. Lets explore these"
   ]
  },
  {
   "cell_type": "code",
   "execution_count": 46,
   "metadata": {},
   "outputs": [
    {
     "name": "stdout",
     "output_type": "stream",
     "text": [
      "total 1.5K\n",
      "drwxrws--- 2 nak3t bii_sdad_dspg 4.0K Jun 12 23:38 .\n",
      "drwxrws--- 7 nak3t bii_sdad_dspg 4.0K Jun 12 22:37 ..\n",
      "-rwxrwx--- 1 nak3t bii_sdad_dspg 2.9K Jun 12 23:38 storytime.txt\n"
     ]
    }
   ],
   "source": [
    "!ls -lah ./data/regex/"
   ]
  },
  {
   "cell_type": "code",
   "execution_count": 20,
   "metadata": {},
   "outputs": [
    {
     "name": "stdout",
     "output_type": "stream",
     "text": [
      "['ai', 'ai', 'ai', 'ai']\n"
     ]
    }
   ],
   "source": [
    "import re\n",
    "\n",
    "txt = \"The rain in Spain falls mainly on the plain\"\n",
    "x = re.findall(\"ai\", txt)\n",
    "print(x) "
   ]
  },
  {
   "cell_type": "code",
   "execution_count": 21,
   "metadata": {},
   "outputs": [
    {
     "name": "stdout",
     "output_type": "stream",
     "text": [
      "The first white-space character is located in position: 3\n"
     ]
    }
   ],
   "source": [
    "txt = \"The rain in Spain\"\n",
    "x = re.search(\"\\s\", txt)\n",
    "\n",
    "print(\"The first white-space character is located in position:\", x.start()) "
   ]
  },
  {
   "cell_type": "code",
   "execution_count": 22,
   "metadata": {},
   "outputs": [],
   "source": [
    "#Split is useful to process data from different formats"
   ]
  },
  {
   "cell_type": "code",
   "execution_count": 26,
   "metadata": {},
   "outputs": [
    {
     "name": "stdout",
     "output_type": "stream",
     "text": [
      "['The', 'rain', 'in', 'Spain']\n",
      "['Alex,Albany', 'Dave,Dallas', 'Mike,Minneapolis', 'Bob,Birmingham']\n"
     ]
    }
   ],
   "source": [
    "#Split on every Instance\n",
    "txt = \"The rain in Spain\"\n",
    "x = re.split(\"\\s\", txt)\n",
    "print(x) \n",
    "\n",
    "commaseptest= \"Alex,Albany\\nDave,Dallas\\nMike,Minneapolis\\nBob,Birmingham\"\n",
    "lines = re.split(\"\\n\", commaseptest)\n",
    "print(lines)\n"
   ]
  },
  {
   "cell_type": "code",
   "execution_count": 28,
   "metadata": {},
   "outputs": [
    {
     "data": {
      "text/html": [
       "<div>\n",
       "<style scoped>\n",
       "    .dataframe tbody tr th:only-of-type {\n",
       "        vertical-align: middle;\n",
       "    }\n",
       "\n",
       "    .dataframe tbody tr th {\n",
       "        vertical-align: top;\n",
       "    }\n",
       "\n",
       "    .dataframe thead th {\n",
       "        text-align: right;\n",
       "    }\n",
       "</style>\n",
       "<table border=\"1\" class=\"dataframe\">\n",
       "  <thead>\n",
       "    <tr style=\"text-align: right;\">\n",
       "      <th></th>\n",
       "      <th>name</th>\n",
       "      <th>place</th>\n",
       "    </tr>\n",
       "  </thead>\n",
       "  <tbody>\n",
       "    <tr>\n",
       "      <th>0</th>\n",
       "      <td>Alex</td>\n",
       "      <td>Albany</td>\n",
       "    </tr>\n",
       "    <tr>\n",
       "      <th>1</th>\n",
       "      <td>Dave</td>\n",
       "      <td>Dallas</td>\n",
       "    </tr>\n",
       "    <tr>\n",
       "      <th>2</th>\n",
       "      <td>Mike</td>\n",
       "      <td>Minneapolis</td>\n",
       "    </tr>\n",
       "    <tr>\n",
       "      <th>3</th>\n",
       "      <td>Bob</td>\n",
       "      <td>Birmingham</td>\n",
       "    </tr>\n",
       "  </tbody>\n",
       "</table>\n",
       "</div>"
      ],
      "text/plain": [
       "   name        place\n",
       "0  Alex       Albany\n",
       "1  Dave       Dallas\n",
       "2  Mike  Minneapolis\n",
       "3   Bob   Birmingham"
      ]
     },
     "execution_count": 28,
     "metadata": {},
     "output_type": "execute_result"
    }
   ],
   "source": [
    "import pandas as pd\n",
    "\n",
    "sample=pd.DataFrame()\n",
    "\n",
    "for line in lines:\n",
    "    temp=line.split(',')\n",
    "    row={'name':temp[0],'place':temp[1]}\n",
    "    sample=sample.append(row,ignore_index=True)\n",
    "\n",
    "sample"
   ]
  },
  {
   "cell_type": "code",
   "execution_count": 66,
   "metadata": {},
   "outputs": [
    {
     "name": "stdout",
     "output_type": "stream",
     "text": [
      "['The', 'rain', 'in Spain']\n"
     ]
    }
   ],
   "source": [
    "#Split on first instance\n",
    "txt = \"The rain in Spain\"\n",
    "x = re.split(\"\\s\", txt, 2)\n",
    "print(x) "
   ]
  },
  {
   "cell_type": "code",
   "execution_count": 34,
   "metadata": {},
   "outputs": [
    {
     "name": "stdout",
     "output_type": "stream",
     "text": [
      "The raon on Spaon\n"
     ]
    }
   ],
   "source": [
    "txt = \"The rain in Spain\"\n",
    "x = re.sub(\"in\", \"on\", txt)\n",
    "print(x)"
   ]
  },
  {
   "cell_type": "code",
   "execution_count": 35,
   "metadata": {},
   "outputs": [
    {
     "name": "stdout",
     "output_type": "stream",
     "text": [
      "The raon on Spain\n"
     ]
    }
   ],
   "source": [
    "#Add a number to make it work that number of time\n",
    "txt = \"The rain in Spain\"\n",
    "x = re.sub(\"in\", \"on\", txt,2)\n",
    "print(x) "
   ]
  },
  {
   "cell_type": "code",
   "execution_count": 37,
   "metadata": {},
   "outputs": [
    {
     "name": "stdout",
     "output_type": "stream",
     "text": [
      "The rain on Spain\n"
     ]
    }
   ],
   "source": [
    "#If you want to replace \"in\" only you need to specify \" in \"\n",
    "txt = \"The rain in Spain\"\n",
    "x = re.sub(\" in \", \" on \", txt)\n",
    "print(x) "
   ]
  },
  {
   "cell_type": "code",
   "execution_count": 39,
   "metadata": {},
   "outputs": [
    {
     "data": {
      "text/plain": [
       "'https://www.dataquest.io/blog/regex-cheatsheet/'"
      ]
     },
     "execution_count": 39,
     "metadata": {},
     "output_type": "execute_result"
    }
   ],
   "source": [
    "\"https://www.dataquest.io/blog/regex-cheatsheet/\""
   ]
  },
  {
   "cell_type": "code",
   "execution_count": 70,
   "metadata": {},
   "outputs": [
    {
     "data": {
      "text/plain": [
       "'https://regex101.com/'"
      ]
     },
     "execution_count": 70,
     "metadata": {},
     "output_type": "execute_result"
    }
   ],
   "source": [
    "\"https://regex101.com/\""
   ]
  },
  {
   "cell_type": "code",
   "execution_count": 44,
   "metadata": {},
   "outputs": [
    {
     "data": {
      "text/plain": [
       "'https://www.geeksforgeeks.org/python-regex-cheat-sheet/'"
      ]
     },
     "execution_count": 44,
     "metadata": {},
     "output_type": "execute_result"
    }
   ],
   "source": [
    "\"https://www.geeksforgeeks.org/python-regex-cheat-sheet/\""
   ]
  },
  {
   "cell_type": "code",
   "execution_count": 45,
   "metadata": {},
   "outputs": [],
   "source": [
    "#Find Phone Numbers in a text dump"
   ]
  },
  {
   "cell_type": "code",
   "execution_count": 67,
   "metadata": {},
   "outputs": [],
   "source": [
    "with open('./data/regex/storytime.txt') as f:\n",
    "    contents = f.read()"
   ]
  },
  {
   "cell_type": "code",
   "execution_count": 68,
   "metadata": {},
   "outputs": [
    {
     "name": "stdout",
     "output_type": "stream",
     "text": [
      "Far far away, behind the word mountains, far from the countries Vokalia and Consonantia, there live the blind texts. Separated they live in Bookmarksgrove right at the coast of the Semantics, a large language ocean 321-507-9883. A small river named Duden flows by their place and supplies it with the necessary regelialia. It is a paradisematic country, in which roasted parts of sentences fly into your mouth. Even the all-powerful Pointing has no control about the blind texts it is an almost unorthographic life One day however a small line of blind text by the name of Lorem Ipsum decided to leave for the far World of Grammar.\n",
      "\n",
      "The Big Oxmox advised her not to do so, because there were thousands of bad Commas, wild Question Marks and devious Semikoli, but the Little Blind Text (599) 962-1382 didn’t listen. She (252) 764-6972 packed her seven versalia, put her initial into the belt and made herself mauris@outlook.org on the way. When she reached the first hills of the Italic Mountains, she had a last view back on the skyline of her hometown Bookmarksgrove, the headline of Alphabet Village and the subline of her own road, the Line Lane. Pityful a rethoric question ran over her cheek, then she continued her way. On her way she met a copy.\n",
      "\n",
      "The copy warned the amet.orci@google.edu Little Blind Text, that where it came from it would have been rewritten a thousand times and everything that was left from its origin would be the word \"and\" and the Little Blind Text should turn around and mauris.eu@icloud.net return to its own, safe country. \n",
      "\n",
      "Far far away, behind the word mountains, far from the countries Vokalia and Consonantia, there live the blind texts. Separated they live in Bookmarksgrove (412) 375-3263 right at the coast of the Semantics, a large language ocean. A small river named Duden flows by their place and supplies it with the necessary regelialia. It is a paradisematic country, in which roasted parts of sentences fly into your mouth. Even the all-powerful Pointing has no control about the blind texts it is an almost unorthographic life One day however a small line of blind text by the name of Lorem Ipsum decided to leave for the far World of Grammar. The Big Oxmox advised her not to do so, because there were thousands of bad Commas, wild Question Marks and devious Semikoli, but the Little Blind Text didn’t listen. She packed her seven versalia, put her initial into the belt and made herself on the way. When she reached the first hills of the Italic Mountains, she had a last view back on the skyline of her hometown Bookmarksgrove, the headline of Alphabet Village and the subline \n"
     ]
    }
   ],
   "source": [
    "print(contents)"
   ]
  },
  {
   "cell_type": "code",
   "execution_count": 65,
   "metadata": {},
   "outputs": [
    {
     "name": "stdout",
     "output_type": "stream",
     "text": [
      "['321-507-9883', '(599) 962-1382', '(252) 764-6972', '(412) 375-3263']\n"
     ]
    }
   ],
   "source": [
    "reg = re.compile(\".*?(\\(?\\d{3}\\D{0,3}\\d{3}\\D{0,3}\\d{4}).*?\", re.S)\n",
    "x=re.findall(reg,contents)\n",
    "\n",
    "print(x)"
   ]
  },
  {
   "cell_type": "code",
   "execution_count": null,
   "metadata": {},
   "outputs": [],
   "source": [
    "#Try emails"
   ]
  },
  {
   "cell_type": "code",
   "execution_count": 71,
   "metadata": {},
   "outputs": [
    {
     "name": "stdout",
     "output_type": "stream",
     "text": [
      "total 146M\n",
      "drwxrws--- 2 nak3t bii_sdad_dspg 4.0K Jun  7 15:23 .\n",
      "drwxrws--- 7 nak3t bii_sdad_dspg 4.0K Jun 12 22:37 ..\n",
      "-rwxrwx--- 1 nak3t users         1.3M Jun  7 12:14 AKConstitution.pdf\n",
      "-rwxrwx--- 1 nak3t users         1.8M Jun  7 12:14 ALConstitution.pdf\n",
      "-rwxrwx--- 1 nak3t users          41M Jun  7 12:15 ARConstitution.pdf\n",
      "-rwxrwx--- 1 nak3t users         295K Jun  7 12:15 AZConstitution.pdf\n",
      "-rwxrwx--- 1 nak3t users         5.7M Jun  7 12:15 CAConstitution.pdf\n",
      "-rwxrwx--- 1 nak3t users         1.1M Jun  7 12:15 COConstitution.pdf\n",
      "-rwxrwx--- 1 nak3t users         1.3M Jun  7 12:15 CTConstitution.pdf\n",
      "-rwxrwx--- 1 nak3t users         523K Jun  7 12:15 DEConstitution.pdf\n",
      "-rwxrwx--- 1 nak3t users         872K Jun  7 12:15 FLConstitution.pdf\n",
      "-rwxrwx--- 1 nak3t users         5.3M Jun  7 12:15 GAConstitution.pdf\n",
      "-rwxrwx--- 1 nak3t users          63K Jun  7 12:15 HIConstitution.pdf\n",
      "-rwxrwx--- 1 nak3t users          18M Jun  7 12:15 IAConstitution.pdf\n",
      "-rwxrwx--- 1 nak3t users         518K Jun  7 12:15 IDConstitution.pdf\n",
      "-rwxrwx--- 1 nak3t users         2.3M Jun  7 12:15 ILConstitution.pdf\n",
      "-rwxrwx--- 1 nak3t users         168K Jun  7 12:15 INConstitution.pdf\n",
      "-rwxrwx--- 1 nak3t users          23M Jun  7 12:15 KSConstitution.pdf\n",
      "-rwxrwx--- 1 nak3t users         1.1M Jun  7 12:15 KYConstitution.pdf\n",
      "-rwxrwx--- 1 nak3t users         1.1M Jun  7 12:15 LAConstitution.pdf\n",
      "-rwxrwx--- 1 nak3t users         1.5M Jun  7 12:15 MAConstitution.pdf\n",
      "-rwxrwx--- 1 nak3t users         1.3M Jun  7 12:15 MDConstitution.pdf\n",
      "-rwxrwx--- 1 nak3t users         164K Jun  7 12:15 MEConstitution.pdf\n",
      "-rwxrwx--- 1 nak3t users         2.5M Jun  7 12:15 MIConstitution.pdf\n",
      "-rwxrwx--- 1 nak3t users         467K Jun  7 12:15 MNConstitution.pdf\n",
      "-rwxrwx--- 1 nak3t users         1.9M Jun  7 12:15 MOConstitution.pdf\n",
      "-rwxrwx--- 1 nak3t users         1.5M Jun  7 12:15 MSConstitution.pdf\n",
      "-rwxrwx--- 1 nak3t users         366K Jun  7 12:15 MTConstitution.pdf\n",
      "-rwxrwx--- 1 nak3t users         182K Jun  7 12:15 NCConstitution.pdf\n",
      "-rwxrwx--- 1 nak3t users         2.6M Jun  7 12:15 NDConstitution.pdf\n",
      "-rwxrwx--- 1 nak3t users         582K Jun  7 12:15 NEConstitution.pdf\n",
      "-rwxrwx--- 1 nak3t users         318K Jun  7 12:15 NHConstitution.pdf\n",
      "-rwxrwx--- 1 nak3t users         168K Jun  7 12:15 NJConstitution.pdf\n",
      "-rwxrwx--- 1 nak3t users         860K Jun  7 12:15 NMConstitution.pdf\n",
      "-rwxrwx--- 1 nak3t users         234K Jun  7 12:16 NVConstitution.pdf\n",
      "-rwxrwx--- 1 nak3t users         1.2M Jun  7 12:16 NYConstitution.pdf\n",
      "-rwxrwx--- 1 nak3t users         1.8M Jun  7 12:16 OHConstitution.pdf\n",
      "-rwxrwx--- 1 nak3t users         1.1M Jun  7 12:16 OKConstitution.pdf\n",
      "-rwxrwx--- 1 nak3t users         8.0M Jun  7 12:16 ORConstitution.pdf\n",
      "-rwxrwx--- 1 nak3t users         1.6M Jun  7 12:16 PAConstitution.pdf\n",
      "-rwxrwx--- 1 nak3t users         3.6M Jun  7 12:16 RIConstitution.pdf\n",
      "-rwxrwx--- 1 nak3t users         455K Jun  7 12:16 SCConstitution.pdf\n",
      "-rwxrwx--- 1 nak3t users         595K Jun  7 12:16 SDConstitution.pdf\n",
      "-rwxrwx--- 1 nak3t users         134K Jun  7 12:16 TNConstitution.pdf\n",
      "-rwxrwx--- 1 nak3t users         3.0M Jun  7 12:16 TXConstitution.pdf\n",
      "-rwxrwx--- 1 nak3t users          91K Jun  7 12:16 UTConstitution.pdf\n",
      "-rwxrwx--- 1 nak3t users         456K Jun  7 12:16 VAConstitution.pdf\n",
      "-rwxrwx--- 1 nak3t users         256K Jun  7 12:16 VTConstitution.pdf\n",
      "-rwxrwx--- 1 nak3t users         3.5M Jun  7 12:16 WAConstitution.pdf\n",
      "-rwxrwx--- 1 nak3t users         761K Jun  7 12:16 WIConstitution.pdf\n",
      "-rwxrwx--- 1 nak3t users         242K Jun  7 12:16 WVConstitution.pdf\n",
      "-rwxrwx--- 1 nak3t users         622K Jun  7 12:16 WYConstitution.pdf\n"
     ]
    }
   ],
   "source": [
    "!ls -lah ./data/constitution/"
   ]
  },
  {
   "cell_type": "code",
   "execution_count": 6,
   "metadata": {},
   "outputs": [],
   "source": [
    "#Using ! lets you run shell commands in Jupyter; Arkansas seems to have a really big file?"
   ]
  },
  {
   "cell_type": "code",
   "execution_count": 7,
   "metadata": {},
   "outputs": [
    {
     "name": "stdout",
     "output_type": "stream",
     "text": [
      "Collecting package metadata (current_repodata.json): done\n",
      "Solving environment: done\n",
      "\n",
      "\n",
      "==> WARNING: A newer version of conda exists. <==\n",
      "  current version: 4.11.0\n",
      "  latest version: 23.5.0\n",
      "\n",
      "Please update conda by running\n",
      "\n",
      "    $ conda update -n base conda\n",
      "\n",
      "\n",
      "\n",
      "# All requested packages already installed.\n",
      "\n"
     ]
    }
   ],
   "source": [
    "#!conda install -yc conda-forge pypdf2"
   ]
  },
  {
   "cell_type": "code",
   "execution_count": 7,
   "metadata": {},
   "outputs": [
    {
     "name": "stdout",
     "output_type": "stream",
     "text": [
      "20\n",
      "33 6 \n"
     ]
    }
   ],
   "source": []
  },
  {
   "cell_type": "code",
   "execution_count": 73,
   "metadata": {},
   "outputs": [
    {
     "name": "stdout",
     "output_type": "stream",
     "text": [
      "47\n"
     ]
    }
   ],
   "source": [
    "#REGULAR PDF READING\n",
    "\n",
    "from PyPDF2 import PdfReader\n",
    "\n",
    "reader = PdfReader('./data/constitution/ARConstitution.pdf')\n",
    "number_of_pages = len(reader.pages)\n",
    "print(number_of_pages)\n"
   ]
  },
  {
   "cell_type": "code",
   "execution_count": 74,
   "metadata": {},
   "outputs": [],
   "source": [
    "#47 pages? That's not too long. Why is it such a large file size?"
   ]
  },
  {
   "cell_type": "code",
   "execution_count": 75,
   "metadata": {},
   "outputs": [],
   "source": [
    "page = reader.pages[0]\n",
    "text = page.extract_text()"
   ]
  },
  {
   "cell_type": "code",
   "execution_count": 76,
   "metadata": {},
   "outputs": [
    {
     "name": "stdout",
     "output_type": "stream",
     "text": [
      "Arkansas State Ar chives Arkansas State Ar chives \n",
      "Arkansas Digital Ar chives Arkansas Digital Ar chives \n",
      "Arkansas Constitutions State Go vernment Recor ds \n",
      "1874 Arkansas Constitution 1874 Arkansas Constitution \n",
      "Arkansas Constitutional Conv ention \n",
      "Follow this and additional works at: https:/ /digitalheritage.arkansas.go v/constitutions \n",
      " Part of the United States Hist ory Commons \n",
      "Recommended Citation Recommended Citation \n",
      "1874 Arkansas Constitution, Arkansas State Ar chives, Little Rock, Arkansas. \n",
      "Use and r eproduction of images held b y the Arkansas State Ar chives without prior written permission is pr ohibited. \n",
      "For information on r eproducing images held b y the Arkansas State Ar chives, please call 501-682-6900 or email at \n",
      "state.ar chives@arkansas.go v. \n"
     ]
    }
   ],
   "source": [
    "print(text)"
   ]
  },
  {
   "cell_type": "code",
   "execution_count": 77,
   "metadata": {},
   "outputs": [
    {
     "name": "stdout",
     "output_type": "stream",
     "text": [
      "\n"
     ]
    }
   ],
   "source": [
    "page = reader.pages[1]\n",
    "text = page.extract_text()\n",
    "print(text)"
   ]
  },
  {
   "cell_type": "code",
   "execution_count": 78,
   "metadata": {},
   "outputs": [],
   "source": [
    "#no text? That's a little strange..."
   ]
  },
  {
   "cell_type": "code",
   "execution_count": 79,
   "metadata": {},
   "outputs": [],
   "source": [
    "#okay. so. PDF files are complicated. Sometimes the standard approach does not work. \n",
    "#lets come back to it later."
   ]
  },
  {
   "cell_type": "code",
   "execution_count": 80,
   "metadata": {},
   "outputs": [
    {
     "name": "stdout",
     "output_type": "stream",
     "text": [
      "463\n"
     ]
    }
   ],
   "source": [
    "#Lets Try another file\n",
    "reader = PdfReader('./data/constitution/CAConstitution.pdf')\n",
    "number_of_pages = len(reader.pages)\n",
    "print(number_of_pages)"
   ]
  },
  {
   "cell_type": "code",
   "execution_count": 81,
   "metadata": {},
   "outputs": [
    {
     "name": "stdout",
     "output_type": "stream",
     "text": [
      "146692_00_Constitution_Txt_2019_r1.indd  1 7/2/2019  1:56:29 PMCONSTITUTION OF THE \n",
      "UNITED STATES \n",
      "CONSTITUTION OF THE \n",
      "STATE OF CALIFORNIA, 1879 \n",
      "As Last Amended November 6, 2018 \n",
      "and \n",
      "Related Documents \n",
      "2019–20 \n",
      "CALIFORNIA STATE LEGISLATURE \n",
      "LT. GOVERNOR ELENI KOUNALAKIS HON. ANTHONY RENDON \n",
      "President of the Senate Speaker of the Assembly \n",
      "HON. TONI G. ATKINS HON. KEVIN MULLIN \n",
      "President pro Tempore of the Senate Speaker pro Tempore \n",
      "HON. SHANNON GROVE HON. MARIE WALDRON \n",
      "Republican Leader Republican Leader \n",
      "ERIKA CONTRERAS E. DOTSON WILSON \n",
      "Secretary of the Senate Chief Clerk of the Assembly  \n",
      " \n"
     ]
    }
   ],
   "source": [
    "page = reader.pages[2]\n",
    "text = page.extract_text()\n",
    "print(text)"
   ]
  },
  {
   "cell_type": "code",
   "execution_count": 82,
   "metadata": {},
   "outputs": [],
   "source": [
    "for i in range(0,number_of_pages):\n",
    "    page=reader.pages[i]\n",
    "    text=text+\"\\n ----END OF PAGE---- \\n\"+page.extract_text()\n",
    "    \n",
    "#print(text)    "
   ]
  },
  {
   "cell_type": "code",
   "execution_count": 83,
   "metadata": {},
   "outputs": [],
   "source": [
    "from transformers import pipeline\n",
    "\n",
    "summarizer = pipeline(\"summarization\", model=\"facebook/bart-large-cnn\")\n"
   ]
  },
  {
   "cell_type": "code",
   "execution_count": 86,
   "metadata": {},
   "outputs": [
    {
     "name": "stdout",
     "output_type": "stream",
     "text": [
      "146692_00_Constitution_Txt_2019_r1.indd  10 7/2/2019  1:56:39 PM 10 MAGNA CARTA \n",
      "sureties for the peace, or according to the judgment of the majority of them \n",
      "together with the aforesaid Stephen archibishop of Canterbury, if he can be present, and with others whom he may wish to associate with himself for this purpose. And if he can not be present, the affair shall nevertheless proceed without him; in such way that, if one or more of the said twenty fve barons shall be concerned in a similar complaint, they shall be re -\n",
      "moved as to this particular decision, and, in their place, for this purpose alone, others shall be substituted who shall be chosen and sworn by the remainder of those twenty fve. \n",
      "56. If we have disseized or dispossessed Welshmen of their lands or lib -\n",
      "erties or other things without legal judgment of their peers, in England or in Wales,—they shall straightway be restored to them. And if a dispute shall arise concerning this, then action shall be taken upon it in the March through judgment of their peers—concerning English holdings according to the law of England, concerning Welsh holdings according to the law of Wales, concerning holdings in the March according to the law of the March. The Welsh shall do likewise with regard to us and our subjects. \n",
      "57. But with regard to all those things of which any one of the Welsh \n",
      "was, by king Henry our father or king Richard our brother, disseized or dispossessed without legal judgment of his peers, which we have in our hand or which others hold, and for which we ought to give a guarantee: we shall have respite until the common term for crusaders. Except with regard to those concerning which a plea was moved, or an inquest made by our order, before we took the cross. But when we return from our pilgrimage, or if, by chance, we desist from our pilgrimage, we shall straightway then show full justice regarding them, according to the laws of Wales and the aforesaid districts. \n",
      "58. We shall straightway return the son of Llewelin and all the Welsh \n",
      "hostages, and the charters delivered to us as surety for the peace. \n",
      "59. We shall act towards Alexander king of the Scots regarding the res -\n",
      "toration of his sisters, and his hostages, and his liberties and his lawful right, as we shall act towards our other barons of England; unless it ought to be otherwise according to the charters which we hold from William, his father, the former king of the Scots. And this shall be done through judg -\n",
      "ment of his peers in our court. \n",
      "60. Moreover all the subjects of our realm, clergy as well as laity, shall, \n",
      "as far as pertains to them, observe, with regard to their vassals, all these aforesaid customs and liberties which we have decreed shall, as far as per -\n",
      "tains to us, be observed in our realm with regard to our own. \n",
      "61. Inasmuch as, for the sake of God, and for the bettering of our realm, \n",
      "and for the more ready healing of the discord which has arisen between us and our barons, we have made all these aforesaid concessions,—wishing them to enjoy for ever entire and frm stability, we make and grant to them the following security: that the barons, namely, may elect at their pleasure \n",
      "[{'summary_text': 'Welshmen who have been dispossessed of their lands without legal judgment of their peers, in England or in Wales, shall straightway be restored to them. All the subjects of our realm, clergy as well as laity, shall observe, with regard to their vassals, all these aforesaid customs and liberties which we have decreed. We shall act towards Alexander king of the Scots regarding the res -giantoration of his sisters, and his hostages. We will act towards our other barons of England; unless it ought to be otherwise.'}]\n"
     ]
    }
   ],
   "source": [
    "page=reader.pages[23]\n",
    "test_text=page.extract_text()\n",
    "print(test_text)\n",
    "#print(\"SUMMARY STARTS HERE\")\n",
    "#summary_text=get_response(test_text)\n",
    "print(summarizer(test_text, max_length=200, min_length=100, do_sample=False))\n",
    "#print(summary_text)"
   ]
  },
  {
   "cell_type": "code",
   "execution_count": 13,
   "metadata": {},
   "outputs": [
    {
     "name": "stdout",
     "output_type": "stream",
     "text": [
      "Collecting package metadata (current_repodata.json): done\n",
      "Solving environment: done\n",
      "\n",
      "\n",
      "==> WARNING: A newer version of conda exists. <==\n",
      "  current version: 4.11.0\n",
      "  latest version: 23.5.0\n",
      "\n",
      "Please update conda by running\n",
      "\n",
      "    $ conda update -n base conda\n",
      "\n",
      "\n",
      "\n",
      "## Package Plan ##\n",
      "\n",
      "  environment location: /home/nak3t/.conda/envs/BERTPython\n",
      "\n",
      "  added / updated specs:\n",
      "    - pdf2image\n",
      "\n",
      "\n",
      "The following packages will be downloaded:\n",
      "\n",
      "    package                    |            build\n",
      "    ---------------------------|-----------------\n",
      "    pdf2image-1.16.3           |     pyhd8ed1ab_0          16 KB  conda-forge\n",
      "    ------------------------------------------------------------\n",
      "                                           Total:          16 KB\n",
      "\n",
      "The following NEW packages will be INSTALLED:\n",
      "\n",
      "  pdf2image          conda-forge/noarch::pdf2image-1.16.3-pyhd8ed1ab_0\n",
      "\n",
      "\n",
      "\n",
      "Downloading and Extracting Packages\n",
      "pdf2image-1.16.3     | 16 KB     | ##################################### | 100% \n",
      "Preparing transaction: done\n",
      "Verifying transaction: done\n",
      "Executing transaction: done\n"
     ]
    }
   ],
   "source": [
    "!conda install -yc conda-forge pdf2image"
   ]
  },
  {
   "cell_type": "code",
   "execution_count": 15,
   "metadata": {},
   "outputs": [
    {
     "name": "stdout",
     "output_type": "stream",
     "text": [
      "Collecting package metadata (current_repodata.json): done\n",
      "Solving environment: done\n",
      "\n",
      "\n",
      "==> WARNING: A newer version of conda exists. <==\n",
      "  current version: 4.11.0\n",
      "  latest version: 23.5.0\n",
      "\n",
      "Please update conda by running\n",
      "\n",
      "    $ conda update -n base conda\n",
      "\n",
      "\n",
      "\n",
      "## Package Plan ##\n",
      "\n",
      "  environment location: /home/nak3t/.conda/envs/BERTPython\n",
      "\n",
      "  added / updated specs:\n",
      "    - pytesseract\n",
      "\n",
      "\n",
      "The following packages will be downloaded:\n",
      "\n",
      "    package                    |            build\n",
      "    ---------------------------|-----------------\n",
      "    pytesseract-0.3.10         |     pyhd8ed1ab_0          18 KB  conda-forge\n",
      "    ------------------------------------------------------------\n",
      "                                           Total:          18 KB\n",
      "\n",
      "The following NEW packages will be INSTALLED:\n",
      "\n",
      "  pytesseract        conda-forge/noarch::pytesseract-0.3.10-pyhd8ed1ab_0\n",
      "\n",
      "\n",
      "\n",
      "Downloading and Extracting Packages\n",
      "pytesseract-0.3.10   | 18 KB     | ##################################### | 100% \n",
      "Preparing transaction: done\n",
      "Verifying transaction: done\n",
      "Executing transaction: done\n"
     ]
    }
   ],
   "source": [
    "!conda install -yc conda-forge pytesseract"
   ]
  },
  {
   "cell_type": "code",
   "execution_count": 19,
   "metadata": {},
   "outputs": [
    {
     "name": "stdout",
     "output_type": "stream",
     "text": [
      "Collecting package metadata (current_repodata.json): done\n",
      "Solving environment: done\n",
      "\n",
      "\n",
      "==> WARNING: A newer version of conda exists. <==\n",
      "  current version: 4.11.0\n",
      "  latest version: 23.5.0\n",
      "\n",
      "Please update conda by running\n",
      "\n",
      "    $ conda update -n base conda\n",
      "\n",
      "\n",
      "\n",
      "## Package Plan ##\n",
      "\n",
      "  environment location: /home/nak3t/.conda/envs/BERTPython\n",
      "\n",
      "  added / updated specs:\n",
      "    - poppler\n",
      "\n",
      "\n",
      "The following packages will be downloaded:\n",
      "\n",
      "    package                    |            build\n",
      "    ---------------------------|-----------------\n",
      "    c-ares-1.19.1              |       hd590300_0         111 KB  conda-forge\n",
      "    cairo-1.16.0               |       hf32fb01_1         1.0 MB\n",
      "    curl-7.88.1                |       h5eee18b_0          88 KB\n",
      "    krb5-1.19.4                |       h568e23c_0         1.3 MB\n",
      "    libcurl-7.88.1             |       h91b91d3_0         383 KB\n",
      "    libedit-3.1.20221030       |       h5eee18b_0         181 KB\n",
      "    libgcc-ng-13.1.0           |       he5830b7_0         758 KB  conda-forge\n",
      "    libgomp-13.1.0             |       he5830b7_0         409 KB  conda-forge\n",
      "    libpq-12.9                 |       h16c4e8d_3         2.1 MB\n",
      "    libssh2-1.10.0             |       h8f2d780_0         274 KB\n",
      "    libxcb-1.15                |       h0b41bf4_0         375 KB  conda-forge\n",
      "    libzlib-1.2.13             |       hd590300_5          60 KB  conda-forge\n",
      "    ncurses-6.4                |       hcb278e6_0         860 KB  conda-forge\n",
      "    openjpeg-2.3.1             |       hf7af979_3         395 KB  conda-forge\n",
      "    openssl-1.1.1u             |       hd590300_0         1.9 MB  conda-forge\n",
      "    pixman-0.40.0              |       h36c2ea0_0         627 KB  conda-forge\n",
      "    poppler-0.81.0             |       h01f5e8b_2         9.2 MB\n",
      "    poppler-data-0.4.12        |       hd8ed1ab_0         2.2 MB  conda-forge\n",
      "    zlib-1.2.13                |       hd590300_5          91 KB  conda-forge\n",
      "    ------------------------------------------------------------\n",
      "                                           Total:        22.3 MB\n",
      "\n",
      "The following NEW packages will be INSTALLED:\n",
      "\n",
      "  c-ares             conda-forge/linux-64::c-ares-1.19.1-hd590300_0\n",
      "  cairo              pkgs/main/linux-64::cairo-1.16.0-hf32fb01_1\n",
      "  curl               pkgs/main/linux-64::curl-7.88.1-h5eee18b_0\n",
      "  libcurl            pkgs/main/linux-64::libcurl-7.88.1-h91b91d3_0\n",
      "  libev              conda-forge/linux-64::libev-4.33-h516909a_1\n",
      "  libnghttp2         pkgs/main/linux-64::libnghttp2-1.46.0-hce63b2e_0\n",
      "  libssh2            pkgs/main/linux-64::libssh2-1.10.0-h8f2d780_0\n",
      "  libzlib            conda-forge/linux-64::libzlib-1.2.13-hd590300_5\n",
      "  openjpeg           conda-forge/linux-64::openjpeg-2.3.1-hf7af979_3\n",
      "  pixman             conda-forge/linux-64::pixman-0.40.0-h36c2ea0_0\n",
      "  poppler            pkgs/main/linux-64::poppler-0.81.0-h01f5e8b_2\n",
      "  poppler-data       conda-forge/noarch::poppler-data-0.4.12-hd8ed1ab_0\n",
      "\n",
      "The following packages will be UPDATED:\n",
      "\n",
      "  krb5                     anaconda::krb5-1.17.1-h173b8e3_0 --> pkgs/main::krb5-1.19.4-h568e23c_0\n",
      "  libedit            anaconda::libedit-3.1.20191231-h14c39~ --> pkgs/main::libedit-3.1.20221030-h5eee18b_0\n",
      "  libgcc-ng                               9.3.0-h2828fa1_19 --> 13.1.0-he5830b7_0\n",
      "  libgomp                                 9.3.0-h2828fa1_19 --> 13.1.0-he5830b7_0\n",
      "  libpq                     anaconda::libpq-12.2-h20c2e04_0 --> pkgs/main::libpq-12.9-h16c4e8d_3\n",
      "  libxcb                                 1.13-h7f98852_1003 --> 1.15-h0b41bf4_0\n",
      "  ncurses                 pkgs/main::ncurses-6.2-he6710b0_1 --> conda-forge::ncurses-6.4-hcb278e6_0\n",
      "  openssl              pkgs/main::openssl-1.1.1t-h7f8727e_0 --> conda-forge::openssl-1.1.1u-hd590300_0\n",
      "  zlib                    pkgs/main::zlib-1.2.11-h7b6447c_3 --> conda-forge::zlib-1.2.13-hd590300_5\n",
      "\n",
      "\n",
      "\n",
      "Downloading and Extracting Packages\n",
      "libxcb-1.15          | 375 KB    | ##################################### | 100% \n",
      "krb5-1.19.4          | 1.3 MB    | ##################################### | 100% \n",
      "libpq-12.9           | 2.1 MB    | ##################################### | 100% \n",
      "cairo-1.16.0         | 1.0 MB    | ##################################### | 100% \n",
      "libedit-3.1.20221030 | 181 KB    | ##################################### | 100% \n",
      "poppler-data-0.4.12  | 2.2 MB    | ##################################### | 100% \n",
      "curl-7.88.1          | 88 KB     | ##################################### | 100% \n",
      "libcurl-7.88.1       | 383 KB    | ##################################### | 100% \n",
      "zlib-1.2.13          | 91 KB     | ##################################### | 100% \n",
      "libssh2-1.10.0       | 274 KB    | ##################################### | 100% \n",
      "ncurses-6.4          | 860 KB    | ##################################### | 100% \n",
      "openssl-1.1.1u       | 1.9 MB    | ##################################### | 100% \n",
      "poppler-0.81.0       | 9.2 MB    | ##################################### | 100% \n",
      "c-ares-1.19.1        | 111 KB    | ##################################### | 100% \n",
      "pixman-0.40.0        | 627 KB    | ##################################### | 100% \n",
      "libgomp-13.1.0       | 409 KB    | ##################################### | 100% \n",
      "libzlib-1.2.13       | 60 KB     | ##################################### | 100% \n",
      "openjpeg-2.3.1       | 395 KB    | ##################################### | 100% \n",
      "libgcc-ng-13.1.0     | 758 KB    | ##################################### | 100% \n",
      "Preparing transaction: done\n",
      "Verifying transaction: done\n",
      "Executing transaction: done\n"
     ]
    }
   ],
   "source": [
    "!conda install -yc conda-forge poppler"
   ]
  },
  {
   "cell_type": "code",
   "execution_count": null,
   "metadata": {},
   "outputs": [],
   "source": []
  },
  {
   "cell_type": "code",
   "execution_count": 25,
   "metadata": {},
   "outputs": [
    {
     "name": "stdout",
     "output_type": "stream",
     "text": [
      "20\n",
      "33 6 \n",
      "Page # 0 - Constitution\n",
      "of the\n",
      "\n",
      "State of Kansas\n",
      "\n",
      " \n",
      "\n",
      ". Slate Library of Kansas\n",
      "Visit htthZst/ibjntogkscon to print your own Kansas Constitution\n",
      "\n",
      "\n",
      "Page # 1 - Table of Contents\n",
      "\n",
      "Ordinance . . .\n",
      "Preamble . . .\n",
      "Kansas Bill of Rights . . .\n",
      "Article 1 . . .\n",
      "Article 2 . . .\n",
      "Article 3 . . .\n",
      "Article 4 . . .\n",
      "Article 5 . . .\n",
      "Article 6 . . .\n",
      "Article 7 . . .\n",
      "Article 8 . . .\n",
      "Article 9 . . .\n",
      "Article 10 . . .\n",
      "Article 11 . . .\n",
      "Article 12 . . .\n",
      "Article 13 . . .\n",
      "Article 14 . . .\n",
      "Article 15 . . .\n",
      "\n",
      "2\n",
      "\n",
      "OOUJUJ\n",
      "\n",
      "13\n",
      "18\n",
      "18\n",
      "19\n",
      "22\n",
      "23\n",
      "23\n",
      "23\n",
      "24\n",
      "29\n",
      "31\n",
      "32\n",
      "34\n",
      "\n",
      "Note: page numbers diﬁ‘er slight/yfrom packet size\n",
      "\n",
      "ing on the powers and duties of such ofﬁces, and (2) to adopt such other\n",
      "measures as may be necessary and proper for insuring the continuity of\n",
      "governmental operations including, but not limited to, the ﬁnancing\n",
      "thereof. In the exercise of the powers hereby conferred the legislature\n",
      "shall in all respects conform to the requirements of this constitution ex—\n",
      "cept to the extent that in the judgment of the legislature so to do would\n",
      "be impracticable or would admit of undue delay.\n",
      "\n",
      "§ 14: Oaths of state ofﬁcers. All state ofﬁcers before entering upon their\n",
      "respective duties shall take and subscribe an oath or afﬁrrnation to sup—\n",
      "port the constitution of the United States and the constitution of this\n",
      "state, and faithfully to discharge the duties of their respective ofﬁces.\n",
      "\n",
      "§ 15: Victims' rights.\n",
      "\n",
      "(a) Victims of crime, as deﬁned by law, shall be entitled to certain basic\n",
      "rights, including the right to be informed of and to be present at public\n",
      "hearings, as deﬁned by law, of the criminal justice process, and to be\n",
      "heard at sentencing or at any other time deemed appropriate by the court,\n",
      "to the extent that these rights do not interfere with the constitutional or\n",
      "statutory rights of the accused.\n",
      "\n",
      "(1)) Nothing in this section shall be construed as creating a cause of ac-\n",
      "tion for money damages against the state, a county, a municipality, or\n",
      "any of the agencies, instrumentalities, or employees thereof. The legisla-\n",
      "ture may provide for other remedies to ensure adequate enforcement of\n",
      "this section.\n",
      "\n",
      "(c) Nothing in this section shall be construed to authorize a court to set\n",
      "aside or to void a ﬁnding of guilty or not guilty or an acceptance of a\n",
      "plea of guilty or to set aside any sentence imposed or any other ﬁnal dis-\n",
      "position in any criminal case.\n",
      "\n",
      "§ 16: Marriage.\n",
      "\n",
      "(a) The marriage contract is to be considered in law as a civil contract.\n",
      "Marriage shall be constituted by one man and one woman only. All other\n",
      "marriages are declared to be contrary to the public policy of this state\n",
      "and are void.\n",
      "\n",
      "(b) No relationship, other than a marriage, shall be recognized by the\n",
      "state as entitling the parties to the rights or incidents of marriage.\n",
      "\n",
      "Updated 01/2020.\n",
      "\n",
      "38\n",
      "\n",
      "\n",
      "Page # 2 - county where the qualiﬁed electors of the county approve, by a majority\n",
      "vote of those voting on this proposition, to adopt this proposition, but\n",
      "such sales shall be limited to: (1) Public places where gross receipts from\n",
      "sales of food for consumption on the premises constitute not less than\n",
      "30% of the gross receipts from all sales of food and beverages on such\n",
      "premises; or (2) public places for which a temporary permit has been is—\n",
      "sued as authorized by law.\n",
      "\n",
      "At any subsequent general election, the legislature may provide by law\n",
      "for the submission of propositions to qualiﬁed electors of counties for:\n",
      "(l) The prohibition of sales of intoxicating liquor by the individual drink\n",
      "in public places within the county; (2) the regulation, licensing, taxing\n",
      "and sale of intoxicating liquor by the drink in public places within the\n",
      "county without a requirement that any portion of their gross receipts be\n",
      "derived from the sale of food; or (3) the regulation, licensing, taxing and\n",
      "sale of intoxicating liquor by the drink in public places within the county\n",
      "which derive not less than 30% of their gross receipts from the sale of\n",
      "food for consumption on the premises. Temporary permits for the sale of\n",
      "intoxicating liquor may be issued in any county in which the regulation,\n",
      "licensing, taxation and sale of intoxicating liquor by the drink in public\n",
      "places is approved pursuant to this section, but no temporary permit shall\n",
      "be issued for the sale of intoxicating liquor by the drink within any coun-\n",
      "ty in which the regulation, licensing, taxation and sale of intoxicating\n",
      "liquor by the drink in public places is prohibited.\n",
      "\n",
      "§ 11: Repealed.\n",
      "\n",
      "§ 12: Membership or nonmembership in labor organizations. No\n",
      "person shall be denied the opportunity to obtain or retain employment\n",
      "because of membership or nonmembership in any labor organization, nor\n",
      "shall the state or any subdivision thereof, or any individual, corporation,\n",
      "or any kind of association enter into any agreement, written or oral,\n",
      "which excludes any person from employment or continuation of employ-\n",
      "ment because of membership or nonmembership in any labor organiza—\n",
      "tron.\n",
      "\n",
      "§ 13: Continuity of state and local governmental operations. Not—\n",
      "withstanding any general or special provision of this constitution, the\n",
      "legislature, in order to insure continuity of state and local governmental\n",
      "operations in periods of emergency resulting from disasters caused by\n",
      "enemy attack, shall have the power and the immediate duty (1) to pro-\n",
      "vide for prompt and temporary succession to the powers and duties of\n",
      "public ofﬁces, of whatever nature and whether ﬁlled by election or ap—\n",
      "pointment, the incumbents of which may become unavailable for carry—\n",
      "\n",
      "37\n",
      "\n",
      "Ordinance\n",
      "\n",
      "WHEREAS, The government of the United States is the proprietor of a\n",
      "large portion of the lands included in the limits of the state of Kansas as\n",
      "deﬁned by this constitution; and,\n",
      "\n",
      "WHEREAS, The state of Kansas will possess the right to tax said lands for\n",
      "purposes of government, and for other purposes; Now, therefore,\n",
      "\n",
      "Be it ordained by the people of Kansas:\n",
      "\n",
      "That the right of the state of Kansas to tax such lands is relinquished forev-\n",
      "er, and the state of Kansas will not interfere with the title of the United\n",
      "States to such lands, nor with any regulation of congress in relation thereto,\n",
      "nor tax nonresidents higher than residents: Provided always, That the fol—\n",
      "lowing conditions be agreed to by congress:\n",
      "\n",
      "§ 1: School sections. Sections numbered sixteen and thirty-six in each\n",
      "township in the state, including Indian reservations and trust lands, shall be\n",
      "granted to the state for the exclusive use of common schools; and when\n",
      "either of said sections, or any part thereof, has been disposed of, other\n",
      "lands of equal value, as nearly contiguous thereto as possible, shall be sub-\n",
      "stituted therefore.\n",
      "\n",
      "§ 2: University lands. That seventy-two sections of land shall be granted\n",
      "to the state for the erection and maintenance of a state university.\n",
      "\n",
      "§ 3: Lands for public buildings. That thirty-six sections shall be granted\n",
      "to the state for the erection of public buildings.\n",
      "\n",
      "§ 4: Lands for benevolent institutions. That seventy-two sections shall\n",
      "be granted to the state for the erection and maintenance of charitable and\n",
      "benevolent institutions.\n",
      "\n",
      "§ 5: Salt springs and mines. That all salt springs, not exceeding twelve\n",
      "in number, with six sections of land adjacent to each, together with all\n",
      "mines, with the lands necessary for the full use, shall be granted to the state\n",
      "for works of public improvement.\n",
      "\n",
      "§ 6: Proceeds to schools. That ﬁve percentum of the proceeds of the\n",
      "public lands in Kansas, disposed of after the admission of the state into the\n",
      "union, shall be paid to the state for a fund, the income of which shall be\n",
      "used for the support of common schools.\n",
      "\n",
      "\n",
      "Page # 3 - § 7: School lands. That the ﬁve hundred thousand acres of land to\n",
      "which the state is entitled under the act of congress entitled \"An act to ap-\n",
      "propriate the proceeds of the sales of public lands and grant pre-emption\n",
      "rights,\" approved September 4th, 1841, shall be granted to the state for the\n",
      "support of common schools.\n",
      "\n",
      "§ 8: Selection of lands. That the lands hereinbefore mentioned shall be\n",
      "selected in such manner as may be prescribed by law; such selections to be\n",
      "subject to the approval of the commissioner of the general land ofﬁce of\n",
      "the United States.\n",
      "\n",
      "PREAMBLE\n",
      "\n",
      "We, the people of Kansas, grateful to Almighty God for our civil and reli-\n",
      "gious privileges, in order to insure the full enjoyment of our rights as\n",
      "American citizens, do ordain and establish this constitution of the state of\n",
      "Kansas, with the following boundaries, to wit: Beginning at a point on the\n",
      "western boundary of the state of Missouri, where the thirty-seventh parallel\n",
      "of north latitude crosses the same; thence running west on said parallel to\n",
      "the twenty-ﬁfth meridian of longitude west from Washington; thence north\n",
      "on said meridian to the fortieth parallel of north latitude; thence east on\n",
      "said parallel to the western boundary of the state of Missouri; thence south\n",
      "with the western boundary of said state to the place of beginning.\n",
      "\n",
      "KANSAS BILL OF RIGHTS\n",
      "\n",
      "§ 1. Equal rights. All men are possessed of equal and inalienable nat—\n",
      "ural rights, among which are life, liberty, and the pursuit of happiness.\n",
      "\n",
      "§ 2. Political power; privileges. All political power is inherent in the\n",
      "people, and all free governments are founded on their authority, and are\n",
      "instituted for their equal protection and beneﬁt. No special privileges or\n",
      "immunities shall ever be granted by the legislature, which may not be\n",
      "altered, revoked or repealed by the same body; and this power shall be\n",
      "exercised by no other tribunal or agency.\n",
      "\n",
      "§ 3. Right of peaceable assembly; petition. The people have the right\n",
      "to assemble, in a peaceable manner, to consult for their common good, to\n",
      "instruct their representatives, and to petition the government, or any de—\n",
      "partment thereof, for the redress of grievances.\n",
      "\n",
      "§ 4. Individual right to bear arms; armies. A per son has the right to\n",
      "\n",
      "personal and mixed, separate and apart from the husband; and shall also\n",
      "provide for their equal rights in the possession of their children.\n",
      "\n",
      "§ 7: Salaries reduced for neglect of duty. The legislature may reduce\n",
      "the salaries of officers, who shall neglect the performance of any legal\n",
      "duty.\n",
      "\n",
      "§ 8: Location of state capital. The temporary seat of government is\n",
      "hereby located at the city of Topeka, county of Shawnee. The ﬁrst legis-\n",
      "lature under this constitution shall provide by law for submitting the\n",
      "question of the permanent location of the capital to a popular vote, and a\n",
      "majority of all the votes cast at some general election shall be necessary\n",
      "for such location.\n",
      "\n",
      "§ 9: Homestead exemption. A homestead to the extent of one hun-\n",
      "dred and sixty acres of farming land, or of one acre within the limits of\n",
      "an incorporated town or city, occupied as a residence by the family of\n",
      "the owner, together with all the improvements on the same, shall be ex—\n",
      "empted from forced sale under any process of law, and shall not be alien—\n",
      "ated without the joint consent of husband and wife, when that relation\n",
      "exists; but no property shall be exempt from sale for taxes, or for the\n",
      "payment of obligations contracted for the purchase of said premises, or\n",
      "for the erection of improvements thereon: Provided, That provisions of\n",
      "this section shall not apply to any process of law obtained by virtue of a\n",
      "lien given by the consent of both husband and wife: And provided fur—\n",
      "ther, That the legislature by an appropriate act or acts, clearly framed to\n",
      "avoid abuses, may provide that when it is shown the husband or wife\n",
      "while occupying a homestead is adjudged to be insane, the duly appoint—\n",
      "ed guardian of the insane spouse may be authorized to join with the sane\n",
      "spouse in executing a mortgage upon the homestead, renewing or reﬁ—\n",
      "nancing an encumbrance thereon which is likely to cause its loss, or in\n",
      "executing a lease thereon authorizing the lessee to explore and produce\n",
      "therefrom oil, gas, coal, lead, zinc, or other minerals.\n",
      "\n",
      "§ 10: lntoxicating liquors.\n",
      "\n",
      "(a) The legislature may provide for the prohibition of intoxicating liquors\n",
      "in certain areas.\n",
      "\n",
      "(b) The legislature may regulate, license and tax the manufacture and\n",
      "sale of intoxicating liquors, and may regulate the possession and trans-\n",
      "portation of intoxicating liquors.\n",
      "\n",
      "(c) The sale of intoxicating liquor by the individual drink in public plac-\n",
      "es is prohibited, except that the legislature may permit, regulate, license\n",
      "and tax the sale of intoxicating liquor by the drink in public places in a\n",
      "\n",
      "36\n",
      "\n",
      "\n",
      "Page # 4 - gering thereon in any county in which: (a) A majority of the qualiﬁed\n",
      "electors of the county voting thereon approve this proposed amendment;\n",
      "or (b) the qualiﬁed electors of the county approve a proposition, by a\n",
      "majority vote of those voting thereon at an election held within the coun-\n",
      "ty, to permit such racing and wagering within the boundaries of the\n",
      "county. No off—track betting shall be permitted in connection with horse\n",
      "and dog racing permitted pursuant to this section.\n",
      "\n",
      "§ 3c: State-owned and operated lottery. Notwithstanding the provi—\n",
      "sions of section 3 of article 15 of the constitution of the state of Kansas,\n",
      "the legislature may provide for a state—owned and operated lottery, ex—\n",
      "cept that such state—owned lottery shall not be operated after June 30,\n",
      "1990, unless authorized to be operated after such date by a concurrent\n",
      "resolution approved by a majority of all of the members elected (or ap—\n",
      "pointed) and qualiﬁed of each house and adopted in the 1990 regular ses-\n",
      "sion of the legislature. The state shall whenever possible provide the\n",
      "public information on the odds of winning a prize or prizes in a lottery\n",
      "game.\n",
      "\n",
      "§ 3d. Regulation of “rafﬂes” authorized. Notwithstanding the provi—\n",
      "sions of section 3 of article 15 of the constitution of the state of Kansas,\n",
      "the legislature may authorize the licensing, conduct and regulation of\n",
      "charitable rafﬂes by nonproﬁt religious, charitable,\n",
      "\n",
      "fraternal, educational and veterans organizations. A rafﬂe means a game\n",
      "of chance in which each participant buys a ticket or tickets from a non—\n",
      "proﬁt organization with each ticket providing an equal chance to Win a\n",
      "prize and the winner being determined by a random drawing. Such or—\n",
      "ganizations shall not use an electronic gaming machine or vending ma-\n",
      "chine to sell tickets or conduct rafﬂes. No such nonproﬁt organization\n",
      "shall contract with a professional rafﬂe or other lottery vendor to man—\n",
      "age, operate or conduct any rafﬂe. Rafﬂes shall be licensed and regulat—\n",
      "ed by the Kansas department of revenue, ofﬁce of charitable gaming or\n",
      "successor agency.\n",
      "\n",
      "§ 4: Repealed.\n",
      "\n",
      "§ 5: Financial statements; publication. An accurate and detailed\n",
      "statement of the receipts and expenditures of the public moneys, and the\n",
      "several amounts paid, to whom, and on what account, shall be published,\n",
      "as prescribed by law.\n",
      "\n",
      "§ 6: Rights of women. The legislature shall provide for the protec—\n",
      "tion of the rights of women, in acquiring and possessing property, real,\n",
      "\n",
      "35\n",
      "\n",
      "keep and bear arms for the defense of self, family, home and state, for\n",
      "lawful hunting and recreational use, and for any other lawful purpose;\n",
      "but standing armies, in time of peace, are dangerous to liberty, and shall\n",
      "not be tolerated, and the military shall be in strict subordination to the\n",
      "civil power.\n",
      "\n",
      "§5. Trial by jury. The right oftrial byjury shall be inviolate.\n",
      "\n",
      "§ 6. Slavery prohibited; servitude for conviction of a crime. There\n",
      "shall be no slavery in this state; and no involuntary servitude, except for\n",
      "the punishment of crime, whereof the party shall have been duly convict—\n",
      "ed.\n",
      "\n",
      "§ 7. Religious liberty property qualiﬁcation for public ofﬁce. The\n",
      "right to worship God according to the dictates of conscience shall never\n",
      "be infringed; nor shall any person be compelled to attend or support any\n",
      "form of worship; nor shall any control of or interference with the rights\n",
      "of conscience be permitted, nor any preference be given by law to any\n",
      "religious establishment or mode of worship. No religious test or property\n",
      "qualiﬁcation shall be required for any ofﬁce of public trust, nor for any\n",
      "vote at any elections, nor shall any person be incompetent to testify on\n",
      "account of religious belief.\n",
      "\n",
      "§ 8. Habeas corpus. The right to the writ of habeas corpus shall not\n",
      "be suspended, unless the public safety requires it in case of invasion or\n",
      "rebellion.\n",
      "\n",
      "§ 9. Bail; ﬁnes; cruel and unusual punishment. All persons shall be\n",
      "bailable by sufﬁcient sureties except for capital offenses, where proof is\n",
      "evident or the presumption great. Excessive bail shall not be required,\n",
      "nor excessive ﬁnes imposed, nor cruel or unusual punishment inflicted.\n",
      "\n",
      "§ 10. Trial; defense of accused; witness against self; double jeopardy.\n",
      "In all prosecutions, the accused shall be allowed to appear and defend in\n",
      "person, or by counsel; to demand the nature and cause of the accusation\n",
      "against him; to meet the witness face to face, and to have compulsory\n",
      "process to compel the attendance of the Witnesses in his behalf, and a\n",
      "speedy public trial by an impartial jury of the county or district in which\n",
      "the offense is alleged to have been committed. No person shall be a wit-\n",
      "ness against himself, or be twice put in jeopardy for the same offense.\n",
      "\n",
      "§ 11. Liberty of press and speech; libel. The liberty ofthe press shall\n",
      "be inviolate; and all persons may freely speak, write or publish their sen-\n",
      "\n",
      "\n"
     ]
    }
   ],
   "source": [
    "# OCR READING \n",
    "\n",
    "import os\n",
    "from PIL import Image\n",
    "from pdf2image import convert_from_path\n",
    "import pytesseract\n",
    "\n",
    "\n",
    "\n",
    "\n",
    "reader = PdfReader('./data/constitution/KSConstitution.pdf')\n",
    "number_of_pages = len(reader.pages)\n",
    "print(number_of_pages)\n",
    "page = reader.pages[6]\n",
    "text = page.extract_text()\n",
    "print(text)\n",
    "\n",
    "\n",
    "filePath = './data/constitution/KSConstitution.pdf'\n",
    "doc = convert_from_path(filePath,fmt='jpeg')\n",
    "path, fileName = os.path.split(filePath)\n",
    "fileBaseName, fileExtension = os.path.splitext(fileName)\n",
    "\n",
    "for page_number, page_data in enumerate(doc):\n",
    "    txt = pytesseract.image_to_string(page_data)\n",
    "    print(\"Page # {} - {}\".format(str(page_number),txt))\n",
    "    if(page_number>3):\n",
    "        break\n",
    "\n"
   ]
  },
  {
   "cell_type": "code",
   "execution_count": 87,
   "metadata": {},
   "outputs": [],
   "source": [
    "#Reading Text files\n",
    "with open('./data/whatsapp/_chat.txt') as f:\n",
    "    contents = f.read()\n",
    "    #print(contents)\n",
    "    \n",
    "lines = contents.splitlines()"
   ]
  },
  {
   "cell_type": "code",
   "execution_count": 88,
   "metadata": {},
   "outputs": [
    {
     "name": "stdout",
     "output_type": "stream",
     "text": [
      "[5/17/23, 4:13:10 AM] 🏆B10-Stock Crypto&FX Center: ‎Messages and calls are end-to-end encrypted. No one outside of this chat, not even WhatsApp, can read or listen to them.\n"
     ]
    }
   ],
   "source": [
    "print(lines[0])"
   ]
  },
  {
   "cell_type": "code",
   "execution_count": 89,
   "metadata": {},
   "outputs": [
    {
     "name": "stdout",
     "output_type": "stream",
     "text": [
      "[5/17/23, 4:13:10 AM] 🏆B10-Stock Crypto&FX Center: ‎Messages and calls are end-to-end encrypted. No one outside of this chat, not even WhatsApp, can read or listen to them.\n",
      "[' 🏆B10-Stock Crypto&FX Center: \\u200eMessages and calls are end-to-end encrypted. No one outside of this chat, not even WhatsApp, can read or listen to them.', ' ~\\u202fH: \\u200e~\\u202fH created group “Stock Crypto FX B10”', ' 🏆B10-Stock Crypto&FX Center: \\u200e~\\u202fH added you', \" ~\\u202fH: \\u200e~\\u202fH changed this group's settings to allow only admins to edit this group's info\", \" ~\\u202fH: \\u200e~\\u202fH changed this group's settings to allow only admins to send messages to this group\", ' ~\\u202fH: \\u200e~\\u202fH changed the group description', ' ~\\u202fadmin: \\u200e~\\u202fadmin changed the subject to “🏆B10-Stock Crypto&FX Center”', \" ~\\u202fadmin: \\u200e~\\u202fadmin changed this group's settings to allow all participants to send messages to this group\", ' ~\\u202f\\u2068Jennifer Violet\\u2069: *🔥Welcome to Stk Crypto & FX Academy I am the assistant of this club, my name is Jennifer.*', '', '*⭕️Company name: IC Markets was established on January 30, 2007 and its business covers many countries. This is the Manhattan branch.*', '', \"*⭕️Over the years, IC has become one of the world's leading brokers. Our firm is multifaceted and multiregulatory, serving individuals, retailers and other clients worldwide. is one of the most famous foreign exchange CFD providers, providing trading solutions for active day traders and newcomers to the foreign exchange market.*\", ' ~\\u202f\\u2068Jennifer Violet\\u2069: ⭕️_*What the center can provide*', '*1, We provide the latest domestic investment projects and information for free for everyone to exchange and learn.*', '', '*2. There will be real-time analysis and discussions on investment markets such as stocks, cryptocurrencies, and foreign exchange in the club every day.*', '', '*3. We will share the investment methods and investment skills of popular investment products, so that everyone can become a qualified investor.*', '', '*4. We provide one-to-one services from a professional team of financial traders, allowing you to manage money easily and achieve wealth growth.*', '', \"*We hope that every member can enjoy every day in the trading center, learn more knowledge, and make investment fun and easy. I'm sorry if I bothered you. 🤝🏻🤝🏻🤝🏻*\", ' ~\\u202fBernie Mitchell: Who invited me to join?', ' ~\\u202fChrissie: Same problem, when I wake up from sleep, I come here....', ' ~\\u202fAnthony Campbell: Lol looks like they are an investment company.', ' ~\\u202f\\u2068Jennifer Violet\\u2069: *Yes, sorry again for inviting you to our group without your consent. . .*', '*In fact, under the background of inflation, bank crisis, and debt crisis, many investment companies have invested their strategic direction in the Internet. Because it can serve more users or attract more users to become our members. .*', ' ~\\u202fNoel Torres: Have to say, you are very honest. I will continue to pay attention. Should I call you Jennifer Or Violet?', ' ~\\u202fNahum Daniels: 1. What is your purpose?', '2. Is there a fee?', '3. What is the function of this group?', 'please answer my question', ' ~\\u202f\\u2068Jennifer Violet\\u2069: *Friends call me Jane. Let me introduce the purpose of our group:*', '', '*The purpose of our cooperation is to make money together! because*', \"*1. Many investors don't have enough time to manage their funds*\", '*2. Many investors are unprofessional in their analysis of the stock market, cryptocurrency and foreign exchange markets, resulting in losses*', '*3. There are many friends who want to learn how to invest, but they have no channel*', '', '*So, our company regularly creat new investment clubs and invites new friends to join. Our analysts will share the latest information and trading signals of all investment markets in the club for free every day. And some investment-related knowledge and technical indicators. Believe me, these signals are more than 90% accurate*', '', \"*You can free to choose whether to join our team, and we will guide you how to buy and sell. We only charge 10% of your profits as company's commission*\", ' ~\\u202fNoel Torres: I will review first, if goes well, I will think about it.', ' ~\\u202fNahum Daniels: Me too, Jane. Thanks But the stock market sucks right now. .', ' ~\\u202fAngus Robinson: 10% of the profit? Provide trading signals?charge every time?', ' ~\\u202fJennifer Violet: *Not yet. Our cooperation is 21 days for a cycle. we will charge per 21days after partnership.**', \"*For example: You cooperate with us today, select stocks according to our analyst's recommendation, and after 21 days, to June 3rd, you made $50,000. Then you need to pay us 5000 fee*\", '', \"*We just charged after you make money, and you don't need to consider joining now. Just need to continue to observe us. Free to choose whether to join!*\", ' ~\\u202fAngus Robinson: Indeed. so many investing companies work this way, are you sure only 10% fees?', ' ~\\u202fMartin Roberts: What product? How does it work?', ' ~\\u202fCelia: Is this an investment group about cryptocurrencies?', ' ~\\u202fAngus Robinson: They provide trading signals for any investment market, and after the 21st day after making money, they then charge us 10% of the profit in return. Just my opinion🤔', \" ~\\u202fJennifer Violet: *Yes, that's exactly right. I think you can keep following us and expand your horizons. When you think that our analysts are very competent, then you are free to join us. Everything is free until you make money.*\", ' ~\\u202fMartin Roberts: There are too many investment clubs these days', ' ~\\u202fWayne Adams: About Stock Trading?', ' ~\\u202fJennifer Violet: *Yes so many investment clubs created now, because this is the future development trend of investment companies. But our company is very advantageous and competitive*', '', '*1. Our company was established in 2007. The strength of analysts is reliable. We already have a large number of member users in other investment club groups. *', '*2. We can provide better services for all investors. We will choose investment products according to your investment preferences.*', \"*3. Our cooperation method is very advantageous. You don't need to pay any fees before you trade with our trading signals to make money*\", ' ~\\u202fAngus Robinson: OK. If you can impress me. I will consider', ' ~\\u202fJennifer Violet: *Of course, our analyst Michael Wall is already at work. Next, we will share the latest information and trading strategies about the stock, Forex and cryptocurrency investment markets in our club.*', '', '*Since we have investors from different products in the club, we can have an active discussion. Tell Mr. Michael what you want to know.*', ' ~\\u202fBernie Mitchell: Its already very comprehensive. I am very interested in stocks and foreign exchange', ' ~\\u202fTheodoric Nguyen: Stock sucks lol', \" ~\\u202fDoreen: Hi , I'm a new. want know what products are suitable for investment\", ' ~\\u202fGracie Morales: Same, in fact, I have been disappointed in the stock market. Now focus on real estate and gold investments', \" ~\\u202fWayne Adams: Don't be so pessimistic, any investment market has good times and bad times. lol\", \" ~\\u202fTheodoric Nguyen: Haven't seen your analysis here yet🤔\", ' ~\\u202fJennifer Violet: *Mr. Michael will be reading the messages you all send, and I think he will be here soon*', '', '*You can still follow the quality stocks that Mr. Michael recommended on Monday: MU, CRM, ZM and TW, TKOMY*', '', \"*These are the stocks that Mr. Michael picked. And it's short term because there are a lot of risky events this week. Today Biden meets with House Speaker McCarthy and other congressional leaders to discuss the debt ceiling.*\", '', '*The debt crisis is the focus of attention this week. I think Mr. Michael will talk about that. If you want to buy, it can only be in the short term.*', ' ~\\u202fBernie Mitchell: That makes sense. Show me the income of the stocks you recommend first.🤔', ' ~\\u202fJennifer Violet: *On Monday we recommended 5 stocks. One of them, MU, rose 6.34% yesterday.😎*', '\\u200e ~\\u202fJennifer Violet: \\u200eimage omitted', \" ~\\u202fBernie Mitchell: Wow. I think I'm missing good stocks.\", \" ~\\u202fJennifer Violet: *That's okay, Mr. Michael will often share quality stock in the club. All of them are free. It's okay even if you don't buy, it's a testament to Mr. Michael's strength isn't it.😁*\", ' ~\\u202fMichael Wall: *Hello every investors. This is Wall, analyst at this investment club, and I am honored to be your trader first. I promise that in the club, I will teach everyone about investment knowledge and professional trading guidance without reservation. At the same time, I am also very confident to lead everyone to make money. This is my area of expertise.🙏🏻*', ' ~\\u202fBernie Mitchell: Is there any stock recommendation for tomorrow?', \" ~\\u202fMichael Wall: *Generally, I recommend that you buy the stocks I recommend on the same day. If you haven't bought one before, don't buy it just yet. Yesterday, Biden and the House of Representatives held a meeting on the debt ceiling. This will be the focus of all investment markets.*\", ' ~\\u202fTheodoric Nguyen: Wow, welcome, Mr. Wall', \" ~\\u202fAnthony Campbell: Nice to meet you. I'm Anthony. Professional stock investor from Pennsylvania.🍺\", ' ~\\u202fMichael Wall: *Great, it seems you have a unique vision. Real estate and gold investments are good now.*', ' ~\\u202fAnthony Campbell: Thank you for reading my message', ' ~\\u202fBernie Mitchell: I am also a professional stock investor', ' ~\\u202fDoreen: Are real estate and gold investing great? Really?', \" ~\\u202fMichael Wall: *Our company's Information Collection Department records the latest news about investment preferences. And there is a market view from the statistics of many institutions:*\", '', '*The view that gold is the best long-term investment jumped to 26 percent from 15 percent last year, the highest level since 2012.*', '', '*Gold has overtaken stocks as the second most popular investment and is close to taking the No. 1 spot, with more than a quarter of Americans viewing gold as the best long-term investment. The most favored long-term investment asset is still real estate, but according to the latest Gallup poll, support for real estate has fallen sharply from a record 45% last year to 34% this year.*', ' ~\\u202fDoreen: Cool, how to trade gold, let me know', ' ~\\u202fTheodoric Nguyen: My friend told me about this and  he said gold has good profits, should be T+0 transaction.', ' ~\\u202fBob Stone: Mr Michael, BTC has risen a lot this year, can I continue to buy it?', \" ~\\u202fAngus Robinson: I think it's risky.\", ' ~\\u202fMichael Wall: *Cryptocurrencies are worth investing in for each of us.*', '', '*Currently shows a significant increase in trading activity on cryptocurrency exchanges. Investors in the current cryptocurrency market still maintain high confidence!*', '', \"*And cryptocurrencies have ushered in more diversified trading methods, such as: Coinbase's cryptocurrency portfolio. Contract cryptocurrencies.*\", '*Contract cryptocurrency is more popular because it can be traded intraday, using lower transactioncosts.*', ' ~\\u202fAnthony Campbell: Wow, that sounds good.', ' ~\\u202fAngus Robinson: Any market is worth investing in, of course, you must have your own broker, they are professional.', ' ~\\u202fJennifer Violet: *Correct. It seems that there are many friends in our club who are investing😊*', ' ~\\u202fMartin Roberts: Will you guide us to trade foreign exchange? I am investing in Forex', ' ~\\u202fMichael Wall: *Yes, trade based on what you are currently investing in. I am good at market analysis of stocks, foreign exchange, and cryptocurrencies. I also plan to lead you to trade these later. Of course, it must be after everyone has learned their trading principles.*', ' ~\\u202fMartin Roberts: Nice. If you can take me to trade foreign exchange and make money. I am willing to pay 20% return on income.🙏🏻🙏🏻🙏🏻🙏🏻', \" ~\\u202fMichael Wall: *Unnecessary. We only charge 10%, which is the company's policy.*\", ' ~\\u202fMartin Roberts: Thank you so much.', ' ~\\u202fBob Stone: Hello, I have heard a lot of friends talking about it recently. Can you explain about the \"debt crisis\"? What is the impact on the stock market?', ' ~\\u202fBernie Mitchell: The government is out of money. Talk about printing more money.', ' ~\\u202fBob Stone: OMG, they keep printing money now that inflation is so bad?', ' ~\\u202fNahum Daniels: \\u200e~\\u202fadmin removed ~\\u202fNahum Daniels', ' ~\\u202fChrissie: \\u200e~\\u202fadmin removed ~\\u202fChrissie', \" ~\\u202fMichael Wall: *The government has nothing to do. This crisis is the aftermath of the Fed's continued interest rate hikes and, of course, bank failures. The banking crisis still exists until now. Let me explain to you how it works.*\", ' ~\\u202fMichael Wall: *The Ministry of Finance of our country issues bonds on behalf of the federal government—we call them U.S. bonds, which can be purchased by individuals, institutions, companies, and foreign investors in our country.*', '', '*Another important holder of U.S. debt is the \"Federal Reserve\", which is the central bank of our country. The Federal Reserve itself does not engage in the deposit-taking business of ordinary commercial banks. In other words, the Fed\\'s money is printed by itself, and only the Fed has the right to issue U.S. dollars in the world.*', '', \"*But the Fed said, I can't issue dollars out of thin air. People all over the world must feel that the mechanism for issuing U.S. dollars is rigorous, scientific, and formal. Behind the issuance of U.S. dollars, there must be a reliable collateral or anchor.*\", '', '*Therefore, the Ministry of Finance of our country **stated that the future fiscal revenue of the federal government of our country will be used as a *guarantee to issue treasury bonds, and the Federal Reserve will print money to buy them.*', '', '*In this way, our government has money to spend, and the Federal Reserve has also realized the power to print dollars. More importantly, when the national debt expires, the Ministry of Finance of our country will return the money to the Federal Reserve. Or the Federal Reserve sells the U.S. bonds it holds to those in need, and gets back the money it printed before.*', '', '*Such a round of operations has formed a closed loop-the Fed does not seem to be printing dollars out of thin air. The U.S. dollars issued now will be returned by the Ministry of Finance of our country in the future, so it will be offset.*', ' ~\\u202fBernie Mitchell: I find your explanation very interesting.😂', ' ~\\u202fMartin Roberts: Yes, Mr. Wall is very humorous.😁😁', ' ~\\u202fBob Stone: Understand that printing money will lead to increased inflation, causing the dollar to depreciate. How does it affect stocks?', ' ~\\u202fBernie Mitchell: If everyone knows that inflation has intensified, they will definitely withdraw money from the stock market to guard against unknown risks. Just personal opinion.', ' ~\\u202fMichael Wall: *Yes, we can be patient for now. I will keep an eye on other markets that*', \" ~\\u202fAnthony Campbell: When the dollar falls, gold rises. I'm investing in gold, what price do you think gold will go to?\", ' ~\\u202fBob Stone: How about gold investment income?', \" ~\\u202fMichael Wall: *Gold is really good, and I've been paying attention to it lately. Intense volatility.*\", ' ~\\u202fDoreen: Nice, can I trade gold here?', ' ~\\u202fBernie Mitchell: It is best not to trade it until you are not familiar with how it works.', ' ~\\u202fMichael Wall: *Yes, I will share with you the current situation in all markets in the next few days. I plan to share what I know about picking quality stocks tomorrow.*', \" ~\\u202fDoreen: Really? that's great\", \" ~\\u202fNoel Torres: Great club, I'm in other investing groups and they just know deal, deal, deal😂\", ' ~\\u202fBernie Mitchell: Indeed, Mr Wall is very selfless', \" ~\\u202fMichael Wall: *Don't worry, as I said, I will share my investment skills without leaving any room. In my opinion, in order to attract everyone to join, at least let everyone know how to make money in the investment market.*\", ' ~\\u202fBernie Mitchell: Correct. I like here. Everything here is great and Jennifer is very professional. honest.', ' ~\\u202fGracie Morales: I have a question. Why does Mr. Michael lead us to invest and help us?', ' ~\\u202fJennifer Violet: *Let me introduce the purpose of our group:*', '', '*The purpose of our cooperation is to make money together! because*', \"*1. Many investors don't have enough time to manage their funds*\", '*2. Many investors are unprofessional in their analysis of the stock market, cryptocurrency and foreign exchange markets, resulting in losses*', '*3. There are many friends who want to learn how to invest, but they have no channel*', '', '*So, our company regularly creat new investment clubs and invites new friends to join. Our analysts will share the latest information and trading signals of all investment markets in the club for free every day. And some investment-related knowledge and technical indicators. Believe me, these signals are more than 90% accurate*', '', \"*You can free to choose whether to join our team, and we will guide you how to buy and sell. We only charge 10% of your profits as company's commission*\", \" ~\\u202fGracie Morales: Miss Jennifer, I see. Don't worry about this. If Mr. Michael can lead us to invest and make money, I will definitely support you. Join your team.\", ' ~\\u202fBob Stone: Yes, this is correct. When we invest with Mr. Michael, if we can make a profit and gain some knowledge, we will definitely support Mr. Michael.', \" ~\\u202fJennifer Violet: *If you guys want to get trading signals for tomorrow , or you want to learn about these investments, please contact me. I'll let you know our trading signals tomorrow.*\", '\\u200e ~\\u202fJennifer Violet: \\u200eContact card omitted', ' ~\\u202fBobadhur: \\u200eThis message was deleted by admin ~\\u202fadmin.', ' ~\\u202fBobadhur: \\u200e~\\u202fadmin removed ~\\u202fBobadhur', ' ~\\u202fJennifer Violet: *🔥Welcome to Stk Crypto & FX Academy I am the assistant of this club, my name is Jennifer.*', '', '*⭕️Company name: IC Markets was established on January 30, 2007 and its business covers many countries. This is the Manhattan branch.*', '', \"*⭕️Over the years, IC has become one of the world's leading brokers. Our firm is multifaceted and multiregulatory, serving individuals, retailers and other clients worldwide. is one of the most famous foreign exchange CFD providers, providing trading solutions for active day traders and newcomers to the foreign exchange market.*\", ' ~\\u202fJennifer Violet: *1, We provide the latest domestic investment projects and information for free for everyone to exchange and learn*', '', '*2. There will be real-time analysis and discussions on investment markets such as stocks, cryptocurrencies, and foreign exchange in the club every day.*', '', '*3. We will share the investment methods and investment skills of popular investment products, so that everyone can become a qualified investor*', '', '*4. We provide one-to-one services from a professional team of financial traders, allowing you to manage money easily and achieve wealth growth*', '', \"*We hope that every member can enjoy every day in the trading center, learn more knowledge, and make investment fun and easy. I'm sorry if I bothered you.*\", ' ~\\u202fGracie Morales: Do you have a recommendation for a stock today?', ' ~\\u202fJudith: Same, my friend invited me to join this club. I was wondering if you have any good stock recommendations for today?', ' ~\\u202fJennifer Violet: *Welcome to the club, you can follow the information of the club. On Monday, Mr. Michael shared the quality value stocks in the club. And there are very good income returns. Our group will provide free value stock recommendations every day.*', \" ~\\u202fJennifer Violet: *Thursday's early trading was mixed, with the Dow down more than 100 points. Traders hope the debt ceiling crisis will be resolved soon. Last week's lower-than-expected initial jobless claims showed the labor market remains tight.*\", '', '*Hopes for a possible debt ceiling deal increased, giving a boost to stock indexes, and there was good feedback from the market on Thursday*', \"*On Thursday's economic data front, the U.S. Labor Department reported that initial jobless claims for the week ending May 13 came in at 242,000, compared to 254,000 expected and 264,000 previously. The number of continuing unemployment claims fell to 1.799 million, compared to market expectations of 1.829 million. Better for the market*\", '*Trading strategy: market trading sentiment is still tense, still recommend cautious trading, for **individual traders, I recommend waiting for inflation and interest rate cut events after the results in trading*', '', '*Stocks in focus : MU QCQM ZM*', \" ~\\u202fJennifer Violet: *The above are Mr. Michael's views on today's market. He will find some short-term stocks to share in the group. If any investor likes to buy short-term stocks, please contact me, and I will tell you Mr. Michael's recommendation.*\", '\\u200e ~\\u202fJennifer Violet: \\u200eContact card omitted', ' ~\\u202fAnthony Campbell: Indeed, the stock market is now a good day and a bad day. lol', ' ~\\u202fWayne Adams: I think this is just a false appearance, just like Monday, only the financial in the rise, it seems that the overall situation is solid, but most of the stocks do not have more power to rise, it is difficult to make money🤔', ' ~\\u202fAngus Robinson: It’s hard to make money now from stock. Lol', ' ~\\u202fJennifer Violet: *I think we should not be sad. We should keep mindset. Investing is to increase the value of our assets*', '', '*If you think that any market is profitable, then you should not regret anything that happens next. Cuz this is the market we chose for ourselves!*', '', '*Every market will have its good times and bad. Then all we have to do is learn more and communicate more. When you understand the movements of each market, you will always take advantage of opportunities!*', '', \"*That's exactly why our club exists. We want all those who invest at the same time to have a group of like-minded friends to learn and grow with.*\", ' ~\\u202fNoel Torres: Why so many investment companies create investment clubs now?', ' ~\\u202fJennifer Violet: *In fact, under the background of inflation, bank crisis, and debt crisis, many investment companies have invested their strategic direction in the Internet. Because it can serve more users or attract more users to become our members. .*', ' ~\\u202fNoel Torres: How to charge?', ' ~\\u202fJennifer Violet: *Our cooperation is very simple.*', '*1. We provide accurate buying and selling trading signals.*', '*2. The markets that make money mainly include the stock market, cryptocurrency, and foreign exchange. *', '*3. During the cooperation period, you need to send me screenshots of every money you make. You must strictly follow our instructions to trade.*', '*4. The fee is paid after the 21st day after the start of the transaction, and you need to pay 10% of your total income for our company. *', ' ~\\u202fNoel Torres: I agree with this kind of cooperation, but I have to observe the strength of your club first!', ' ~\\u202fJennifer Violet: *It is hard to make money in the stock market now. Because our country is facing many problem. As far as I know, many individual investors are in a state of loss. We hope that through such cooperation, we can achieve mutual benefit and win-win results*', ' ~\\u202fAngus Robinson: Yes, we have to spend much time collection and analysis of market  no more time to pay attention others.', ' ~\\u202fWayne Adams: agree', ' ~\\u202fCelia: Is everyone in this group a professional stock investor?', ' ~\\u202fJennifer Violet: *There are many friends in this group who are learning to invest in stocks, as well as friends who are investing in foreign exchange and BTC.*', ' ~\\u202fCelia: Great. I will continue to pay attention.', \" ~\\u202fTheodoric Nguyen: I don't have time management for investing, all managed by my broker.😎\", \" ~\\u202fWayne Adams: I have to say, the way you work together is very attractive. I think I'll keep observe\", ' ~\\u202fJennifer Violet: *As I said. The purpose of this group is to*', '*1. Many investors do not have enough time to manage their money.*', '*2. Many investors have unprofessional analysis of the stock market and foreign exchange market, resulting in losses*', '*3. There are many friends who want to learn investment, but there is no chance.*', '', '*Therefore, we have opened the Equity Forex Club. When you recognize the strength of our company, you can consider joining. We will not force anyone to buy our stock.*', ' ~\\u202fWayne Adams: Understand', \" ~\\u202fBernie Mitchell: It is also fate that we can be in a club. It makes me feel like I'm not alone in investing in stocks.🍺\", ' ~\\u202fTheodoric Nguyen: Well. I think I will follow the information of your club.', '\\u200e ~\\u202fJennifer Violet: \\u200eimage omitted', ' ~\\u202fJennifer Violet: *Wow, everyone can see this stock.😱*', '*We recommended technology stocks on Monday, MU we launched on Monday at 11 am with a price of about 63, until Thursday, the latest price of MU is 68.4, if you buy on Monday, the gain is now 8.6%*', ' ~\\u202fJudith: OMG, what did I miss. .', ' ~\\u202fBernie Mitchell: Nothing to regret. I looked at the line chart of the cryptocurrency and it has better volatility. I look forward to investing in cryptocurrencies.', \" ~\\u202fWayne Adams: Bad day, I feel like I'm losing money on my stocks again!.😔\", ' ~\\u202fBernie Mitchell: What stocks did you buy? The stock market is not bad today.', ' ~\\u202fWayne Adams: ATO', ' ~\\u202fBernie Mitchell: Technology and energy stocks, I think you can continue to hold them.🤔', '\\u200e ~\\u202fMichael Wall: \\u200eimage omitted', ' ~\\u202fMichael Wall: *You can pay attention I marked. Energy stocks have always been a hot spot for everyone to pay attention to, but novices are not recommended to trade them, because now affected by the domestic banking incident, energy stocks that have risen rapidly in the early stage may be under selling pressure , So the stock price can not continue to rise, and the stock has been in a market that fluctuates in the box, which means that the energy for breaking up is insufficient. Last week, it started to break upwards and was blocked, facing the pressure of a callback. Pay **attention to the lower support price of 111-112. If it breaks down, the risk is greater*', \"*Suggested operation: operate according to your average value. If the position doesn't exceed 30% and the loss is not large, it is recommended to wait patiently, keep calm, and don't rush to increase the position to avoid greater losses*\", ' ~\\u202fWayne Adams: Wow. Astonishing. Thanks for your analysis.', ' ~\\u202fJudith: Here provide free stock diagnosis?', ' ~\\u202fMichael Wall: *Of course, any stock can contact me for consultation.*', '*I am going to share some of my stock picking *methods and techniques in the club today. I hope it can be helpful to everyone*', ' ~\\u202fBernie Mitchell: Wow, thank you for sharing your stock picking experience and method with us.', ' ~\\u202fNoel Torres: Thank you for following our information.🙏🏻', \" ~\\u202fMichael Wall: *Now I'm free. Started to share some methods and tips about my stock picking in the club. I hope it will be helpful to everyone.*\", ' ~\\u202fWayne Adams: 🙏', ' ~\\u202fMichael Wall: *In fact, the method of stock trading is simple. The first thing that needs to be determined is the general economic environment  and the economic environment of our country.*', '*Second, there are clear trading techniques and methods.*', '*Third, a good trading mentality.*', ' ~\\u202fWayne Adams: What we are missing at the moment are trading skills and methods.😁', ' ~\\u202fBernie Mitchell: If you get the first two points you said, I think the last point will come naturally.', ' ~\\u202fMichael Wall: *First of all, we need to clearly understand the current global situation. Everyone should be very clear that our country is the largest economy in the world, and the development of our country affects the whole world.*', '', '*However, our country is currently facing serious problems. Inflation, bank failure crises, debt crises, etc.*', ' ~\\u202fJudith: *The last time I bought this roasted chicken breast was 4/1/23 now the price /lb is 11.99 ! Only 2 years it doubled!*', ' ~\\u202fWayne Adams: This is the effect of inflation.', ' ~\\u202fJudith: I’m just giving you one example ! To mention gas, I never forgot when people are mad about the price of eggs 🙃', ' ~\\u202fMichael Wall: *So in the current domestic environment, we want to make a profit in the stock market. Can only do short-term trading.*', '*Stock index prices will remain low this year. Influenced by Fed policy. We carefully decipher the daily news of the market, find trading direction from it, and then use our trading skills to find trading opportunities. The market is simple, but the complex is what the human brain thinks.*', ' ~\\u202fAngus Robinson: Meaning, you also think stocks are not suitable for value investing today?', ' ~\\u202fBernie Mitchell: The best way to trade stocks now is to look for them from hot spots. Then wait patiently for the time when it starts to start to rise and buy. Making money in the stock market is tough right now.', ' ~\\u202fMichael Wall: *There are good times and bad times in any market. The stock market is just temporarily unsuitable for value investing.*', \"*Tomorrow, I will tell you about the current status of the stock market. Let's first look at how we should choose a profitable stock in such an environment.*\", ' ~\\u202fJudith: My friend made a lot of money investing in BTC this year. Is it possible to invest in BTC here?', ' ~\\u202fJudith: OK', ' ~\\u202fHenrietta: Sounds good.', ' ~\\u202fMichael Wall: *First, the price of the selected stock must be on the 21-week line; second, its price must be on the 21-week line for 4 consecutive weeks.*', '*Likewise, the 21-week line is trending up.*', '*Finally, it is concluded and confirmed based on information such as stock fundamentals and 114 stock indicators  and other information.*', '*Note: Selected stocks must have at least the first three points to be considered. Otherwise, keep looking for stocks that meet this requirement.*', ' ~\\u202fAnthony Campbell: So these three points must be considered first, right?', ' ~\\u202fGracie Morales: It would be better if you just tell me how to buy it', \" ~\\u202fMichael Wall: *That's okay, today's lesson should be understood by professional investors. We still have a long time together. In the future I will tell you how to make trading signals. Real-time trading signal production.*\", ' ~\\u202fMichael Wall: *2. Select the point of purchase *', '*Selected stocks typically make their first price lows in the fifth or sixth week after the 21-week line. But this low must meet a requirement to be considered a buy.*', '*1. The low price is not only on the 21-week line, but also on the 21-day line.*', '*2. Both the 21-week line and the 21-day line must be trending up.*', '*The formula to calculate the buy point.*', '*One. If your financial ability and risk tolerance are high: the maximum size of the buy point is no higher than the 21-week line price * 1.03*', '*b. If cautious and conservative: the best size of the buy point is the 21-week line price + 0.05 to 0.11*', \" ~\\u202fAnthony Campbell: Mr. Wall, if I don't know such things as moving averages and technical indicators, how can I choose?\", \" ~\\u202fBernie Mitchell: If you can't even read the basic technical indicators, then you need to learn more, or you will lose money in the stock market in the future.\", ' ~\\u202fMichael Wall: *To summarize:*', '*Select the characteristics of the stock. When the 21-week line rises and the 55-week line also shows an upward trend, resolutely buy in large quantities.*', '*For example, when the 21-week line shows a downward trend, it is an opportunity to liquidate stocks.*', '', \"*Today, I share my tips on swing trading. If you don't understand anything, you can send me a text message directly. I will reply as soon as possible. I hope that all members here can avoid losses starting today.*\", ' ~\\u202fMartin Roberts: In fact, I am more looking forward to Mr. Michael sharing with us about foreign exchange😁', \" ~\\u202fMichael Wall: *I will. That's all for today's sharing. I hope everyone can gain something. I will share more about the knowledge of stock selection in the future.*\", '*Because the most difficult thing for us to trade stocks is how to choose stocks.*', ' ~\\u202fAngus Robinson: Although we did not make any money in the stock market, I am very happy to have learned some stock expertise here.😂', ' ~\\u202fJudith: Thank you very much!', ' ~\\u202fAnthony Campbell: Thank you, thank you for taking time out of your busy schedule to share your knowledge with us.', ' ~\\u202fJennifer Violet: *Mr. Michael specializes in many fields, such as stocks, foreign exchange, cryptocurrency, gold, and crude oil.*', '*Of course, if you currently encounter investment problems in any market, you can send me a message.*', \"*I'll show you how to trade these.*\", '\\u200e ~\\u202fJennifer Violet: \\u200eContact card omitted', ' ~\\u202fJudith: Do you have stock recommendations for tomorrow?', \" ~\\u202fAngus Robinson: I think it's harder. The stock market is not ideal right now. It's hard to find profitable stocks.\", ' ~\\u202fJennifer Violet: *Mr. Michael will be in the club tomorrow to analyze how we trade based on the current situation of the stock market. You can discuss this in the group tomorrow.*', ' ~\\u202fMartin Roberts: Will you share how to trade foreign exchange? I want to invest in foreign exchange.', ' ~\\u202fJennifer Violet: *Foreign exchange and cryptocurrency investment are markets that Mr. Michael has always been optimistic about. He will explain this in the club.*', ' ~\\u202fMartin Roberts: OK', ' ~\\u202fJennifer Violet: *Mr. Michael specializes in many areas, such as stocks, forex, cryptocurrencies, gold, crude oil, etc.*', '*Of course, if you are currently having trouble *investing in any market, you can send me a message.*', '*I will show you how to trade these.*', '\\u200e ~\\u202fJennifer Violet: \\u200eContact card omitted', ' ~\\u202fJennifer Violet: *The three major indexes collectively rose. As of press time, the S&P 500 rose 0.28%, the Nasdaq rose 0.23%, and the Dow rose 0.07%.*', '', '*All three major stock indexes are likely to post gains this week. The S&P 500 rose 1.8% in the four sessions Monday through Thursday, on track for its biggest weekly gain since March. The Nasdaq rose 3.3% over the same period, also on track for its biggest weekly gain since March. The Dow rose 0.7%.*', '', '*With a debt crisis looming over the U.S., the Biden administration is warning, both publicly and privately, about the consequences of a default and the risks of reaching a last-minute deal. Treasury Secretary Janet Yellen warned U.S. bankers on Thursday that a debt default would have repercussions beyond the financial system.*', '*\"Increasing optimism over a resolution to the debt ceiling talks lifted sentiment, although question marks over the Fed\\'s next move on interest rates weighed on sentiment slightly.\"*', '', \"*The market continues to focus on the outlook for the Fed's monetary policy. Fed officials who spoke on Friday included Fed Chairman Jerome Powell and others.*\", '', '*Operate cautiously today and focus on the new retail sector of biomass energy*', \" ~\\u202fJennifer Violet: *The above are Mr. Michael's views on today's market. He will find some short-term stocks to share in the group. If any investor likes to buy short-term stocks, please contact me, and I will tell you Mr. Michael's recommendation.*\", '\\u200e ~\\u202fJennifer Violet: \\u200eContact card omitted', \" ~\\u202fBernie Mitchell: I don't have any confidence in the stock market. When to start explaining cryptocurrency?\", ' ~\\u202fMichael Wall: *There really are no good opportunities but i have to share stock market today. I plan to explain the rules for investing in forex and cryptocurrencies tomorrow*', \" ~\\u202fBernie Mitchell: Sorry, I'm just not feeling good\", \" ~\\u202fMichael Wall: *Take easy, let's start today's discussion, and everyone can participate*\", '*First, the most serious problem in our country right now is inflation. Let me explain the impact of inflation on the stock market*', ' ~\\u202fAngus Robinson: Yup', ' ~\\u202fMichael Wall: *Arguing for stocks as a 12% yield bond, the value of the right to automatically reinvest a portion of the coupon at a 12% yield in an environment where bond rates are only 3%-4% is enormous.*', '', '*And therefore, in such an environment, people are willing to reinvest a portion of the interest earned.*', '', '*And inflation affects the rate of return. If inflation is low, say 2%, a large portion of the retained surplus can be converted into real growth in productivity. But if the inflation rate is adjusted to 7%, there will be little surplus left to invest in real growth after adjusting for inflation.*', '', '*As a result, many companies seek to change, with public corporations continuing to pay dividends and even increasing quarterly dividends, but requiring new and existing shareholders to return that money. That is, the company would issue additional new shares.*', '', '*This process leads to a massive flow of capital to tax agencies and stock underwriters, each of which looks giddy .*', \" ~\\u202fBernie Mitchell: That's why I don't want to invest in stocks now. When you make money, you have to pay a lot of taxes. Total income not good. But when it loses, it’s crazy😡😡\", ' ~\\u202fNoel Torres: Cryptocurrencies should be better. Payments or transfers to offset large tax bills.', ' ~\\u202fBernie Mitchell: Means?', ' ~\\u202fMichael Wall: *Yes, in this way, you can reduce taxes reasonably, and its taxes are much lower than the stock market*', ' ~\\u202fAnthony Campbell: Wow. Really?', ' ~\\u202fBernie Mitchell: Sounds interesting. I am looking forward to start investing in cryptocurrencies', \" ~\\u202fMichael Wall: *Let's move on to discussing the impact of inflation on the stock market.*\", '*First, in inflation, bond investors will suffer **significantly, while stock investors are not much better off.*', '', '*Stocks are analyzed in a similar way to bonds:*', '*In a low-inflation environment, equity returns are more attractive than bond yields. Investors benefit threefold in a low inflation environment:*', \"* The company's return on net assets is much higher than the benchmark interest rate;*\", '* The undistributed profits attributable to investors remain within the company, and this part can obtain a return equivalent to the return on net assets;*', '* In the process of lower interest rates, the valuation of stocks has been improved.*', ' ~\\u202fAngus Robinson: Understood, a year ago, the stock market was really easy to invest in. At that time there was no inflation problem.', ' ~\\u202fMichael Wall: *Yes, but under inflation, undervaluation is a protection for value investors.*', '*Inflation is a hidden tax. Even for stock investors, under high inflation, the real purchasing power will decline.*', \"*High inflation makes capital expenditures more expensive for companies, thereby inhibiting companies' ability to reward shareholders.*\", '*Under high inflation, the government often intervenes in capital to stimulate capital flow to the industrial sector.*', ' ~\\u202fWayne Adams: Very unique way of thinking. I have to say that your analysis of the stock market is very thorough. I would like to know how to join you.', ' ~\\u202fBernie Mitchell: The core problem in the current stock market is that the return on capital has not followed the inflation rate.', \" ~\\u202fMichael Wall: *Yes. It's no longer a secret that stocks perform as badly as bonds in an inflationary environment*\", '', '*Looking back at history, stock investors can consider themselves to have enjoyed an exceptionally generous triple discount between 1946 and 1966.*', \"*The first is that the company's return on net assets is much higher than the benchmark interest rate;*\", '', '*Second, the returns they earn are reinvested at high interest rates not available elsewhere;*', '', \"*Third, because the first two points have been increasingly widely recognized, the company's equity capital has been increasingly praised.*\", '', \"*But now the stock market can be described as earning less and losing more. All are the consequences of the Federal Reserve's monetary policy and continued interest rate hikes.*\", ' ~\\u202fBernie Mitchell: Your insights on the stock market are the best I have ever seen. I would like to join you.', ' ~\\u202fWayne Adams: Yes, when will it start to take us to make money?', ' ~\\u202fMichael Wall: *Cryptocurrency investment will start next week. I will first explain to you the principle of making money from cryptocurrency and foreign exchange investment, as well as specific trading methods.*', '*If you want to invest in these, you can contact Jane. She will give you a detailed introduction to our company.*', \" ~\\u202fNoel Torres: Cool. It should start with the company. I don't know the company information yet.\", ' ~\\u202fJennifer Violet: *If you are interested in our cooperation, please contact me. I will introduce it to you in detail.*', '\\u200e ~\\u202fJennifer Violet: \\u200eContact card omitted', ' ~\\u202fWayne Adams: I want to know how to join', ' ~\\u202fJudith: ok', \" \\u202a+1\\xa0\\xa0990‑4257\\u202c: \\u200e\\u202a+1\\xa0\\xa0990‑4257\\u202c joined using this group's invite link\", ' ~\\u202fAnthony Campbell: Is there a lecture tomorrow?', ' ~\\u202fJennifer Violet: *Later in the evening Mr. Michael will explain the principles of making money in the cryptocurrency, Forex and gold markets. Today he received a huge amount of information. The investors in our group are too enthusiastic. 😂*', ' ~\\u202fAnthony Campbell: Great, this is what I want to know', ' ~\\u202fJennifer Violet: *Dear Friends. Mr. Michael will soon share his knowledge about investing in other markets in the club. *', '', \"*If you want to learn these, please don't miss today's lecture. Schedule wisely*\", \" ~\\u202fBob Stone: I’m very interested But I've never tried it before\", 'When will you be able to lead us in cryptocurrency investments?', \" ~\\u202fTheodoric Nguyen: Don't invest blindly bro, maybe you should try to understand how it works first.\", \" ~\\u202fJennifer Violet: *Don't worry, since yesterday, many friends have asked me about foreign exchange and cryptocurrency investment. I also told Mr. Michael about it. You have to know about the rules of forex and cryptocurrency trading first*\", \"*No matter what kind of investment you make, you have to understand the rules of the game and how it works, all you need to do is understand first. I would tell them that you can only follow in Mr. Michael's footsteps if you are ready.*\", ' ~\\u202fAngus Robinson: Correct, I totally agree with you.', ' ~\\u202fBob Stone: I have to say, you are a beautiful and professional😀', '', 'Sure I’ll wait👍', ' ~\\u202fGracie Morales: This is a club that really cares about our investors. I’m very lucky to join this club and I will introduce my friends to join.', ' ~\\u202fMichael Wall: *I received a lot of private messages from newbie users and originally planned to share how to analyze technical aspects of Forex and cryptocurrency quotes, considering that there are many newbies in our club. Today I will share with you the basics of Forex and cryptocurrencies. If you are investing in cryptocurrencies and forex you can discuss it in the group.*', ' ~\\u202fDoreen: Thank you very much, you are very thoughtful😁', ' ~\\u202fAnthony Campbell: I’m investing in contract gold.', ' ~\\u202fMichael Wall: *Contract gold trades on the same principles as contract cryptocurrencies. I plan to invite everyone to trade these products in the future.*', ' ~\\u202fAnthony Campbell: OK', ' ~\\u202fMichael Wall: *The products we choose to trade include contract cryptocurrency, foreign exchange, and contract gold:*', '*1. These trading products are all in the form of exchange to earn the difference in exchange rate fluctuations. Example: Cryptocurrencies are exchanged for equivalent value with other fiat currencies.*', '', '*Unlike other financial markets, the cryptocurrency market does not have a specific location or central exchange, but trades through an electronic network between banks, businesses and individuals.*', '', '*Cryptocurrency transactions are usually settled in USD tokens, such as USD/BTC, USD/ETH.*', ' ~\\u202fBernie Mitchell: Sounds good. It means that the current price of USD is converted into BTC, right?', ' ~\\u202fBob Stone: With inflation now, the price of the U.S. dollar will continue to fall. How do we make money when the dollar falls? I feel like this is a trap.', ' ~\\u202fAnthony Campbell: You got it wrong. If you think the dollar will depreciate, you can generate a Sell order. You can also make money when it goes down.', ' ~\\u202fBob Stone: Can you make money when you fall? How???🤔', ' ~\\u202fMichael Wall: *let me explain.*', '*His trading rules are divided into two steps.*', '*1. Generate an order*', '*2. Close the order*', '', '*Similar to futures, the difference is that its trading is more flexible and can be traded 24 hours a day. And orders can be generated and closed at any time.*', ' ~\\u202fMichael Wall: *For example:*', '*We now choose to trade XAU/USD*', '*We choose Sell when the price of XAU is 2000 USD. Your trade order is generated.*', '*Affected by real-time changes in the USD exchange rate, your order income and losses will also change accordingly.*', '*If the USD exchange rate rises, the dollar will rise. XAU will start to fall. When XAU fell to 1996, then our order earned a $4 difference.*', ' ~\\u202fBob Stone: So it is two-way tradable. You only need to judge the correct direction to generate an order, and then close the order after making money. Is it right?', ' ~\\u202fAnthony Campbell: Perfectly correct', ' ~\\u202fMichael Wall: *You can treat it like a commodity.*', '*For example: we generate a Sell order when he is $10.*', '*The price of this item will change in real time, and when its price drops, we are delivering our order. Then we earn the price difference during the period!*', \" \\u202a+1\\xa0\\xa0877‑8574\\u202c: \\u200e\\u202a+1\\xa0\\xa0877‑8574\\u202c joined using this group's invite link\", ' ~\\u202fWayne Adams: Yes, this is similar to futures trading. As long as we judge the correct direction to generate a transaction order, and then deliver our order.', ' ~\\u202fBernie Mitchell: It seems that you also understand the principle.😁', \" ~\\u202fWayne Adams: Yes it's easy\", ' ~\\u202fMichael Wall: *2. Advantages of contract trading*', '*The biggest advantage of the foreign exchange and cryptocurrency market is that there are no* *bookmakers. Because it is a global market, and funds circulate globally, and no institution can control its market.*', '', '*Forex and cryptocurrencies are not traded through an exchange like the stock market, and because of this, you can trade 24 hours a day at various times around the world.*', '', \"*And it's a two-way transaction. No matter the market is good or bad, we have the opportunity to make money. Of course, what needs to be judged is that it has good volatility.*\", ' ~\\u202fAnthony Campbell: Correct, so is gold, a fair market.', ' ~\\u202fBernie Mitchell: How much is the minimum investment?', ' ~\\u202fMichael Wall: *Then what I want to explain is its transaction costs.*', '', '*If you have invested in Coinbase’s portfolio, you should know that the price we trade for 1 BTC is about 27,000, and the cost is very high. However, through contract trading, enjoy 100 times leverage. We can use lower cost transactions.*', '', '*The transaction cost is about $2,700 per lot.*', '', '*This means our transaction costs are lower and risks are better controlled.*', \" ~\\u202fAngus Robinson: Why would the risk be less? Wouldn't trading with leverage be riskier?Just curious.\", ' ~\\u202fBernie Mitchell: Certainly not. The lower the cost of your transaction, the better your risk is controlled.', \" ~\\u202fAnthony Campbell: It's just that the cost is reduced, and you have more money to protect against risk.\", ' ~\\u202fAngus Robinson: OK. I think I still need to study more', \" ~\\u202fMichael Wall: *Yes, many people have entered into a misunderstanding, thinking that leveraged trading has higher risks, which is wrong. Because we can't buy all positions. Our transaction costs have become lower, and we can better use our positions for transactions. While the cost is low, the income is also very considerable.*\", \" \\u202a+1\\xa0\\xa0271‑4544\\u202c: \\u200e\\u202a+1\\xa0\\xa0271‑4544\\u202c joined using this group's invite link\", ' ~\\u202fMartin Roberts: Contract trading is now the most popular. The transaction threshold is low.', ' ~\\u202fMichael Wall: *3: Trading cryptocurrencies, forex, gold is like trading anything else on an exchange.You can exchange dollars for \"them\" through an exchange, or you can exchange \"them\" for dollars at an exchange.*', \"*It's similar, but depends on the idea that it's trading on actual currency.*\", ' ~\\u202fMichael Wall: *4: BTC/USD is the code for Bitcoin to USD, and BTC/USD is a cryptocurrency CFD with the highest audience and trading volume among all cryptocurrencies. Cryptocurrencies are known for their enormous volatility, and USD is by far the most traded fiat currency in the world. As a result, BTC/USD is the most popular cryptocurrency pair, and it is the de facto gold standard in the cryptocurrency market; providing clues to the price direction of almost the entire cryptocurrency market.*', \" ~\\u202fAngus Robinson: Maybe I'll learn after I start trading.\", ' ~\\u202fHenrietta: Yes, practice wins over theory.🍺', ' ~\\u202fMichael Wall: *The theoretical knowledge in the investment market is the experience summed up after losses. So this is very important. While many of you are investing in cryptocurrencies. But there is a big difference.*', \" ~\\u202fNoel Torres: Is this different from the BTC I'm currently investing in?\", ' ~\\u202fMartin Roberts: The way to analyze the market is different.', ' ~\\u202fMichael Wall: *Yes, it can be seen from the name of our trading product, for example: what we trade is USD/BTC. What we earn is the price difference between USD and BTC transactions.*', '', '*Therefore, the market news we need to pay attention to when analyzing the market is more about the price of the USD.*', '', '*Example: If the dollar is rising now, the market will start falling. Because the dollar becomes stronger, more BTC can be purchased.*', ' ~\\u202fAngus Robinson: Ya, understood!', ' ~\\u202fNoel Torres: OK', ' ~\\u202fMichael Wall: *We can easily analyze the market by simply focus on the movements of the US dollar exchange rate*', ' ~\\u202fGracie Morales: Mean that some of the economic data released by our country has a direct impact on it.', ' ~\\u202fAnthony Campbell: Yes. For example, non-agricultural data released every month', ' ~\\u202fGracie Morales: I think our advantage is that we are in this room because we get more timely and accurate information. Just my opinion.', ' ~\\u202fWayne Adams: Now the Internet is very developed....😂', ' ~\\u202fMichael Wall: *How to trade Forex？*', '*In the Forex market, usually we trade with two ways - fundamental analysis and technical analysis - to anticipate market movements and analyze them in real time*', '', '*We select suitable way to confirm our trading style*', '', '*However, I will share exactly how to analyze tomorrow. I need to go home to my family now, thank you all for your support*', \" ~\\u202fBob Stone: Thanks for sharing today. detailed enough, maybe i can't learn from others.\", ' ~\\u202fBernie Mitchell: Will you explain how to analyze the exchange rate of the dollar tomorow?', \" ~\\u202fMichael Wall: *Yes. I plan to continue analyzing these tomorrow. Some newbies don't have cryptocurrency and forex trading software, so you can install it today. it's better for learn*\", ' ~\\u202fBernie Mitchell: OK', ' ~\\u202fAnthony Campbell: What time start make money?Mr. Michael', ' ~\\u202fMichael Wall: As I said, you must first understand its trading rules before joined', ' ~\\u202fAnthony Campbell: .Understood, I am investing in gold and I think I know the rules very well', ' ~\\u202fJennifer Violet: Thanks for Mr. Michael share today. The principles of making money in Forex, contract cryptocurrencies, and gold. If you still have any questions or want more information. You can message me. Glad to help you', '\\u200e ~\\u202fJennifer Violet: \\u200eContact card omitted', ' ~\\u202fAnthony Campbell: Great club👍🏻', ' ~\\u202fJennifer Violet: *Have a nice weekend, dear friends. Good news for everyone: Mr. Michael will share the knowledge of contract cryptocurrency and foreign exchange investment in the club today*', '', '*About how to analyze its market trend, combined with charts and reference news analysis*', '', '*Again, if you want to learn these now, please arrange your time reasonably. read these*', ' ~\\u202fBernie Mitchell: Nice, thanks for the documentation you made yesterday. I read it and I think it helped me a lot👍🏻', ' ~\\u202fJennifer Violet: It’s ok😊', ' ~\\u202fDoreen: What document? Can you send it to me?', ' ~\\u202fJennifer Violet: *Sure.  Mr. Michael shared the basics of contract cryptocurrency and the principle of making money in the club yesterday,. I made docs. If you want, please contact me.*', '\\u200e ~\\u202fJennifer Violet: \\u200eContact card omitted', ' ~\\u202fWayne Adams: Guys, how is the oil market? Is it possible to trade now?', ' ~\\u202fAngus Robinson: Global oil prices have been rising since the Russian-Ukrainian war.', ' ~\\u202fBernie Mitchell: Can we trade oil here?', ' ~\\u202fJennifer Violet: *Yes. Oil/USD*', '*You can trade any contract product here.*', \" ~\\u202fNahumDaniels: \\u200e~\\u202fNahumDaniels joined using this group's invite link\", ' ~\\u202fBernie Mitchell: OK', \" ~\\u202fWayne Adams: Now oil can't supply the whole world, so it's very expensive. I think it's a good market🤔\", \" ~\\u202fChrissie Mills: \\u200e~\\u202fChrissie Mills joined using this group's invite link\", ' ~\\u202fTheodoric Nguyen: Oil is certainly tradable now, I prefer it to the stock market. I recently discovered a trick and have been making money😎', ' ~\\u202fWayne Adams: Oh man, I think you can share with us the tricks you use.', ' ~\\u202fTheodoric Nguyen: If you wanna date a woman, then you might wanna prepare some gifts for her.😎', ' ~\\u202fBernie Mitchell: Lol', ' ~\\u202fMichael Wall: \\u200eThis message was deleted.', \" ~\\u202fTheodoric Nguyen: Well, I was just kidding. Just look at Wednesday's EIA crude oil inventory data each week. Then buy it for the first time, of course not to be greedy. After making a profit, you need to sell.\", \" ~\\u202fWayne Adams: Oh, but there are still risks. Because sometimes the market doesn't move in the direction of the news.\", ' ~\\u202fTheodoric Nguyen: You need to combine the technical aspects to analyze. If the market digests expectations in advance, you can wait 10-15 minutes after the news is announced to grasp the market correction.', \" ~\\u202fWayne Adams: Thanks for sharing bro, I will study your suggestion. When I get a chance, I'll treat you to a nice lunch😃\", ' ~\\u202fTheodoric Nguyen: In fact, this is the same as foreign exchange. Every month when the non-agricultural news is announced, I will buy foreign exchange.', ' ~\\u202fWayne Adams: You have a unique eye and can easily navigate the investment market. I admire you. Can I add you as a friend?', \" ~\\u202fTheodoric Nguyen: Of course, thank you for the compliment, I'm honored.\", ' ~\\u202fBernie Mitchell: What time does Mr. Michael start sharing knowledge about investing today?', \" ~\\u202fBob Stone: It's great and I can't wait to start trading.\", ' ~\\u202fAnthony Campbell: Yes', \" ~\\u202fKelly: \\u200e~\\u202fKelly joined using this group's invite link\", \" ~\\u202fThomas Moore: \\u200e~\\u202fThomas Moore joined using this group's invite link\", \" \\u202a+1\\xa0\\xa0584‑3261\\u202c: \\u200e\\u202a+1\\xa0\\xa0584‑3261\\u202c joined using this group's invite link\", \" ~\\u202fMichael Wall: *Hello everyone, let's start today's sharing.*\", '*Yesterday I shared the basics about futures cryptocurrencies and Forex in the group. Today I plan to share how to analyze it.*', \"*Today's course may be a little bit professional. If you don't understand, you can ask me in private. Everyone is welcome to actively discuss.*\", ' ~\\u202fBernie Mitchell: Thanks, please let me know.', ' ~\\u202fMichael Wall: *Everyone should know that the products for contract trading are usually: BTC/USD, XAU/USD, AUD/USD*', '*You can see its product display form. In fact, we only need to analyze the exchange rate changes of the US dollar to grasp its market trend.*', '*Now I will briefly share the factors that affect the exchange rate of the US dollar. If you have any questions, you can discuss them here*', \" ~\\u202fMichael Wall: *1.Inflation. Inflation is a phenomenon of currency depreciation and price increase caused by the supply of money exceeding the amount of money needed for the circulation of goods. When inflation occurs in a country, the cost of its goods must increase, the price of export goods expressed in foreign currency must rise, and the competitiveness of that good in the international market is weakened. If the country's price increase rate exceeds that of other countries, it becomes difficult for the government to maintain normal exports without adjusting the exchange rate, so inflation eventually leads to currency depreciation and causes exchange rate fluctuations. It is important to note that the inflation rate also affects the difference between domestic and foreign real interest rates, which in turn affects the capital account of the balance of payments. A high inflation rate will inevitably cause capital outflows, which will also affect the market's expectations of future prices and exchange rates, which in turn will have an impact on exchange rate movements.*\", ' ~\\u202fBob Stone: Our country is in a period of high inflation right now. Life has become tough.', ' ~\\u202fTheodoric Nguyen: When the dollar goes up, the corresponding product goes down, right?', \" ~\\u202fAnthony Campbell: I think so, I'm investing in XAU/USD.\", ' ~\\u202fMichael Wall: *2.Investment market conditions are usually the most intuitive. Therefore, we need to pay attention to all information on inflation.*', '*Our country will release some statistics. For example: release of consumer index, price index, sales data. Of course, there are the most important employment and unemployment rates. The most important non-farm payrolls data.*', \" ~\\u202fBernie Mitchell: Do you send them in the group? We don't have time to follow these messages.\", ' ~\\u202fMichael Wall: *Of course. Our company has a professional information gathering department. I will introduce it when I’ve got time. The most important thing in the investment market is the collection of information.*', ' ~\\u202fAngus Robinson: Whoever has the latest news has the password to wealth. Lol', ' ~\\u202fAnthony Campbell: Indeed.', ' ~\\u202fMartin Roberts: Is the Fed rate resolution right?', ' ~\\u202fWayne Adams: Yes, I do follow the news.', ' ~\\u202fMichael Wall: *Correct. Changes in interest rates not only affect deposit returns, but also change the cost of borrowing, which affects individuals, businesses and governments. Interest rate fluctuations affect international exchange rates*', '', \"*Usually we can focus on the news of the Fed. For example: Federal Reserve interest rate resolutions, Federal Reserve officials' speeches. Powell also made some remarks today. Later I will teach you how to analyze these.*\", ' ~\\u202fBernie Mitchell: Got it', \" ~\\u202fMichael Wall: *4.Psychology of market expectations. Market expectations psychological factors play a considerable role in the movement of the exchange rate, because people on a country's economic situation, income and expenditure, inflation, interest rate prospects, etc., will cause the country's currency to buy a lot, resulting in the exchange rate rise; the opposite bearish, the exchange rate will fall. This psychological expectations and accompanied by a variety of speculative factors, even a rumor, a leader's speech, will cause speculative activities, and may set off a furor in the foreign exchange market, resulting in the rise and fall of the exchange rate.*\", ' ~\\u202fMichael Wall: *These are the news that you need to pay attention to in order to analyze the price of the dollar. In the future, I will send daily trading strategies for actual trading. You can take your time to learn. Of course, you also need to combine the technical indicators of the market to buy and sell points.*', \" \\u202a+1\\xa0\\xa0269‑0916\\u202c: \\u200e\\u202a+1\\xa0\\xa0269‑0916\\u202c joined using this group's invite link\", \" \\u202a+1\\xa0\\xa0941‑8463\\u202c: \\u200e\\u202a+1\\xa0\\xa0941‑8463\\u202c joined using this group's invite link\", \" \\u202a+1\\xa0\\xa0384‑6154\\u202c: \\u200e\\u202a+1\\xa0\\xa0384‑6154\\u202c joined using this group's invite link\", ' ~\\u202fBernie Mitchell: Great. please let me know', ' ~\\u202fWayne Adams: Technical indicators are not simple knowledge. I think it is very difficult to learn.', \" ~\\u202fMichael Wall: *Yes. I will share with you about the analysis of technical indicators next time. There is a lot of content explained today. It's about how to analyze the market, so you can save and learn slowly. Before you trade I hope everyone will know how we make money.*\", ' ~\\u202fAngus Robinson: Thanks for sharing.', ' ~\\u202fAnthony Campbell: I look forward to starting trading.', \" ~\\u202fTheodoric Nguyen: I have a question. I'm investing in oil right now. But it is not a contract transaction. I want to know what is a contract transaction.\", ' ~\\u202fMichael Wall: *Contract trading refers to the act of buying and selling a specified quantity of commodities at a specific price at a specific time and place in the future according to the agreement between the two parties of the transaction through the purchase and sale contract on the exchange.*', '', '*Contract trading is developed on the basis of spot contract trading. It is a new trading method of buying and selling standardized contracts on exchanges.*', ' ~\\u202fMartin Roberts: Gold investment and oil futures are contract systems.', ' ~\\u202fAnthony Campbell: Contract trading is the most popular right now. You can buy up and down. As long as you buy the right direction, you can make money.', ' ~\\u202fBob Stone: Lol', 'Sounds great, can I understand that we have a 50% win no matter what Lol', ' ~\\u202fMichael Wall: *Yes. Same principle as futures. The original intention of the contract transaction design is to set up for hedging spot risks...*', \" ~\\u202fTheodoric Nguyen: OK, I'm very interested.\", \" ~\\u202fJennifer Violet: *Let's thank Mr. Michael again for sharing his knowledge. Today Mr. Michael shared his knowledge about cryptocurrency, forex, gold trading and the reference news side to analyze the market up and down. This is a very worthwhile course to learn. I will organize this course for your better learning. If you need it, please contact me. Have a great weekend!*\", '\\u200e ~\\u202fJennifer Violet: \\u200eContact card omitted', \" ~\\u202fThomas Moore: Thanks, so much info. I will check today's info slowly at night.\", ' ~\\u202fDoreen: Have a great weekend, friends!', ' ~\\u202fJudith: Have a good weekend Jennifer, my friend contacted you and he wants a copy of the document too', ' ~\\u202fJennifer Violet: OK. I see', ' ~\\u202fNahumDaniels: Happy weekend guys.', \" ~\\u202fBernie Mitchell: Today was a pleasant day. I'm practicing my Trumpet.\", ' ~\\u202fNahumDaniels: Wow. are you a musician?', \" ~\\u202fBernie Mitchell: Not yet, I'm working hard to get my audio engineer certification. This is my hobby. Lol\", ' ~\\u202fNahumDaniels: Nice Enjoy your vacation!', ' ~\\u202fJennifer Violet: *Have a great weekend everyone. Since new friends have joined our club, I will briefly introduce our club here.*', ' ~\\u202fJennifer Violet: *Let me introduce the purpose of our group:*', '', '*The purpose of our cooperation is to make money together! because*', \"*1. Many investors don't have enough time to manage their funds*\", '*2. Many investors are unprofessional in their analysis of the stock market, cryptocurrency and foreign exchange markets, resulting in losses*', '*3. There are many friends who want to learn how to invest, but they have no channel*', '', '*So, our company regularly creat new investment clubs and invites new friends to join. Our analysts will share the latest information and trading signals of all investment markets in the club for free every day. And some investment-related knowledge and technical indicators. Believe me, these signals are more than 90% accurate*', '', \"*You can free to choose whether to join our team, and we will guide you how to buy and sell. We only charge 10% of your profits as company's commission*\", ' ~\\u202fJennifer Violet: *Today is the weekend, everyone can enjoy your holiday.*', '*If you have information inquiries about investment, please add my business card and send me a message.*', '*Have a great weekend everyone.😁*', '\\u200e ~\\u202fJennifer Violet: \\u200eContact card omitted', ' ~\\u202fJennifer Violet: *Good morning, dear friends. Have a great study day .... First of all send some data that will be released by the market this week. These data will have a big impact on the exchange rate of the US dollar*', '', \"*This is what we covered in last week's lesson. Mr. Michael will give you a real time explanation of why these data will affect the change in the exchange rate of the US dollar*\", '', \"*I understand that many of you in our club don’t have contract trading software, perhaps you can contact me to install it in your Apple store. It is convenient for you to understand Mr. Michael's knowledge better*\", '\\u200e ~\\u202fJennifer Violet: \\u200eContact card omitted', ' ~\\u202fBernie Mitchell: Great, the actual operation is better than the text', ' ~\\u202fJennifer Violet: *Tuesday*', '*May Markit Manufacturing*', '', '*Thursday*', '*Federal Reserve releases minutes of monetary policy meeting*', '*Real GDP for the first quarter*', '*PCE price index revised at annualized quarterly rate*', '', '*Friday*', '*April core PCE price index annual and monthly rates*', '*Annual and monthly rates of personal spending in April, and*', '*May one-year inflation rate expected*', \" ~\\u202fBob Stone: Wow, it looks like it's all important data. Especially Thursday\", ' ~\\u202fBernie Mitchell: These should be data on inflation indicators. Mr. Wall explained this last week', ' ~\\u202fJennifer Violet: *Mr. Michael will explain in detail the impact of these data on the US dollar exchange rate in the club*', ' ~\\u202fBernie Mitchell: When？', '\\u200e ~\\u202fAnthony Campbell: \\u200eimage omitted', ' ~\\u202fAnthony Campbell: lunch time', \" ~\\u202fMartin Roberts: It seems that today's class is very special.\", \" ~\\u202fJennifer Violet: *Yes, everyone plan your time wisely, Mr. Michael will start today's lesson in half an hour*\", \" ~\\u202fAngus Robinson: I can't wait to start trading. Lol.\", ' ~\\u202fDoreen: Where can I download?', \" ~\\u202fJennifer Violet: *Apple Store or Google Store. I show you how to download and sign up for an account. If you don't have cryptocurrency, forex trading software, please contact me and I will teach you how to download and sign up for an account. Easy for you to learn it better*\", '\\u200e ~\\u202fJennifer Violet: \\u200eContact card omitted', ' ~\\u202fDoreen: Thanks a lot', \" ~\\u202fNicole Kirk: \\u200e~\\u202fNicole Kirk joined using this group's invite link\", \" ~\\u202fMichael Wall: *Let's start today's lesson. In conjunction with this week's data releases, I'll start by explaining the impact of these data on the dollar exchange rate. Only by mastering the changes in the dollar exchange rate can we determine the direction we choose to trade. Then combine it with technical indicators to choose the best time to buy for a successful profit*\", ' ~\\u202fJudith: It seems very easy to you, but....', ' ~\\u202fBernie Mitchell: So you need to learn these more', \" ~\\u202fJudith: Yeah, I'm struggling trying to understand this. .\", ' ~\\u202fJennifer Violet: *No matter, we have a long time together, and in every future trade, Mr. Michael will teach you how to analyze market news and develop trading signals in real time*', ' ~\\u202fChrissie Mills: Yes.. looking forward', ' ~\\u202fBernie Mitchell: Interesting, working together to develop trading signals. My next goal is to get my analyst certification. lol', ' ~\\u202fMichael Wall: *About May Markit Manufacturing*', '', \"*It is released by Markit, a market research firm. Market research firm Markit surveys around 600 managers about respondents' assessments of employment, output, new orders, prices, inventories and other aspects*\", '', '*It is a leading indicator of economic conditions, as companies are able to react quickly to market conditions. Foreign exchange investors make judgments about the U.S. economic outlook by observing changes in such data, which in turn affects currency market movements*', ' ~\\u202fAngus Robinson: Is Markit authoritative?', ' ~\\u202fAnthony Campbell: Maybe', ' ~\\u202fNahumDaniels: I see. To raise rates or not to raise rates', ' ~\\u202fWayne Adams: Pausing rate hikes? How now? The bank failures shit has not been resolved.', ' ~\\u202fBob Stone: The pause in rate hikes means the economy is bad and the dollar will fall, right?', ' ~\\u202fThomas Moore: Pay attention at BTC, its been going up like crazy🧐', \" ~\\u202fMichael Wall: *This Thursday's data is not the day to announce the latest interest rate decision, just the views of the Fed's officials on whether to raise rates in the future.*\", '*Therefore, it is the best time for us to start trading this week*', ' ~\\u202fChrissie Mills: Oh, I understand that the dollar is inversely proportional to gold now. The dollar is down and gold is up, right?', ' ~\\u202fBernie Mitchell: 👍🏻how long have you been a member? Just now understanding how it works.....', \" ~\\u202fChrissie Mills: It's just that I rarely speak in the club. You guys talk about knowledge that is so difficult\", ' ~\\u202fNoel Torres: Lol', ' ~\\u202fBernie Mitchell: The traded products are USD for its cryptocurrency, or contracts traded in gold or forex. So here we discuss how to analyze the exchange rate of USD', ' ~\\u202fChrissie Mills: Oh. Thanks for letting me know', ' ~\\u202fMichael Wall: *It was nice to have a friendly exchange of investors in our club. Hope we can be partners in making money together in the future. lol*', \"*Let's continue the discussion*\", \" ~\\u202fAnthony Campbell: When you let us join, I'll be the first to join. Lol\", ' ~\\u202fMichael Wall: *Core PCE price index, April, annual and monthly rates*', '*Annual and monthly rates of personal spending in April, and*', '*May one-year inflation rate expectations.**', '', '*These are all indicator data on inflation.*', '', \"*The core PCE price index is a key indicator of U.S. private consumption inflation, first introduced by the U.S. Department of Commerce's Bureau of Economic Analysis and adopted by the Federal Reserve's policymaking body, the Federal Open Market Committee , as a key measure of inflation in 2002*\", ' ~\\u202fMichael Wall: *Annual and Monthly Personal Spending Rates for April*', '', \"*Personal spending, which includes personal consumption expenditure and personal investment expenditure, refers to the total spending of all people in a country in a year and is published once a month and compared to the previous month's data. Personal spending is a key indicator of economic growth. It is related to the population's confidence in their personal financial situation and in the economic outlook.*\", '', '*The personal income indicator is a useful indicator for predicting the spending power of individuals, future consumer buying trends and assessing how well the economy is doing. Income is closely related to spending, and the more available income consumers have, the greater the chances that their spending will increase, the better it will be for the economy and positive for the dollar*', ' ~\\u202fTheodoric Nguyen: Will it be produced as a document today? I have to attend an important company meeting right now', \" ~\\u202fJennifer Violet: Sure, I will create the document and send it to you at the end of today's session😊\", \" ~\\u202fMichael Wall: *Now I will share the analysis and application of technical indicators. Today's knowledge may be more suitable for professional investors, if you are not a professional investor, you can save it and experience it more later in practice*\", ' ~\\u202fTheodoric Nguyen: Thanks.', \" ~\\u202fMichael Wall: *Now I will share the analysis and application of technical indicators. Today's knowledge may be more suitable for professional investors, if you are not a professional investor, you can save it and experience it more later in practice*\", ' ~\\u202fBernie Mitchell: Wow, I‘d love to learn', \" ~\\u202fChrissie Mills: Well, as much as I'd like to know when we're going to start trading\", \" ~\\u202fMartin Roberts: Today's course is really not suitable for many newbies🤔\", \" ~\\u202fMichael Wall: *Maybe, but it's a requirement of the company for my team and I try to share all the knowledge I know.*\", '*I plan to start my first deal on Wednesday of this week*', ' ~\\u202fBernie Mitchell: Is this perhaps a risky event? Is it suitable for trading?', \" ~\\u202fMichael Wall: *Yes. It's a risky event, but in my opinion, if we can analyze what's wrong with the event itself, then it's high profits*\", \" ~\\u202fAngus Robinson: Great. I'm looking forward to it.\", ' ~\\u202fMichael Wall: *The technical indicators we usually use to analyze the market are: MACD, KDJ, SMA, BOLL, RSI*', ' ~\\u202fMichael Wall: *First of all, we will talk about MACD, an indicator that is mainly used to determine medium and long-term trends in cryptocurrency trading. The first crossover signal after the MACD double line crosses the 0-axis provides more information in cryptocurrency trading.*', ' ~\\u202fBernie Mitchell: Yes. can we determine the buy signal by the MACD indicator', ' ~\\u202fChrissie Mills: Too professional😱', ' ~\\u202fMichael Wall: *Yes, below the 0 axis, the DIF SMA crosses frequently with the DEA SMA and the MACD indicator forms a golden cross, then a dead cross and finally a golden cross pattern. This trajectory forms a W trend at different levels, and when the last golden cross appears, the market signals that the market will rebound and traders should actively buy. I am sending you a screenshot of the stock, which is applicable to any investment market*', '\\u200e ~\\u202fMichael Wall: \\u200eimage omitted', ' ~\\u202fAnthony Campbell: LOL', ' ~\\u202fMartin Roberts: How do I set up indicators on my phone?', ' ~\\u202fJennifer Violet: I will help you. Contact me.', ' ~\\u202fMichael Wall: *KDJ*', '*This is a very sensitive indicator, this indicator sends a crossover signal during the ups and downs of the trading market, but when encountering a strong unilateral trend and a weak unilateral trend, the indicator will be biased towards the trend end. The trick to using KDJ in forex trading is to follow the signals of the trend to buy and sell.*', ' ~\\u202fMichael Wall: *SMA is one of the most common indicators used in cryptocurrency investments and investors can set parameters for 5-day, 10-day and 20-day 30-day SMAs. When the 5-day SMA crosses the 10- and 20-day SMAs and the 10-day SMA crosses the 20-day SMA, this phenomenon is called a golden cross of the SMA portfolio and is the time when traders buy. The opposite is called a vector cross, when traders sell. SMAs are also a good tool for identifying trends. When SMAs are aligned upwards, it is called long alignment, which is a sign of an uptrend, and vice versa for a downtrend*', ' ~\\u202fBernie Mitchell: OK, understand', ' ~\\u202fNoel Torres: Can I also use the SMA indicator in stock investing?', ' ~\\u202fJudith: Amazing. there are many professional investors in our club.', ' ~\\u202fMichael Wall: *The BOLL is the most popular technical indicator among traders and consists of three lines: the top line, the middle line and the bottom line. Usually, when the market is falling, the BOLL drops and the candlestick runs below the middle line and around the lower line. When the market price crosses the lowest support line, a small short term rally will form back down to the middle line. Conversely, when the trading market price is rising, the Bollinger band is trending upwards and the K-line is running around the middle and upper rails. When the trading market price is becoming less volatile and the upper and lower rails are narrowing, a new round of trading may begin*', ' ~\\u202fMichael Wall: *The RSI is one of the common indicators used by Forex traders to determine overbought and oversold. When the RSI is greater than 50, it means that the trading market is strengthening. When the RSI is above 80, it enters the overbought zone and it is not advisable to go long at this time.*', '*When the RSI is below 50, it indicates a weakening market. When the RSI is below 20, it enters the oversold zone and shorting is not recommended at this time.*', '*When the RSI is below 20 and crosses upward, it can be regarded as a rebound judgment signal.*', '*Conversely, when the RSI is above 80 and crosses downward, it can be regarded as a retracement signal.*', ' ~\\u202fMichael Wall: *In summary: Each technical indicator has a predictive effect on the market. For the specific use of technical analysis indicators, traders need to practice and summarize in their own trading. Technical indicators are dead, hearts are alive and the market is changing rapidly. Traders summarize their own trading analysis system, technical indicators can only be used as a reference standard.*', '', '*In the future trading practice, you can experience. Of course, I will also analyze the real-time market analysis in the club*', \" ~\\u202fMartin Roberts: Great. Very few analysts will guide us how to analyze the market. It's a bread-and-butter skill for them.\", \" ~\\u202fBernie Mitchell: Yes, that's why I'm staying here.\", ' ~\\u202fTheodoric Nguyen: Cool', \" ~\\u202fChrissie Mills: Although I couldn't understand it well, I thought it was very professional.😁\", \" ~\\u202fMichael Wall: *Today's session is over. We have one last share tomorrow on how to trade to control risk! Very important, don't miss it*\", ' ~\\u202fBernie Mitchell: Good this most important', \" ~\\u202fJennifer Violet: *Let'sthank Mr. Michael again for sharing. Today's lesson was about professional technical analysis, if you want to learn it you can contact me. I will send you Mr. Michael's lesson.*\", '', \"*We created the club for a purpose: we want to invite everyone's membership to enjoy investing easily and make money. Working with us, you can get accurate trading signals. Just follow our trading signals. We only charge 10% of your total profit in return.*\", '', '*If you want to know more, please contact me*', '\\u200e ~\\u202fJennifer Violet: \\u200eContact card omitted', ' ~\\u202fBernie Mitchell: Nice', ' ~\\u202fNahumDaniels: Morning, guys. Have a nice day everyone.', ' ~\\u202fAngus Robinson: Another busy day!', \" ~\\u202fJennifer Violet: *Good morning, dear friends. Today's lesson is very important, today's lesson is about how to control the risk of cryptocurrency investments. You can plan your time and follow the club's information.*\", \" ~\\u202fBernie Mitchell: Great. when to start? I'm already waiting\", '\\u200e ~\\u202fBernie Mitchell: \\u200eimage omitted', ' ~\\u202fAnthony Campbell: Wow. bro, nice breakfast.', ' ~\\u202fNoel Torres: You are a pro lol.', ' ~\\u202fBernie Mitchell: Today is not my work day. I have plenty of time.', ' ~\\u202fAngus Robinson: You know how to live.', ' ~\\u202fBernie Mitchell: Yes. I love life, I love music and I love investing.', ' ~\\u202fJennifer Violet: *Let me introduce you again. Mr. Michael works as a risk arbitrage analyst in our company.*', '*His investment philosophy: Wall\\'s \"preferred strategy\" is swing trading and batch trading. Risk is his biggest concern. He believes that the first thing to consider at any time is the risk and return of the market.*', '\\u200e ~\\u202fJennifer Violet: \\u200eimage omitted', \" ~\\u202fNoel Torres: When does today's sharing start?\", \" ~\\u202fMichael Wall: *Hello everyone, fellow investors. So now I will briefly share how to control the risks in the contract cryptocurrency market. In our investment industry, the most important thing is how to control risks. I am currently working as a risk arbitrage analyst at IC Maket. So that's one of my best skills too*\", ' ~\\u202fAnthony Campbell: I will take serious notes!', ' ~\\u202fAngus Robinson: Awesome!', ' ~\\u202fMichael Wall: *The contract cryptocurrency and foreign exchange market, like other investment markets, also have risks. While contract margin trading brings high profit opportunities for investors, it also brings risks. But no one will stop eating because of choking. For investors, they will not give up the opportunity to obtain high profits because of possible risks. We provide investors with the following suggestions to help you minimize risks as much as possible while maximizing profits.*', ' ~\\u202fAnthony Campbell: Excellent😁', \" ~\\u202fBernie Mitchell: I think you just need to follow Mr. Michael's instructions on how to trade, because these are not skills we can master with 1-2 days.\", \" ~\\u202fMichael Wall: *1. We do not trade frequently. The biggest advantage of the foreign exchange market and the contract cryptocurrency market is the trading time. We're ready to trade, but all the same. If you trade frequently your risk is also high.*\", '', '*My strategy in choosing trading is mainly to analyze and make two strategies.*', '*First, determine the daily price fluctuation range through analysis, and then make a trading plan with the least risk.*', ' ~\\u202fMichael Wall: It is different from the stock market.', 'Contract trading is to earn the price difference through the exchange between currencies. Therefore, in daily trading, we have many opportunities to trade.', 'When we are trading, my opinion is to choose the right price to trade. If the exchange rate fluctuations of the day are small, we should not operate.', ' ~\\u202fNoel Torres: This’s  a good strategy.', \" ~\\u202fHenrietta: It's ridiculous that many clubs now make multiple trades per day, I lost a lot of money in the last club\", ' ~\\u202fThomas Moore: I invested 100K in Robin Hood and lost over 30%😈', ' ~\\u202fAngus Robinson: Wow', ' ~\\u202fMichael Wall: *2. We usually control the risk through the ratio of opening positions. It means that the position we choose to buy for the first time must be strictly controlled.*', '', '*For traders who have just entered the market, the proportion of opening positions should not be too large. Only when they have accumulated sufficient trading experience and have a continuous and good transaction history record can they consider gradually expanding the proportion of opening positions.*', '*For beginners, we think it is safer to open positions no more than 10%. Traders with better experience can generally open a position of 20% .*', ' ~\\u202fWayne Adams: Yes, Every time I buy a stock, I buy it all Lol', \" ~\\u202fBernie Mitchell: You're rich😄\", ' ~\\u202fMichael Wall: *There are various trading techniques that we can use when trading that can greatly reduce our risk. The most common trading technique is *', '*For example.*', '*We buy 10% of our position in the first trade. If the trading signal is correct, we can expand our income by increasing your position.*', '*If the trade signal is wrong, we can reverse the purchase in time to reduce our losses.*', ' ~\\u202fBernie Mitchell: Excellent plan. But does this miss some revenue?', \" ~\\u202fMichael Wall: *Yes, but the purpose of our investments is to make money steadily. If you make a little less money each time, but your risk can be minimized, I think that's acceptable.*\", ' ~\\u202fGracie Morales: Sounds great.', ' ~\\u202fJennifer Violet: Neat!', ' ~\\u202fMichael Wall: *Set a stop loss price on every trade*', '*Please strictly implement it. When the price of the US dollar exchange rate moves in a favorable direction for your operation, you can continuously track and reduce the stop loss , but conversely, when the US dollar exchange rate price moves in a direction that is not conducive to opening a position, the stop loss cannot be expanded, otherwise it will violate the original intention of setting a stop loss to control risks.*', '*Generally speaking, a relatively small stop loss can control relatively small risks. You can set a relatively small stop loss for short-term operations, and a relatively large stop loss for medium and long-term operations. In addition, the stop loss point should not be set farther than the forced liquidation point, otherwise the position will be forced to close before the stop loss price is reached, and the stop loss price will not work.*', ' ~\\u202fChrissie Mills: What is a stop loss?', ' ~\\u202fMichael Wall: *After selecting the product to be traded on the St5 trading software, there will be an option to set a stop loss. A stop loss price can be set before placing an order.*', ' ~\\u202fCelia: Where do I download the trading app?', ' ~\\u202fAngus Robinson: You haven’t downloaded yet?', ' ~\\u202fCelia: No yet', ' ~\\u202fJennifer Violet: *Hit me up, I’ll teach you. Just find it in your Apple Store. If there are any new friends who haven’t downloaded the trading app, please contact me*', '\\u200e ~\\u202fJennifer Violet: \\u200eContact card omitted', ' ~\\u202fCelia: OK', \" ~\\u202fWayne Adams: I have a question, why don't you take us to trade stocks? I saw in the introduction that you are also good at stocks\", ' ~\\u202fMichael Wall: *Because of the timing. If there are too many types of trades, the amount of news I need to analyze each day becomes more. Forex, cryptocurrencies and gold are all affected by the rise and fall of the dollar index, so analyzing them is a great time saver. But stocks are different. He also needs to watch more news and even encounter situations where he is controlled by capital.*', ' ~\\u202fWayne Adams: Understood', ' ~\\u202fBernie Mitchell: If I could trade gold, I would be very happy)', ' ~\\u202fThomas Moore: Set a stop loss, which means that the money made is much greater than the money lost.', \" ~\\u202fMichael Wall: *Yes. The above is what I want to share. I will share with you more about risk control methods in later practice. BTW, if you are interested in participating in this week's trading, you can contact Jane to download the trading software and complete the account creation.*\", \" ~\\u202fBernie Mitchell: Oh, I've been waiting. I'm looking forward to it.\", ' ~\\u202fAngus Robinson: I have made a deposit. Waiting for a trade.......', ' ~\\u202fAnthony Campbell: You act really quick bro😂', ' ~\\u202fAngus Robinson: Just a few money, have a try first.', \" ~\\u202fThomas Moore: I have a concern, I have not invested in contract cryptocurrencies. If I was not familiar with trading, I don't think I would invest.\", ' ~\\u202fNoel Torres: This is what worries me too🤔', ' ~\\u202fNahumDaniels: How much is the minimum investment?', ' ~\\u202fMichael Wall: *You are right to be concerned. I will apply for some benefits from the company today. If you want to join my team, maybe we can give you $500, and you can use this $500 to participate in 1-2 transactions and get familiar with the transaction process. Choose to invest after you learn it.*', '', '*However, this money is only given to friends who sincerely want to join us. Also, you need to return it to us after joining us.*', ' ~\\u202fNahumDaniels: Return? How?', ' ~\\u202fMichael Wall: *21 days after you join us. Return it to us when you pay dividends.*', ' ~\\u202fNahumDaniels: What you mean exactly?', ' ~\\u202fThomas Moore: Use this money to learn trading first, if I deposit and then I need to pay you 500?', \" ~\\u202fMichael Wall: *NO, for example. Our company's cooperation method is 21 days as a dividend cycle. 10% of the total profit.*\", '*Example: You deposit 10K today and after 21 days you earn 5K. Then you need to pay us 500*', '*But in the first period of dividends, you need to pay 1000. Because we deposited the first 500 study fees for you.*', ' ~\\u202fThomas Moore: That’s cool', ' ~\\u202fNahumDaniels: I see. I’m intrigued. Please teach me how to register an account.', ' ~\\u202fAngus Robinson: I have made a deposit. can I get that?', ' ~\\u202fJennifer Violet: For sure', \" ~\\u202fMichael Wall: *But quotas are limited. Because our club has too many people. We can't possibly pay them all. I will apply for the number of places first today. I'll give you an answer tomorrow morning. If you want to learn contract cryptocurrency investment, you can find Jane to sign up first.*\", ' ~\\u202fMartin Roberts: I wanna sign up.', ' ~\\u202fAngus Robinson: Nice, the best club ever!', ' ~\\u202fChrissie Mills: 500 for free?', ' ~\\u202fNoel Torres: Good', \" ~\\u202fTheodoric Nguyen: I don't care about the $500. But I still hope I can get it, cause this is an opportunity to learn contract cryptocurrency investment😎\", ' ~\\u202fBernie Mitchell: Lol', ' ~\\u202fJennifer Violet: *Today, Mr. Michael will apply for a gift of $500 for everyone to learn about the benefits of contract cryptocurrency investment. But the quota is limited. Now everyone can contact me to sign up. I will give priority to you*', ' ~\\u202fNahumDaniels: Wonderful', ' ~\\u202fChrissie Mills: I sent you a message', ' ~\\u202fJennifer Violet: *Let’s once again thank Mr. Michael for sharing. There are already many friends in the club supporting us. Please allow me to introduce again.*', '', '*Why we created the club: We hope that by giving away free $500, everyone can learn contract cryptocurrency investment without investment. When you approve our investment project. You can choose to work with us.*', ' ~\\u202fJennifer Violet: *How we cooperate:*', '*1. Download the St5 contract cryptocurrency trading software through the Apple Store. And complete the account creation *', \"*2. Trade in strict accordance with the trading signals of Mr. Michael's team.*\", \"*3. Every 21 days, you need to pay 10% of your income as our company's return! *\", '\\u200e ~\\u202fJennifer Violet: \\u200eContact card omitted', \" ~\\u202fJennifer Violet: *Good morning, dear friends. Mr. Michael has prepared a free $500 learning contract cryptocurrency investment for everyone. But the number of places is limited.don't miss this,you can practice trading without risk*\", '', \"*If there are still friends who want to qualify for $500. Please contact me. Don't miss this great opportunity. You can use it for the first trade of the day!*\", '\\u200e ~\\u202fJennifer Violet: \\u200eContact card omitted', ' ~\\u202fBernie Mitchell: Morning Jane,what time to trade?i can’t wait for more', ' ~\\u202fAnthony Campbell: Free?great', ' ~\\u202fChrissie Mills: Yes, I appreciate you providing such a great benefit to learn investing.', \" ~\\u202fJennifer Violet: *Mr. Michael said yesterday that there is a limit to the number of places and not everyone can get it. So if you need it, contact me now to create a trading account,If I don't get back to you in time, please be patient and I will be the first to get back to you to guide the collection of 500*\", ' ~\\u202fNoel Torres: How to create and get?', ' ~\\u202fJennifer Violet: *You can download from Apple Store or Google Store first and then sign up for an account. We will deposit $500 for you*', ' ~\\u202fNoel Torres: OK，I will.', '\\u200e ~\\u202fChrissie Mills: \\u200eimage omitted', \" ~\\u202fChrissie Mills: I've got my money ready, looking forward today’s trade\", ' ~\\u202fDoreen: Unbelievable why you give us 500', ' ~\\u202fChrissie Mills: I think it’s just for practice', ' ~\\u202fJennifer Violet: *Yes, Cuz there are many new, Mr. Michael has prepared this benefit for you. you can use this 500 to learn to trade.*', '*But after you deposit for your account, you need to return this money to us on the first quarter dividend day*', \" ~\\u202fDoreen: Oh, but it's also a great strategy i don’t care about this 500, But you are very sincere\", '\\u200e ~\\u202fBernie Mitchell: \\u200eimage omitted', \" ~\\u202fBernie Mitchell: I think so got it already, I'll deposit when I understand how to trade\", \" ~\\u202fAnthony Campbell: Seems like everyone is ready for today's trade\", ' ~\\u202fAngus Robinson: Yup', \" ~\\u202fMartin Roberts: When to start? can't wait.\", \" ~\\u202fJennifer Violet: *Don't worry, let's wait for other friends to finish creating their accounts. Many of our friends are new and not all of them are the same as you Before trading, you can study the documentation again, which should help you*\", ' ~\\u202fMartin Roberts: I will wait. lol', ' ~\\u202fAnthony Campbell: Question. How do I deposit or withdraw money from my account later?', ' ~\\u202fBob Stone: Same question🤔', ' ~\\u202fJennifer Violet: *Click on Deposit within the app and you will see the cryptocurrency receiving address. Just send cryptocurrency to here.*', '*If you want to make a deposit, I will teach you.*', ' ~\\u202fAnthony Campbell: OK', ' ~\\u202fBob Stone: How to choose??? Many options ERC20?', ' ~\\u202fJennifer Violet: *Do you want to deposit now? I can teach you how to trade first, and when you learn how to trade, you can make deposits. This ensures that you will not make mistakes in your transactions.It’s better for you*', ' ~\\u202fBob Stone: Ok, you are the boss.', ' ~\\u202fAnthony Campbell: I have to say you are very considerate.👍', ' ~\\u202fBernie Mitchell: Will there be a trading today?', ' ~\\u202fMichael Wall: *Today I will analyze the market to see if there is a trading opportunity.*', \"*First let me share today's trading strategy.*\", ' ~\\u202fBernie Mitchell: Please let me know', \" ~\\u202fMichael Wall: *First of all, the market's attention is now focused on the Federal Reserve's June meeting on monetary policy and raising the debt ceiling.*\", '', '*Recently, the price of the US dollar has been suppressed by the impact of the suspension of interest rate hikes.*', ' ~\\u202fAngus Robinson: So how do we trade today?', \" ~\\u202fMichael Wall: *Tomorrow the market will announce very important information. Our country's real GDP annualized quarterly rate and core PCE price index annualized quarterly rate*\", '', '*Well, as I explained in my previous sharing, this is an indicator for measuring inflation. Inflation will affect the fluctuation of the dollar exchange rate.*', '', \"*The following is the historical published data of our company's information collection department.*\", '\\u200e ~\\u202fMichael Wall: \\u200eimage omitted', '\\u200e ~\\u202fMichael Wall: \\u200eimage omitted', ' ~\\u202fBernie Mitchell: Oh my god, this full info', ' ~\\u202fAngus Robinson: Your company is the most professional I have ever seen!', ' ~\\u202fTheodoric Nguyen: Amazing', \" ~\\u202fBernie Mitchell: What does your information collection department do? I haven't heard you mention it.\", ' ~\\u202fMichael Wall: *Our company has many departments! let me explain.*', '', '*First of all: the source of our trading signals.*', '*1. Our information collection department obtains the latest market trends in advance. Sometimes the timeliness of information directly affects the judgment of our analysts.*', '*2. I will analyze the information and determine the trading plan.*', '*3. I will make a risk assessment of the trading signal. This is the reason why we have very few trading signals. I am the person in charge of risk control in IC market, and the accuracy rate of the trading signals screened by me can reach more than 90%.*', '', '*This is where our trading signals come from.*', ' ~\\u202fBernie Mitchell: I have to say, your company has been able to succeed bc of this . Your success is inevitable.', ' ~\\u202fChrissie Mills: Glad to choose u', ' ~\\u202fBernie Mitchell: Yes', \" ~\\u202fNahumDaniels: I don't understand today's trading strategy. I think I still need to learn more\", ' ~\\u202fBob Stone: Haha', \" ~\\u202fMichael Wall: *That's okay, I am teaching you how to analyze the trend of the market in conjunction with the real-time market and news now. you can learn enough. For every future trading signal, I will send trading strategies and analysis in the group. It is convenient for everyone to learn*\", ' ~\\u202fAngus Robinson: You are great. awesome.', ' ~\\u202fAnthony Campbell: Nice. i can learn a lot in your club and hopefully make money too. LOL', ' ~\\u202fBob Stone: Will there be any trading signal?', ' ~\\u202fMichael Wall: *Everyone be patient, the time of the trade cannot be fixed at once. Before each trade, we have a research team to search for important times in the world and discuss the news that will be beneficial for our trading. Combined with professional technical analysis, we can choose a foreign exchange species to trade. After determining the trading variety, we analyze the direction. When the direction is finally determined, we simply watch the charts and choose the best time to buy to ensure the success of our trade!*', ' ~\\u202fNoel Torres: I‘m very comfortable to cooperate with you guys. I have invested in some companies that have lost a lot of money before.', ' ~\\u202fThomas Moore: Yes, I lost a lot on Robinhood before. It’s nice to join Jane’s', \" ~\\u202fMichael Wall: *Probably some of the club's friends have traded in other markets. There are some professional friends, but there is a limit to the power of one person. We have a lot of professional teams. It is important to collect news, organize news, and analyze the team, so it is important to choose a professional organization to help you invest and achieve a steady growth of wealth, and I hope that each friend can accomplish your investment goals*\", \" ~\\u202fNoel Torres: Thanks a lot, I'm working on it.\", ' ~\\u202fTheodoric Nguyen: Nice', ' ~\\u202fMichael Wall: *Today we choose to trade BTC/USD*', '', '*I observed the market trend of BTC today. BTC is currently rising within the day and has encountered strong pressure at the 26600 line. Observed by the DIF line of MACD, there is a downward trend.*', '', '*Judging from the 15-minute line chart, it has risen three times in a row without forming an effective breakthrough. So I judge it will have a falling demand.*', '', '*We can choose to trade BTC/USD Sell*', '\\u200e ~\\u202fMichael Wall: \\u200eimage omitted', ' ~\\u202fJennifer Violet: *Remind:*', '*Our first deals will start soon.*', '*Please use our sponsored $500 to trade*', '*Familiar with the transaction process. When trading, please set a stop loss to control the risk.*', ' ~\\u202fBernie Mitchell: I am thrilled!', ' ~\\u202fNahumDaniels: OK', ' ~\\u202fJennifer Violet: *Congratulations to the friends who participated in the transaction today for making a profit.*', \"*Please send your income record in the group, I need to record your income. This is related to our company's dividend profit. Thank you so much.🤓*\", '\\u200e ~\\u202fAnthony Campbell: \\u200eimage omitted', ' ~\\u202fAnthony Campbell: Amezing！ 15 minutes to complete the transaction!', '\\u200e ~\\u202fBernie Mitchell: \\u200eimage omitted', ' ~\\u202fBernie Mitchell: Profit 85🤔', ' ~\\u202fTheodoric Nguyen: Very little profit.', ' ~\\u202fJennifer Violet: *If you have $10,000 in your account. Your profit is 850. Because you can buy 10 lots.*', '\\u200e ~\\u202fChrissie Mills: \\u200eimage omitted', ' ~\\u202fChrissie Mills: Send this screenshot, right?', ' ~\\u202fJennifer Violet: Yes', ' ~\\u202fAnthony Campbell: I have a question, I buy 0.1 lots, how much does it cost?', ' ~\\u202fBernie Mitchell: 265', ' ~\\u202fJennifer Violet: *BTC/USD transaction costs:*', '*The price of 1 lot needs to be 2650 US dollars. Your transaction quantity today is 0.1 lot, and you need 265 US dollars.*', ' ~\\u202fBernie Mitchell: Yes100x leverage', ' ~\\u202fAnthony Campbell: Nice, that means if I invest 100K, then I can buy 1 lots. Maybe my income today is 8500?', ' ~\\u202fBernie Mitchell: Such a high yield?', ' ~\\u202fJennifer Violet: *Yes, usually we buy 10% of the position for the first time. If you have 100K in your account today, then you can only buy 10 lots. Your profit is $8500.*', ' ~\\u202fTheodoric Nguyen: So cool', \" ~\\u202fAnthony Campbell: understand. $500 isn't really a lot of income.\", ' ~\\u202fJennifer Violet: *But, when you get familiar with trading, you can buy more positions. At present, many friends are using the 500 US dollars we sent to trade, this is just to let everyone learn the process of contract trading.*', \" ~\\u202fMartin Roberts: I will join you soon. I have experience investing in MT4, for me, I don't need to learn.\", ' ~\\u202fAnthony Campbell: Understand. I will sell some stock.', ' ~\\u202fBernie Mitchell: My order time is 21:24? This is where?', ' ~\\u202fWayne Adams: Seems to be UTC time zone🤔', ' ~\\u202fJennifer Violet: *Yes. Contract trading is also global trading. UTC time zone is adopted*', ' ~\\u202fAnthony Campbell: Jane, how do I withdraw money?', ' ~\\u202fJennifer Violet: *Click Withdraw in your App, and fill in your Coinbase receiving address. If you encounter any problems, you can contact me.*', \"*BTW, you'd better make a withdrawal tomorrow after the transaction is completed. There will also be trading signals tomorrow. You only made $85 today. Maybe more tomorrow.😁*\", ' ~\\u202fAnthony Campbell: Good good plan.', '\\u200e ~\\u202fDoreen: \\u200eimage omitted', ' ~\\u202fDoreen: I have successfully downloaded and now it prompts this.', ' ~\\u202fJennifer Violet: *OK. You need to choose our company as your service provider.*', '*Click on the upper right corner and enter IC Market*', \"*I'll show you how, and deposit $500 for you.*\", ' ~\\u202fDoreen: Great', ' ~\\u202fJennifer Violet: *Let us once again thank Mr. Michael for successfully leading everyone to make money. At present, many friends in the club have received $500 and started trading. Please allow me to introduce again.*', '', '*Why We Created The Club: We want everyone to learn about cryptocurrency investing without investing in it by giving away $500 for free. When you approve our investment project. You can choose to work with us.*', ' ~\\u202fJennifer Violet: *How we cooperate:*', '*1. Download the St5 contract cryptocurrency trading software through the Apple Store. And complete the account creation *', \"*2. Trade in strict accordance with the trading signals of Mr. Michael's team.*\", \"*3. Every 21 days, you need to pay 10% of your income as our company's return! *\", '\\u200e ~\\u202fJennifer Violet: \\u200eContact card omitted', ' ~\\u202fBernie Mitchell: Great club.', ' \\u202a+1\\xa0\\xa0399‑5872\\u202c: \\u200e\\u200e\\u202a+1\\xa0\\xa0399‑5872\\u202c changed their phone number to a new number. \\u200eTap to message or add the new number.', ' ~\\u202fAnthony Campbell: Good morning guys, have any of you already made a deposit for your trading account?', \" ~\\u202fBernie Mitchell: No, I haven't made a deposit yet, and Jane suggested that I get familiar with the transaction process again before making a deposit. I'm going to get familiarized with the trading process again today.\", \" ~\\u202fAnthony Campbell: Yes, that's right, you need to be familiar with how to trade first, so as not to send unnecessary errors while trading.\", '\\u200e ~\\u202fBob Stone: \\u200eimage omitted', ' ~\\u202fBob Stone: I made a deposit yesterday. 2K', \" ~\\u202fBernie Mitchell: Great. Let's look at your income today\", ' ~\\u202fMartin Roberts: Will 2K be too little? I plan to invest 50K.', \" ~\\u202fBob Stone: It's just that my Crypto happens to have some balance. Will add more when I get familiar with the transaction.\", ' ~\\u202fBernie Mitchell: Can we trade oil here?', \" ~\\u202fAnthony Campbell: Yes. that's right. We still need practice.\", ' ~\\u202fJennifer Violet: *Yes. Oil/USD*', '*You can trade any contract product here.*', \" ~\\u202fJennifer Violet: *Good morning, dear friends. Today the market released some information. Mr. Michael is in a meeting to study today's trading signals. We can still participate in transactions today.*\", '*Please plan your own time and pay attention to the information of the club.*', '', \"*If you do not have a trading account yet, please download St5 in your Apple store and fill in the IC market service provider. We'll send you free $500 to participate in the trade. We are sponsoring a free $500 for all our friends who want to learn about contract cryptocurrencies and forex investing. Please don't miss this great opportunity.😊*\", '\\u200e ~\\u202fJennifer Violet: \\u200eContact card omitted', '\\u200e ~\\u202fFlavia: \\u200eimage omitted', ' ~\\u202fFlavia: I got it😁', ' ~\\u202fAnthony Campbell: Good', ' ~\\u202fBernie Mitchell: Data released? How do we trade today?', \" ~\\u202fJennifer Violet: *Yes. Mr. Michael is in a meeting. I will first send the details of today's data.*\", ' ~\\u202fJennifer Violet: *Revised U.S. Q1 Real GDP Annualized QoQ:*', '*Previous 1.10% Reported 1.3%*', '', '*U.S. PCE price index annualized quarterly rate revised for Q1:*', '*Previous 4.2%.  Reported 4.2%.*', '', '', '*U.S. real personal consumption expenditures in the first quarter revised at a quarterly rate of:*', '*Previous 3.70%. Reported 3.8%*', ' ~\\u202fBernie Mitchell: GDP has increased, prices have not changed, consumption has increased, bad', \" ~\\u202fChrissie Mills: Is our country's economy become better?\", ' ~\\u202fMartin Roberts: Nothing too much of  impact. I think the debt ceiling deal should be the focus just my opinion', ' ~\\u202fAnthony Campbell: \"It\\'s a very difficult investment proposition because there is this low probability, high catastrophic outcome. How should you respond? It\\'s like the opposite of a lottery! It means you\\'re taking a risk closer to home.\"', \" ~\\u202fThomas Moore: Don't worry, there will be no breach of contract. This is just politics playing.\", ' ~\\u202fBernie Mitchell: I think so. let us wait and see🤔', ' ~\\u202fJennifer Violet: *Risky events today:*', '*Fed Governor Waller speaks on the economic outlook.*', '*The Federal Reserve releases the minutes of its monetary policy meeting.*', '', '*Mr. Michael would analyze the news in real time in the club and I thought it was a great learning session. You can better learn how to analyze the market through practice.*', ' ~\\u202fBob Stone: Wow I am looking forward.', ' ~\\u202fBernie Mitchell: Great', ' ~\\u202fMichael Wall: *Information everyone needs to know:*', '', '*The dollar was supported by the minutes of the Federal Reserve meeting, which reinforced expectations for another rate hike this summer. \"In the minutes of the meeting,*', '', '*Aside from some uncertain comments about the need for further monetary tightening, there was little solace for dollar bears.*', '', '*The minutes were \"pretty hawkish\" and signaled another rate hike as policymakers acknowledged that inflation remained unacceptably high and slowed more slowly than expected, making it \"very likely\" markets are pricing in a Fed move by July expected. Markets are pricing in a 25 basis point increase in rates by July.*', ' ~\\u202fAnthony Campbell: Nice. So USD went up yesterday and BTC went down?', ' ~\\u202fAngus Robinson: I think so🤔', \" ~\\u202fMichael Wall: *Today's trading strategy:*\", '', '*Today we are still trading BTC/USD*', '', '*You can look at the chart. From it we can see that although it fell due to rate hike expectations, it stabilized around 26000 and started to rise. **Therefore, we can judge that 26000 is the short-term support below*', '', '*Trading we go with the trend can choose Sell after the market stabilizes. success rate will be high*', '\\u200e ~\\u202fMichael Wall: \\u200eimage omitted', ' ~\\u202fMartin Roberts: I got it👍', ' ~\\u202fBernie Mitchell: Nice. Unfortunately, today I can only trade with the free 500 Lol', ' ~\\u202fNoel Torres: With a deposit of 5000, what is the daily profit?', ' ~\\u202fAnthony Campbell: Maybe 200-300?', ' ~\\u202fBernie Mitchell: I think so. You only invest 5000?', ' ~\\u202fNoel Torres: This is just the beginning, I already sold some of my stocks yesterday. I want to get familiar with the operation first.', ' ~\\u202fBernie Mitchell: Great choice', ' ~\\u202fJennifer Violet: *Remind:*', '*Our transaction will start soon.*', '*Please use our sponsored $500 to trade*', '*Familiar with the transaction process. When trading, please set a stop loss to control the risk.*', ' ~\\u202fAnthony Campbell: Nice', \" ~\\u202fJennifer Violet: *Congratulations to the friends who participated in foreign exchange trading today for successfully making money. Please send your earning records to the group or privately to me. I need to record. This is related to our company's income, thank you very much.😁*\", '\\u200e ~\\u202fBernie Mitchell: \\u200eimage omitted', ' ~\\u202fBernie Mitchell: Only 93 profit today.😆', ' ~\\u202fJennifer Violet: *$500 can only buy 0.1 lots. I told you yesterday that this is just for you to learn the operation of  trading.*', '', \"*If you want to make more money, you can choose to invest. Of course, I have to make sure you learn to trade so that you don't make mistakes in trading.*\", \" ~\\u202fBernie Mitchell: Yes. I'm just sending it out, you asked me to do it.\", ' ~\\u202fBob Stone: Why do we have to send our revenue records in the group?', ' ~\\u202fAngus Robinson: Jane needs to record our earnings.', '\\u200e ~\\u202fChrissie Mills: \\u200eimage omitted', ' ~\\u202fChrissie Mills: This is my income today and I am very satisfied.😊', ' ~\\u202fJennifer Violet: *Earning records can also be sent to me privately. I explain again.*', '', \"*Our cooperation method is: Mr. Michael's team provides trading signals, and when you make money, you need to pay us 10% of your income every 21 days as a reward.*\", '', \"*But after each transaction is completed, I need to record your income, so as to ensure that our company's profits will not go wrong.*\", '', \"*Since many friends in the group have participated in the transaction. Everyone sent me privately, and I didn't respond to the messages in time. Therefore, everyone can send your income of the day to the group, and I will record it conveniently.*\", ' ~\\u202fBob Stone: Understand', \" ~\\u202fNoel Torres: It's a great way to work together. I will transfer money from my MT4 account to here next week.👍\", \" ~\\u202fBernie Mitchell: The trade went well today and I think I'm familiar with how to trade.🥃\", '\\u200e ~\\u202fFlavia: \\u200eimage omitted', '\\u200e ~\\u202fBob Stone: \\u200eimage omitted', ' ~\\u202fBob Stone: I did 0.2😎', ' ~\\u202fChrissie Mills: Oh, your income is 206', ' ~\\u202fAnthony Campbell: Looks good', ' ~\\u202fBob Stone: Yes, I plan to add more.', ' ~\\u202fBernie Mitchell: Great', ' ~\\u202fJennifer Violet: *Congratulations again to friends who successfully made profits today.*', '', '*If you have new friends who want to learn contract cryptocurrency trading, you can download the St5 trading software through your Apple Store and choose IC Market as a service provider. You can get $500. I will take you on your first trade, learn it.*', '', \"*Currently, we have successfully made profits 2 times in a row. Don't miss this great opportunity to learn about cryptocurrency investing.*\", '\\u200e ~\\u202fJennifer Violet: \\u200eimage omitted', '\\u200e ~\\u202fJennifer Violet: \\u200eContact card omitted', ' ~\\u202fAnthony Campbell: Will Mr. Michael share some knowledge today?😁', ' ~\\u202fNahumDaniels: Hope so', ' ~\\u202fMichael Wall: *What kind of knowledge would you like me to share?*', ' ~\\u202fAngus Robinson: Nice', \" ~\\u202fAnthony Campbell: Market analysis. Today's transaction has left me with a lot of aftertaste lol\", ' ~\\u202fMichael Wall: *Market analysis is not difficult.*', '*As in the products we trade today. BTC/USD*', '*First of all, we determined the trend of the market.* *Through the analysis of the news, we know that the price of the US dollar will continue to rise. This means that the future trend of BTCis mainly down.*', '', '*Secondly, we need to analyze the price of the pressure level through the technical indicators I taught you. Near the pressure level, we choose Sell. The probability of successful profit is high.*', ' ~\\u202fMichael Wall: *Next time I have time, I will teach you how to analyze again.*', \" ~\\u202fAnthony Campbell: Astonishing. Every time I share knowledge, I feel that cryptocurrency trading is very simple. It's a pleasure to join you. Mr. Michael, you are very professional.\", ' ~\\u202fBernie Mitchell: Agree', ' ~\\u202fMichael Wall: *Contract cryptocurrency investment is the simplest existence of all investment markets. We only need to judge the rise and fall of the day through the trend and real-time technical indicators.*', '', \"*Even if you don't understand analysis, you still have a 50% winning rate. lol*\", ' ~\\u202fJennifer Violet: *Let us once again thank Mr. Michael for successfully leading everyone to make money. At present, many friends in the club have received $500 and started trading. Please allow me to introduce again.*', '', '*Why We Created The Club: We want everyone to learn about cryptocurrency investing without investing in it by giving away $500 for free. When you approve our investment project. You can choose to work with us.*', ' ~\\u202fJennifer Violet: *How we cooperate:*', '*1. Download the St5 contract cryptocurrency trading software through the Apple Store. And complete the account creation *', \"*2. Trade in strict accordance with the trading signals of Mr. Michael's team.*\", \"*3. Every 21 days, you need to pay 10% of your income as our company's return! *\", '\\u200e ~\\u202fJennifer Violet: \\u200eContact card omitted', '\\u200e ~\\u202fAnthony Campbell: \\u200eimage omitted', ' ~\\u202fAnthony Campbell: My withdrawal arrived and it was very fast. Great.', ' ~\\u202fAngus Robinson: Withdrawing money to your bank account?', ' ~\\u202fAnthony Campbell: Yes, withdraw money to Coinbase account through App, and then withdraw money to bank account.', ' ~\\u202fAngus Robinson: Nice. very important information.', ' ~\\u202fBernie Mitchell: Great, how to deposit?', ' ~\\u202fJennifer Violet: Contact me. I will teach you', '\\u200e ~\\u202fChrissie Mills: \\u200eimage omitted', \" ~\\u202fChrissie Mills: I'm a new deposited $5000. glad to be able to participate in the transaction\", ' ~\\u202fNahumDaniels: Yes correct if you are a new, we invest according to our financial situation.', ' ~\\u202fAngus Robinson: Nice seems so many friends joined.', \" ~\\u202fJennifer Violet: *Yes, everyone's feedback on our $500 gift for new users  is very good. Learning contract cryptocurrency investing is smoothly. And contract cryptocurrency investing is very simple. So many friends joined*\", \" ~\\u202fJudith: I am also new to this. I'm still a little nervous, every time I trade, I get nervous😂\", ' ~\\u202fAnthony Campbell: Relax, just need set your stop loss, Jennifer will take care of the rest and she will notify us of the sell order', ' ~\\u202fJudith: I know,just first time to trade,i will try to relax', ' ~\\u202fBernie Mitchell: We have to keep a good mindset. When I was investing in stocks, I persevered through the difficult times by myself. Now we have Mr. Michael to lead us, so we should keep a good mindset to face the profit and loss', ' ~\\u202fMichael Wall: *Correct. Mindset is the most important thing when investing in the market. I find that there are many newbies in our club, so I am going to give you a breakdown of the mindset you need to have when trading contracts. I hope you will take it seriously. Keep a clear head and mindset for the rest of your trading*', ' ~\\u202fAnthony Campbell: oh this is great', ' ~\\u202fBernie Mitchell: Thank you very much, Mr. Michael, for taking the time to share with us', ' ~\\u202fMichael Wall: *Forex trading with the mindset*', '*Foreign exchange investment can be said to be a psychological war, the grasp of the mindset is particularly important to the final outcome of investment transactions.*', '', '*One, contract trading is not gambling!*', \"*Every industry has its own unspoken rules, and amateurs can't play with the pros. In the ever-changing trading market, you have to make sure you are not a casual gambler, and entering the investment market with a gambling mentality is really an investment taboo.*\", '*Investment cannot be based on inspiration or luck, but must face up to the reasons that govern behind the rise and fall of the market. You must carefully analyze the fundamental and technical factors behind the rise and fall of the exchange rate*', ' ~\\u202fBernie Mitchell: Yes, there is a basis for the rise and fall of the market', ' ~\\u202fAngus Robinson: Agree', \" ~\\u202fMichael Wall: *Don't blindly pursue whole number of pips*\", '*When trading contracts, set yourself a profit target, for example, to make enough $500 or 50 pips, etc., and then always wait for this profit target to be achieved, and never close your position until this target is reached. This is a wrong approach, we have to sell orders in time according to the signals given by technical indicators. No matter how much money is made.*', '*Risk management is the prevention of loss of money*', ' ~\\u202fNahumDaniels: Just follow your trading signals and leave the rest to God🙏🏻', ' ~\\u202fAnthony Campbell: Lol', ' ~\\u202fMichael Wall: *Third, the investment market does not always win the general*', '*In the risky foreign exchange market, there is neither a general who always wins, nor a soldier who always loses. The key is to take a flexible response strategy with the changes in market conditions.*', '*Loss is a normal phenomenon in trading, it is only the price that must be paid for trading profit, is the normal cost of finding profit opportunities, any profit must pay the price! Losses are a normal part of investing! Losses do not mean that you are wrong, but only that your cost of profitability has increased.*', '*Do not enter and leave the market indiscriminately. We are investors, and not brokers. Do not not set a stop-loss single, or past the stop-loss level in mind, still have hope, unwilling to leave the field*', ' ~\\u202fAnthony Campbell: Yes, stop loss should always be set. So we can control the risk', ' ~\\u202fMichael Wall: *4. Too much greed and fear*', '*The most important thing to invest in the market is to overcome one\\'s own greed and fear. Greed and fear are the \"blockers\" for investors to succeed. Only by overcoming these psychological weaknesses in trading can investors overcome themselves and then gain profits. In the investment market, after some investors have made profits in the investment, their confidence doubles. Driven by greed, they set their goals higher or lower, and are blindly optimistic.*', '*It is natural for investors to want to obtain investment income, but they should not be too greedy. Sometimes, the failure of investors is caused by excessive greed. Due to endless desires, the fact that the profits that have already been obtained may come to nothing all of a sudden.*', '', '*A good attitude is sometimes as important as excellent trading techniques, and perhaps these attitudes are the source of helping you overcome everything. Correct trading concepts, simple trading techniques, decisive execution, dormant patience and a healthy mentality. It is an invincible weapon in investment transactions.*', \" ~\\u202fMichael Wall: *That's it for all sharing, I'm going to analyze today's market trend. Investors are very cautious in the market today Friday, this is the best time for us to make money, we have been making money for 2 days in a row, today I wish you all success in grasping the market and strictly follow my trading signals to buy and sell*\", ' ~\\u202fAngus Robinson: Thank you very much', \" ~\\u202fAnthony Campbell: I trust you, Mr. Michael, to make money today and I'm going to withdraw some money to celebrate\", \" ~\\u202fJennifer Violet: *Thank you Mr. Michael for sharing, please wait for my notification to trade. Currently Mr. Michael has 100% success rate for this week's market. If you haven't created an account yet, or need to increase your investment, please contact me promptly. You can get a free $500 to participate in the trading. This is the perfect opportunity to learn. I will teach you how to do it.*\", '\\u200e ~\\u202fJennifer Violet: \\u200eContact card omitted', \" ~\\u202fBernie Mitchell: I'm ready.\", '\\u200e ~\\u202fAngus Robinson: \\u200eimage omitted', ' ~\\u202fAngus Robinson: Deposit completed. I am looking forward to my income.😁', ' ~\\u202fAnthony Campbell: You are new?？', \" ~\\u202fAngus Robinson: I have been investing in cryptocurrencies for over 2 years, but not contract trading. With what I've learned in the past two days, I don't think it's that hard\", ' ~\\u202fMartin Roberts: Cool', ' ~\\u202fAnthony Campbell: It seems  a lot of professional investors in our group.Good', ' ~\\u202fMichael Wall: *The market is now stabilizing.*', ' ~\\u202fBernie Mitchell: Nice, start trading now?', ' ~\\u202fAnthony Campbell: Buy？', ' ~\\u202fJennifer Violet: *Remind:*', '*Our transaction will start soon.*', '*Please strictly set the stop loss control risk when trading.*', '*After the transaction is complete, send your income records, I need records. Thank you so much.*', '*I wish you all success in making money.*', ' ~\\u202fJennifer Violet: *Congratulations to the friends who participated in the transaction today and successfully made a profit.*', '', '*Please send your earnings records in the group, or privately to me. I need to record. Thank you so much.*', '\\u200e ~\\u202fChrissie Mills: \\u200eimage omitted', ' ~\\u202fChrissie Mills: Amazing. Great income today.😁', \" ~\\u202fBernie Mitchell: Didn't you deposit 5K? Very little income.\", ' ~\\u202fChrissie Mills: Yes, but the money is still on the way. I use wire transfer', ' ~\\u202fNahumDaniels: How to deposit with cryptocurrency?', \" ~\\u202fJennifer Violet: *I'm recording everyone's income right now. I will teach you later.*\", '\\u200e ~\\u202fBob Stone: \\u200eimage omitted', ' ~\\u202fBob Stone: Next time I will buy 0.5 lots', '\\u200e ~\\u202fBernie Mitchell: \\u200eimage omitted', ' ~\\u202fNahumDaniels: Have you not funded your account yet?', \" ~\\u202fBernie Mitchell: The money hasn't arrived yet. I sold my stock. I'm not gonna deposit 5k, it doesn't make any sense.\", ' ~\\u202fAnthony Campbell: How much do you intend to invest?', ' ~\\u202fBernie Mitchell: 100K', ' ~\\u202fNahumDaniels: Nice', '\\u200e ~\\u202fAngus Robinson: \\u200eimage omitted', ' ~\\u202fAngus Robinson: I used a wire transfer today, but it arrived in 1 hour.', ' ~\\u202fChrissie Mills: Really?', ' ~\\u202fJennifer Violet: *According to your bank processing speed. .*', ' ~\\u202fBernie Mitchell: My broker told me that $100,000 in contract cryptocurrency would be the best bet. In this way, I can use 20,000 funds for transactions. 20% of positions accounted for. Risk control is the most perfect.', \" ~\\u202fFlavia: Wow, I'm late.\", \" ~\\u202fJennifer Violet: *It's okay, I'll help you request a trading signal from Mr. Michael. If there are friends who want to learn trading, please contact me.*\", '\\u200e ~\\u202fJennifer Violet: \\u200eContact card omitted', ' ~\\u202fAngus Robinson: Cool, can I still trade?', \" ~\\u202fJennifer Violet: *Of course, because many friends just invested a small amount of money to learn it at present. Therefore, Mr. Michael's current task is to teach everyone how to analyze the market and be familiar with the trading process.*\", '', '*When many people join, we will have more trading signals.*', \" ~\\u202fAngus Robinson: Nice. I'm looking forward to it, trading feels great. Thrilling!😎\", ' ~\\u202fChrissie Mills: I am very nervous.😂', ' ~\\u202fGracie Morales: Where can I download trading software?', ' ~\\u202fJennifer Violet: *Apple Store. I teach you how to download it and create an account*', ' ~\\u202fJennifer Violet: *Google Play Store can also be downloaded*', ' ~\\u202fGracie Morales: OK', ' ~\\u202fNahumDaniels: Looks good, and the app listed on the Apple store is credited.', ' ~\\u202fBernie Mitchell: Sure, this company is great. There is a regulatory license.', \" ~\\u202fNahumDaniels: Really? Haven't seen such news before\", ' ~\\u202fAngus Robinson: You should contact Jennifer to find out about these.', \" ~\\u202fJennifer Violet: *Sorry, the license is sensitive and private, if you want to know more about our company, please contact me. I'll introduce it to you in detail.*\", '\\u200e ~\\u202fJennifer Violet: \\u200eContact card omitted', ' ~\\u202fNahumDaniels: Great', ' ~\\u202fNoel Torres: Busy day. Looks like I missed the deal.', ' ~\\u202fBernie Mitchell: Exactly.', \" ~\\u202fNoel Torres: It doesn't matter. I have traded once. I'm going to make a deposit next week.\", ' ~\\u202fNahumDaniels: But next Monday is Memorial Day. Can I make a deposit?', ' ~\\u202fJennifer Violet: *Deposits using cryptocurrencies are not affected.*', ' ~\\u202fNahumDaniels: OK', ' ~\\u202fJennifer Violet: *Thanks again to everyone for placing their trust in our company.*', '*Happy weekend to everyone in advance.*', '*If there is a new friend who wants to know about our company, or you want to receive a free $500 to trade, please contact me.*', '\\u200e ~\\u202fJennifer Violet: \\u200eContact card omitted', ' ~\\u202fChrissie Mills: Happy weekend.', ' ~\\u202fFlavia: Have a great weekend folks! I so enjoy enjoying the weekend this wa', '\\u200e ~\\u202fFlavia: \\u200eimage omitted', \" ~\\u202fBernie Mitchell: Yes, life shouldn't be all about work!\", \" ~\\u202fChrissie Mills: Yes, we're on vacation, me and my friend are on vacation in Houston\", ' ~\\u202fAngus Robinson: Looks like the weather is fine, have a nice holiday', ' ~\\u202fChrissie Mills: Thank you and have a nice holiday.', ' ~\\u202fBob Stone: What is NFP?', ' ~\\u202fBernie Mitchell: Seems to be about employment data.', ' ~\\u202fChrissie Mills: Jane I am introducing this investment to my friends and they are concerned about whether it is safe.', ' ~\\u202fJennifer Violet: *Happy weekend, dear friends.*', '*Next Friday is the release of the U.S. non-farm super data. NFP will have a very big impact on the foreign exchange market.*', '', '*I believe that Mr. Michael will do sufficient research and preparation next week, and lead everyone to make money successfully again.*', '', '*If you want to join us too, please contact me. I will teach you how to register an account.*', '', \"*Reminder: New users can get 500 sponsored by us for free, you can use this 500 US dollars to learn trading, please don't miss the great opportunity.*\", '\\u200e ~\\u202fJennifer Violet: \\u200eContact card omitted', ' ~\\u202fJennifer Violet: *1. The trading software you use is downloaded through the Apple Store.*', '*2. Our company is a fully regulated investment company. You have our license.*', '*3. You successfully withdraw your profit*', '*4. Our cooperation method is to take you to make money first, and then you need to pay 10% of your profit after 21 days.*', '', '*You can show them this. Or ask them to contact me. . .*', \" ~\\u202fChrissie Mills: Sure, I'll tell them.\", ' ~\\u202fJennifer Violet: *Thanks, you can get them to contact me and get $500 free.*', '\\u200e ~\\u202fJennifer Violet: \\u200eContact card omitted', ' ~\\u202fJennifer Violet: *Happy weekend, dear friends.*', '*You can take the time to read the club information. I will send some market news that needs attention.*', '*First, the White House and Republicans reached a debt-ceiling agreement to avoid a historic U.S. default.*', '*I think Mr Michael will analyze it tomorrow in the club.*', ' ~\\u202fChrissie Mills: Happy weekend.', ' ~\\u202fJennifer Violet: *Next week focus on:*', '*1. Federal Reserve Board Director Bowman and 2025 FOMC voting committee and Boston Fed Chairman Collins will deliver opening remarks at the \"Fed Listening\" event. Mann will also deliver a speech. Investors need to pay attention to their latest views on the outlook for the economy and monetary policy.*', '', '*2. Changes in the number of ADP employment in my country in May*', '', '*3. The most important NFP data will be announced next Friday.*', '*Non-agricultural data refers to the three values   of non-agricultural employment, employment rate and unemployment rate. It is a data indicator reflecting the employment status of my country\\'s non-agricultural population. It is generally called a barometer of my country\\'s economy. my country\\'s non-agricultural data can greatly affect the value of the dollar in the currency market. It will bring intuitive direction guidance to the investment market. Investors also call it \"Super Market Week\"!*', ' ~\\u202fBernie Mitchell: Amazing, this is important information.', \" ~\\u202fJennifer Violet: *Don't worry, in order to lead everyone to achieve good results next week, Mr. Michael has already worked overtime at the company today. Mr. Michael is sure to win this super market week. Today everyone relax and enjoy the holiday.*\", ' ~\\u202fAngus Robinson: I plan to increase my investment again tomorrow', ' ~\\u202fAnthony Campbell: Mr. Michael is a selfless mentor.🥃', ' ~\\u202fBernie Mitchell: How much do you plan to invest?', \" ~\\u202fAngus Robinson: Not sure yet, I'll ask my agent. He will give me some advice.\", \" ~\\u202fMichael Wall: *Everyone enjoy holiday first, it's my pleasure to lead everyone to make money, Win-win is an important condition for long-term cooperation. I will be fully prepared for this super market.*\", \" ~\\u202fChrissie Mills: Thank you very much, Mr. Michael. I can't express my love in words🤗\", '\\u200e ~\\u202fNahumDaniels: \\u200eimage omitted', ' ~\\u202fNahumDaniels: I was shopping in the supermarket and I was very excited to hear the good news.', ' ~\\u202fJennifer Violet: *Happy weekend, dear friends.*', '*Next week is \"Market Super Week\" and next Friday is a big trade signal. The expected return is more than 30%. Mr. Michael was well prepared for this. At present, some friends in the club have begun to invest more funds.*', '', \"*If you want to participate in next week's big trading signal. please contact me.*\", '', '*About why give $500 away. Our company created an investment club and sponsors $500 for all new friends to learn contract cryptocurrency, foreign exchange, and gold investment.*', '', '*For you, this is the best opportunity to learn contract cryptocurrency trading. Contact me to claim $500.*', '\\u200e ~\\u202fJennifer Violet: \\u200eContact card omitted', ' ~\\u202fJennifer Violet: *Good morning, dear friends. Market news this week:*', '*1. Federal Reserve Board Director Bowman and 2025 FOMC voting committee, Boston Fed Chairman Collins will deliver opening remarks at the \"Fed Listening\" event. Mann will also deliver a speech.*Investors need to pay attention to thleir latest views on the outlook for the economy and monetary policy.*', '', '*2. Changes in the number of ADP employment in my country in May*', '', '*3. The most important NFP data release on Friday.*', '*Non-agricultural data refers to the three values   of non-agricultural employment, employment rate and unemployment rate. It is a data indicator reflecting the employment status of my country\\'s non-agricultural population. It is generally called a* *barometer of my country\\'s economy. my country\\'s non-agricultural data can greatly affect the value of the dollar in the currency market. It will bring intuitive direction guidance to the investment market.* *Investors also call it \"Super Market Week\"!*', \" ~\\u202fJennifer Violet: *Mr. Michael seems busy this morning, and I think he's getting ready for it.*\", '', \"*If there are new friends who want to learn contract cryptocurrency investment, please contact me. We'll give you $500 for free.*\", '', '*I wish everyone success and profitability!*', '\\u200e ~\\u202fJennifer Violet: \\u200eContact card omitted', ' ~\\u202fChrissie Mills: Is this week different? Why are the returns high?', ' ~\\u202fAnthony Campbell: This week is the release of non-agricultural data.', ' ~\\u202fFlavia: Is the market closed today?', ' ~\\u202fJennifer Violet: *BTC can be traded normally. But other foreign exchange products are closed.*', \" ~\\u202fMichael Wall: *Hello everyone, My team had a meeting this morning. Adjustments were made to this week's trading strategy.*\", '', '*This week we will reduce the frequency of trading signals to reduce risk. But we will pick out 2-3 trading signals for everyone. On Friday, I guarantee that the return on the day will not be less than 30%!*', ' ~\\u202fDoreen: Really? 30%?', ' ~\\u202fAngus Robinson: If we reduce trading signals, will our earnings be affected?', \" ~\\u202fMichael Wall: *Everyone should know that the Fed's policy is the most important event for the price rise and fall of the USD! What we are investing in is foreign currency exchange. Therefore, the market volatility this week will be very large, and this is our chance to make money.*\", ' ~\\u202fBernie Mitchell: This may be good strategy. Sometimes for a good trading signal, the profit return is the result of 1-2 days.🤔', ' ~\\u202fAngus Robinson: OK. I increased my investment today. Hope to have good income.', ' ~\\u202fAnthony Campbell: How much did you increase your investment?', '\\u200e ~\\u202fAngus Robinson: \\u200eimage omitted', ' ~\\u202fAngus Robinson: Currently a total of 50K😎', ' ~\\u202fBob Stone: You should now be the most invested friend in our group.👍', ' ~\\u202fBernie Mitchell: Share your income with us. lol', ' ~\\u202fAngus Robinson: Yes, Mr. Michael and Jennifer are trustworthy, and if there is a great income, I will invest more.', \" \\u202a+1\\xa0\\xa0356‑4329\\u202c: \\u200e\\u202a+1\\xa0\\xa0356‑4329\\u202c joined using this group's invite link\", ' ~\\u202fBob Stone: Great', \" ~\\u202fChrissie Mills: What is non-agricultural? I'm in a lot of groups and see people talking about it.\", \" ~\\u202fAnthony Campbell: on employment changes. This has a great impact on our country's economy and thus the price of USD.\", ' ~\\u202fMichael Wall: *Let me explain:*', '*This Friday is the most important. U.S. nonfarm payrolls*', '*Non-agricultural employment: It is an item in the employment report. This item mainly counts the changes in positions other than agricultural production. This data is published together with the unemployment rate.*', ' ~\\u202fBernie Mitchell: Yes', ' ~\\u202fMichael Wall: *Reasons to focus on main indicators:*', '*Changes in the number of non-agricultural employment reflect the development and growth of the manufacturing industry and the service industry. A decrease in the number means that companies have reduced production and the economy has entered a depression; in the absence of hyperinflation, if the number increases significantly, it shows a healthy economy Conditions, which should be positive for the dollar, and may signal more interest rate hikes, are also positive for the dollar. If the non-agricultural employment index increases, it reflects the rise of economic development, and vice versa.*', ' ~\\u202fBob Stone: Why are you so confident that you can win？', ' ~\\u202fMichael Wall: *Usually my team will make sufficient preparations before the arrival of the big trading signal. Develop a detailed trading strategy.*', '*This is the data released by our information collection department for all non-agricultural data released since 2022. We have our own means of obtaining inside information. For this non-agricultural data, we will calculate the approximate published value within 2-3 days. Then formulate trading signals in advance. The success rate of victory is more than 90%. Everyone can participate in the transaction with confidence.*', '\\u200e ~\\u202fMichael Wall: \\u200eimage omitted', ' ~\\u202fBob Stone: Cool, is this the secret to how organizations make money? lol', ' ~\\u202fAngus Robinson: Your company is the most professional I have ever seen!', ' ~\\u202fAnthony Campbell: How many surprises do you still have. lol', ' ~\\u202fMichael Wall: *There are more, there is a complete plan for our trading signal formulation.*', '', '*First of all: the source of our trading signals.*', '*1. Our information collection department obtains the latest market trends in advance. Sometimes the timeliness of information directly affects the judgment of our analysts.*', '*2. My team and I will analyze the information and determine the transaction plan.*', '*3. I will make a risk assessment of the trading signal. Then formulate the most suitable trading signal with the lowest risk and return. This is where our trading signals come from.*', \" ~\\u202fBernie Mitchell: I have to say that there are good reasons for your company's success. Your success is inevitable.\", \" ~\\u202fTheodoric Nguyen: I'll be joining on Wednesday.\", ' ~\\u202fKelly: I have a question, you charge 10% of the income, do I have to pay other fees?', ' ~\\u202fAnthony Campbell: NO, we do not need to pay any other fees', ' ~\\u202fJennifer Violet: *How we cooperate:*', '*1. Download the St5 contract cryptocurrency trading software through the Apple Store. And complete the account creation *', \"*2. Trade in strict accordance with the trading signals of Mr. Michael's team.*\", \"*3. Every 21 days, you need to pay 10% of your income as our company's return! (You do not need to pay any fees before this, if your rate of return is less than 20% after 21 days, we will not charge any fees*\", ' ~\\u202fKelly: OK, please send the registration link.', ' ~\\u202fJennifer Violet: *There is no registration link. You need to download the St5 foreign exchange trading software in your Apple Store, and then link to our IC Market service company.*', \" ~\\u202fJennifer Violet: *I will teach you how to do it. If there are other friends who want to participate in this week's big trading signal, please contact me. I will teach you how to complete the creation of a trading account. And give you $500 free.*\", '\\u200e ~\\u202fJennifer Violet: \\u200eContact card omitted', ' ~\\u202fBob Stone: Will there be a trading signal today?', ' ~\\u202fMichael Wall: *Today I do not plan to lead everyone to trade, except for BTC, other markets are closed. The debt ceiling incident has now been resolved, market investors appear very cautious, and the dollar index has not fluctuated much.*', ' ~\\u202fAngus Robinson: Unfortunately. Hope to have a trading signal tomorrow.', ' ~\\u202fBernie Mitchell: Maybe we can talk about your thoughts on the debt ceiling event.🤔', ' ~\\u202fAnthony Campbell: You should rest well. Lol', ' ~\\u202fMichael Wall: *In addition to accelerating the withdrawal of liquidity, the impact of restricting spending during the period of high interest rates will also be magnified, and the Fed’s forward-looking guidance in June may have to be adjusted accordingly*', '', \"*The government's deal to raise the debt ceiling, which puts a cap on government spending, has added a new headwind to an economy already weighed down by the highest interest rates in decades and shrinking credit.*\", '', \"*The interim deal that Biden and House Speaker McCarthy drafted over the weekend, if passed by Congress in the coming days, would avert a worst-case scenario of a payment default triggering a financial meltdown, but it could also raise, if only marginally, the risk of a downturn in the world's largest economy risk.*\", ' ~\\u202fWayne Adams: What impact will spending restrictions have on our economy?', ' ~\\u202fBernie Mitchell: Affect the growth of GDP', ' ~\\u202fMichael Wall: *Good, this explanation is the most straightforward. This would lead to a slightly more aggressive tightening of fiscal policy at the same time as monetary policy tightening*', ' ~\\u202fMartin Roberts: As I said long ago, they dare not break the contract. Otherwise the world economy will collapse.', \" ~\\u202fMichael Wall: *The incident is now over. We also need to pay attention to more economic data indicators to judge whether my country's economy will decline or recover in the future.*\", ' ~\\u202fBernie Mitchell: NFP data for this Friday?', \" ~\\u202fMichael Wall: *Yes. This Friday's NFP numbers will be key. We can look at the employment situation. If employment continues to rise, then I expect the Fed to maintain its policy of raising interest rates.*\", ' ~\\u202fAngus Robinson: Understand', ' ~\\u202fBernie Mitchell: Great strategy. let us wait and see', ' ~\\u202fMichael Wall: *I plan to analyze it tomorrow based on the actual market*', ' ~\\u202fBernie Mitchell: OK', ' ~\\u202fJennifer Violet: *This Friday is a big trading signal. The expected return is more than 30%. Mr. Michael was well prepared for this. At present, some friends in the club have begun to invest more funds.*', '', \"*If you want to participate in this week's big trading signal. please contact me.*\", '', '*About why give $500 away. Our company created an investment club and sponsors $500 for all new friends to learn contract cryptocurrency, foreign exchange, and gold investment.*', '', '*For you, this is the best opportunity to learn contract cryptocurrency trading. Contact me to claim $500.*', '\\u200e ~\\u202fJennifer Violet: \\u200eContact card omitted', ' ~\\u202fJennifer Violet: *Good morning, dear friends.*', \"*Today's risk event: 2024 FOMC member and Richmond Fed President Balkin attends a video conference on monetary policy and outlook hosted by the National Association for Business Economics *\", '', \"*Mr. Michael appears to be busy in the morning as they are conducting meetings to develop today's trading strategy. So don't miss the trading signals today*\", '', \"*If any new of you would like to participate in today's trading, You can meesage me. Get a free $500 test fee. Practice is the best way to learn*\", ' ~\\u202fNahumDaniels: Who is Barkin?', \" ~\\u202fWayne Adams: Fed's officials\", \" ~\\u202fNahumDaniels: Oh thanks for letting me know. so, was the meeting about the Fed's monetary policy?👍🏻\", \" ~\\u202fJennifer Violet: *Yes, from today's risky events, Maybe we can  find a direction to trade*\", ' ~\\u202fAngus Robinson: Nice. please tell me what time the trading starts today?', ' ~\\u202fBob Stone: I added another $20,000 to my investment. This amount of money is huge for me.', ' ~\\u202fBernie Mitchell: Investing is based on your own financial ability. You are in the wrong mindset', ' ~\\u202fAngus Robinson: Yes. Investing is not gambling.']\n"
     ]
    }
   ],
   "source": [
    "print(lines[0])\n",
    "\n",
    "import re\n",
    "\n",
    "lines=[re.sub(\"\\(.*?\\)|\\[.*?\\]\",\"\",line) for line in lines]    \n",
    "    \n",
    "print(lines)    "
   ]
  },
  {
   "cell_type": "code",
   "execution_count": 11,
   "metadata": {},
   "outputs": [
    {
     "data": {
      "text/plain": [
       "1367"
      ]
     },
     "execution_count": 11,
     "metadata": {},
     "output_type": "execute_result"
    }
   ],
   "source": [
    "len(lines)"
   ]
  },
  {
   "cell_type": "code",
   "execution_count": 12,
   "metadata": {},
   "outputs": [
    {
     "data": {
      "text/html": [
       "<div>\n",
       "<style scoped>\n",
       "    .dataframe tbody tr th:only-of-type {\n",
       "        vertical-align: middle;\n",
       "    }\n",
       "\n",
       "    .dataframe tbody tr th {\n",
       "        vertical-align: top;\n",
       "    }\n",
       "\n",
       "    .dataframe thead th {\n",
       "        text-align: right;\n",
       "    }\n",
       "</style>\n",
       "<table border=\"1\" class=\"dataframe\">\n",
       "  <thead>\n",
       "    <tr style=\"text-align: right;\">\n",
       "      <th></th>\n",
       "      <th>message</th>\n",
       "      <th>sender</th>\n",
       "    </tr>\n",
       "  </thead>\n",
       "  <tbody>\n",
       "    <tr>\n",
       "      <th>0</th>\n",
       "      <td>‎Messages and calls are end-to-end encrypted....</td>\n",
       "      <td>🏆B10-Stock Crypto&amp;FX Center</td>\n",
       "    </tr>\n",
       "    <tr>\n",
       "      <th>1</th>\n",
       "      <td>‎~ H created group “Stock Crypto FX B10”</td>\n",
       "      <td>~ H</td>\n",
       "    </tr>\n",
       "    <tr>\n",
       "      <th>2</th>\n",
       "      <td>‎~ H added you</td>\n",
       "      <td>🏆B10-Stock Crypto&amp;FX Center</td>\n",
       "    </tr>\n",
       "    <tr>\n",
       "      <th>3</th>\n",
       "      <td>‎~ H changed this group's settings to allow o...</td>\n",
       "      <td>~ H</td>\n",
       "    </tr>\n",
       "    <tr>\n",
       "      <th>4</th>\n",
       "      <td>‎~ H changed this group's settings to allow o...</td>\n",
       "      <td>~ H</td>\n",
       "    </tr>\n",
       "    <tr>\n",
       "      <th>...</th>\n",
       "      <td>...</td>\n",
       "      <td>...</td>\n",
       "    </tr>\n",
       "    <tr>\n",
       "      <th>1362</th>\n",
       "      <td>*Yes, from today's risky events, Maybe we can...</td>\n",
       "      <td>~ Jennifer Violet</td>\n",
       "    </tr>\n",
       "    <tr>\n",
       "      <th>1363</th>\n",
       "      <td>Nice. please tell me what time the trading st...</td>\n",
       "      <td>~ Angus Robinson</td>\n",
       "    </tr>\n",
       "    <tr>\n",
       "      <th>1364</th>\n",
       "      <td>I added another $20,000 to my investment. Thi...</td>\n",
       "      <td>~ Bob Stone</td>\n",
       "    </tr>\n",
       "    <tr>\n",
       "      <th>1365</th>\n",
       "      <td>Investing is based on your own financial abil...</td>\n",
       "      <td>~ Bernie Mitchell</td>\n",
       "    </tr>\n",
       "    <tr>\n",
       "      <th>1366</th>\n",
       "      <td>Yes. Investing is not gambling.</td>\n",
       "      <td>~ Angus Robinson</td>\n",
       "    </tr>\n",
       "  </tbody>\n",
       "</table>\n",
       "<p>1367 rows × 2 columns</p>\n",
       "</div>"
      ],
      "text/plain": [
       "                                                message  \\\n",
       "0      ‎Messages and calls are end-to-end encrypted....   \n",
       "1              ‎~ H created group “Stock Crypto FX B10”   \n",
       "2                                        ‎~ H added you   \n",
       "3      ‎~ H changed this group's settings to allow o...   \n",
       "4      ‎~ H changed this group's settings to allow o...   \n",
       "...                                                 ...   \n",
       "1362   *Yes, from today's risky events, Maybe we can...   \n",
       "1363   Nice. please tell me what time the trading st...   \n",
       "1364   I added another $20,000 to my investment. Thi...   \n",
       "1365   Investing is based on your own financial abil...   \n",
       "1366                    Yes. Investing is not gambling.   \n",
       "\n",
       "                            sender  \n",
       "0      🏆B10-Stock Crypto&FX Center  \n",
       "1                              ~ H  \n",
       "2      🏆B10-Stock Crypto&FX Center  \n",
       "3                              ~ H  \n",
       "4                              ~ H  \n",
       "...                            ...  \n",
       "1362             ~ Jennifer Violet  \n",
       "1363              ~ Angus Robinson  \n",
       "1364                   ~ Bob Stone  \n",
       "1365             ~ Bernie Mitchell  \n",
       "1366              ~ Angus Robinson  \n",
       "\n",
       "[1367 rows x 2 columns]"
      ]
     },
     "execution_count": 12,
     "metadata": {},
     "output_type": "execute_result"
    }
   ],
   "source": [
    "#print(lines)\n",
    "import pandas as pd\n",
    "import re\n",
    "with open('./data/whatsapp/_chat.txt') as f:\n",
    "    contents = f.read()\n",
    "    #print(contents)\n",
    "    \n",
    "lines = contents.splitlines()    \n",
    "message_df=pd.DataFrame()\n",
    "\n",
    "for line in lines:\n",
    "    if ('[' in line):\n",
    "        sender=line.split(']')[1].split(':')[0]\n",
    "        message=line.split(']')[1].split(':')[1]\n",
    "    temp_df= {'sender': sender, 'message': message}\n",
    "    message_df=message_df.append(temp_df, ignore_index = True)\n",
    "    #print(sender)\n",
    "    \n",
    "message_df    "
   ]
  },
  {
   "cell_type": "code",
   "execution_count": 13,
   "metadata": {},
   "outputs": [
    {
     "data": {
      "text/plain": [
       "' *🔥Welcome to Stk Crypto & FX Academy I am the assistant of this club, my name is Jennifer.*'"
      ]
     },
     "execution_count": 13,
     "metadata": {},
     "output_type": "execute_result"
    }
   ],
   "source": [
    "message_df['message'][12]"
   ]
  },
  {
   "cell_type": "code",
   "execution_count": 14,
   "metadata": {},
   "outputs": [
    {
     "data": {
      "text/plain": [
       "<AxesSubplot:>"
      ]
     },
     "execution_count": 14,
     "metadata": {},
     "output_type": "execute_result"
    },
    {
     "name": "stderr",
     "output_type": "stream",
     "text": [
      "/home/nak3t/.conda/envs/BERTPython/lib/python3.8/site-packages/matplotlib/backends/backend_agg.py:240: RuntimeWarning: Glyph 8296 missing from current font.\n",
      "  font.set_text(s, 0.0, flags=flags)\n",
      "/home/nak3t/.conda/envs/BERTPython/lib/python3.8/site-packages/matplotlib/backends/backend_agg.py:240: RuntimeWarning: Glyph 8297 missing from current font.\n",
      "  font.set_text(s, 0.0, flags=flags)\n",
      "/home/nak3t/.conda/envs/BERTPython/lib/python3.8/site-packages/matplotlib/backends/backend_agg.py:240: RuntimeWarning: Glyph 127942 missing from current font.\n",
      "  font.set_text(s, 0.0, flags=flags)\n",
      "/home/nak3t/.conda/envs/BERTPython/lib/python3.8/site-packages/matplotlib/backends/backend_agg.py:203: RuntimeWarning: Glyph 8296 missing from current font.\n",
      "  font.set_text(s, 0, flags=flags)\n",
      "/home/nak3t/.conda/envs/BERTPython/lib/python3.8/site-packages/matplotlib/backends/backend_agg.py:203: RuntimeWarning: Glyph 8297 missing from current font.\n",
      "  font.set_text(s, 0, flags=flags)\n",
      "/home/nak3t/.conda/envs/BERTPython/lib/python3.8/site-packages/matplotlib/backends/backend_agg.py:203: RuntimeWarning: Glyph 127942 missing from current font.\n",
      "  font.set_text(s, 0, flags=flags)\n"
     ]
    },
    {
     "data": {
      "image/png": "[encoded data removed]",
      "text/plain": [
       "<Figure size 720x720 with 1 Axes>"
      ]
     },
     "metadata": {
      "needs_background": "light"
     },
     "output_type": "display_data"
    }
   ],
   "source": [
    "import matplotlib.pyplot as plt\n",
    "\n",
    "fig, ax = plt.subplots()\n",
    "\n",
    "message_df['sender'].value_counts().plot(ax=ax, kind='barh',figsize=(10,10))\n"
   ]
  },
  {
   "cell_type": "code",
   "execution_count": 15,
   "metadata": {},
   "outputs": [
    {
     "data": {
      "application/vnd.jupyter.widget-view+json": {
       "model_id": "67ef9c9d2f934ccd808ca2736465737b",
       "version_major": 2,
       "version_minor": 0
      },
      "text/plain": [
       "HBox(children=(HTML(value='Downloading'), FloatProgress(value=0.0, max=392.0), HTML(value='')))"
      ]
     },
     "metadata": {},
     "output_type": "display_data"
    },
    {
     "name": "stdout",
     "output_type": "stream",
     "text": [
      "\n"
     ]
    },
    {
     "data": {
      "application/vnd.jupyter.widget-view+json": {
       "model_id": "4b0b37798939453f9c9f4202c8fdd117",
       "version_major": 2,
       "version_minor": 0
      },
      "text/plain": [
       "HBox(children=(HTML(value='Downloading'), FloatProgress(value=0.0, max=5069051.0), HTML(value='')))"
      ]
     },
     "metadata": {},
     "output_type": "display_data"
    },
    {
     "name": "stdout",
     "output_type": "stream",
     "text": [
      "\n"
     ]
    },
    {
     "data": {
      "application/vnd.jupyter.widget-view+json": {
       "model_id": "391785d360a94dbcbda8ca19e1775ee3",
       "version_major": 2,
       "version_minor": 0
      },
      "text/plain": [
       "HBox(children=(HTML(value='Downloading'), FloatProgress(value=0.0, max=17082660.0), HTML(value='')))"
      ]
     },
     "metadata": {},
     "output_type": "display_data"
    },
    {
     "name": "stdout",
     "output_type": "stream",
     "text": [
      "\n"
     ]
    },
    {
     "data": {
      "application/vnd.jupyter.widget-view+json": {
       "model_id": "39444ca6ad94431795a751361ac5d991",
       "version_major": 2,
       "version_minor": 0
      },
      "text/plain": [
       "HBox(children=(HTML(value='Downloading'), FloatProgress(value=0.0, max=239.0), HTML(value='')))"
      ]
     },
     "metadata": {},
     "output_type": "display_data"
    },
    {
     "name": "stdout",
     "output_type": "stream",
     "text": [
      "\n"
     ]
    },
    {
     "data": {
      "application/vnd.jupyter.widget-view+json": {
       "model_id": "0b2ff6abee764180962fdec3d9248bb9",
       "version_major": 2,
       "version_minor": 0
      },
      "text/plain": [
       "HBox(children=(HTML(value='Downloading'), FloatProgress(value=0.0, max=877.0), HTML(value='')))"
      ]
     },
     "metadata": {},
     "output_type": "display_data"
    },
    {
     "name": "stdout",
     "output_type": "stream",
     "text": [
      "\n"
     ]
    },
    {
     "data": {
      "application/vnd.jupyter.widget-view+json": {
       "model_id": "3ed2293a29194b9592b8fed15d4ed111",
       "version_major": 2,
       "version_minor": 0
      },
      "text/plain": [
       "HBox(children=(HTML(value='Downloading'), FloatProgress(value=0.0, max=1112249581.0), HTML(value='')))"
      ]
     },
     "metadata": {},
     "output_type": "display_data"
    },
    {
     "name": "stdout",
     "output_type": "stream",
     "text": [
      "\n"
     ]
    }
   ],
   "source": [
    "from transformers import AutoTokenizer, AutoModelForSequenceClassification\n",
    "\n",
    "tokenizer = AutoTokenizer.from_pretrained(\"svalabs/twitter-xlm-roberta-crypto-spam\")\n",
    "\n",
    "model = AutoModelForSequenceClassification.from_pretrained(\"svalabs/twitter-xlm-roberta-crypto-spam\")"
   ]
  },
  {
   "cell_type": "code",
   "execution_count": 16,
   "metadata": {},
   "outputs": [
    {
     "name": "stderr",
     "output_type": "stream",
     "text": [
      "/home/nak3t/.conda/envs/BERTPython/lib/python3.8/site-packages/transformers/pipelines/text_classification.py:89: UserWarning: `return_all_scores` is now deprecated,  if want a similar funcionality use `top_k=None` instead of `return_all_scores=True` or `top_k=1` instead of `return_all_scores=False`.\n",
      "  warnings.warn(\n"
     ]
    }
   ],
   "source": [
    "from transformers import TextClassificationPipeline\n",
    "\n",
    "model = AutoModelForSequenceClassification.from_pretrained(\"svalabs/twitter-xlm-roberta-crypto-spam\")\n",
    "tokenizer = AutoTokenizer.from_pretrained(\"svalabs/twitter-xlm-roberta-crypto-spam\")\n",
    "pipe = TextClassificationPipeline(model=model, tokenizer=tokenizer, return_all_scores=True)\n",
    "# outputs a list of dicts like [[{'label': 'NEGATIVE', 'score': 0.0001223755971295759},  {'label': 'POSITIVE', 'score': 0.9998776316642761}]]\n",
    "value=pipe(\"I love this movie!\")"
   ]
  },
  {
   "cell_type": "code",
   "execution_count": 17,
   "metadata": {},
   "outputs": [
    {
     "data": {
      "text/plain": [
       "0.9536888599395752"
      ]
     },
     "execution_count": 17,
     "metadata": {},
     "output_type": "execute_result"
    }
   ],
   "source": [
    "value[0][1]['score']"
   ]
  },
  {
   "cell_type": "code",
   "execution_count": 18,
   "metadata": {},
   "outputs": [],
   "source": [
    "message_df['spam_score']=''"
   ]
  },
  {
   "cell_type": "code",
   "execution_count": 19,
   "metadata": {},
   "outputs": [],
   "source": [
    "for index in range(0,len(message_df['message'])):\n",
    "    value=pipe(message_df['message'][index])\n",
    "    message_df['spam_score'][index]=value[0][1]['score']\n",
    "    #print()"
   ]
  },
  {
   "cell_type": "code",
   "execution_count": 20,
   "metadata": {},
   "outputs": [
    {
     "data": {
      "text/plain": [
       "array([' 🏆B10-Stock Crypto&FX Center', ' ~\\u202fH', ' ~\\u202fadmin',\n",
       "       ' ~\\u202f\\u2068Jennifer Violet\\u2069', ' ~\\u202fBernie Mitchell',\n",
       "       ' ~\\u202fChrissie', ' ~\\u202fAnthony Campbell',\n",
       "       ' ~\\u202fNoel Torres', ' ~\\u202fNahum Daniels',\n",
       "       ' ~\\u202fAngus Robinson', ' ~\\u202fJennifer Violet',\n",
       "       ' ~\\u202fMartin Roberts', ' ~\\u202fCelia', ' ~\\u202fWayne Adams',\n",
       "       ' ~\\u202fTheodoric Nguyen', ' ~\\u202fDoreen',\n",
       "       ' ~\\u202fGracie Morales', ' ~\\u202fMichael Wall',\n",
       "       ' ~\\u202fBob Stone', ' ~\\u202fBobadhur', ' ~\\u202fJudith',\n",
       "       ' ~\\u202fHenrietta', ' \\u202a+1\\xa0(435)\\xa0990‑4257\\u202c',\n",
       "       ' \\u202a+1\\xa0(918)\\xa0877‑8574\\u202c',\n",
       "       ' \\u202a+1\\xa0(772)\\xa0271‑4544\\u202c', ' ~\\u202fNahumDaniels',\n",
       "       ' ~\\u202fChrissie Mills', ' ~\\u202fKelly', ' ~\\u202fThomas Moore',\n",
       "       ' \\u202a+1\\xa0(209)\\xa0584‑3261\\u202c',\n",
       "       ' \\u202a+1\\xa0(479)\\xa0269‑0916\\u202c',\n",
       "       ' \\u202a+1\\xa0(702)\\xa0941‑8463\\u202c',\n",
       "       ' \\u202a+1\\xa0(559)\\xa0384‑6154\\u202c', ' ~\\u202fNicole Kirk',\n",
       "       ' \\u202a+1\\xa0(321)\\xa0399‑5872\\u202c', ' ~\\u202fFlavia',\n",
       "       ' \\u202a+1\\xa0(707)\\xa0356‑4329\\u202c'], dtype=object)"
      ]
     },
     "execution_count": 20,
     "metadata": {},
     "output_type": "execute_result"
    }
   ],
   "source": [
    "message_df['sender'].unique()"
   ]
  },
  {
   "cell_type": "code",
   "execution_count": 21,
   "metadata": {},
   "outputs": [],
   "source": [
    "spamscore = message_df.groupby('sender')['spam_score'].sum().reset_index().sort_values('spam_score', ascending=False)"
   ]
  },
  {
   "cell_type": "code",
   "execution_count": 22,
   "metadata": {},
   "outputs": [
    {
     "data": {
      "text/html": [
       "<div>\n",
       "<style scoped>\n",
       "    .dataframe tbody tr th:only-of-type {\n",
       "        vertical-align: middle;\n",
       "    }\n",
       "\n",
       "    .dataframe tbody tr th {\n",
       "        vertical-align: top;\n",
       "    }\n",
       "\n",
       "    .dataframe thead th {\n",
       "        text-align: right;\n",
       "    }\n",
       "</style>\n",
       "<table border=\"1\" class=\"dataframe\">\n",
       "  <thead>\n",
       "    <tr style=\"text-align: right;\">\n",
       "      <th></th>\n",
       "      <th>sender</th>\n",
       "      <th>spam_score</th>\n",
       "    </tr>\n",
       "  </thead>\n",
       "  <tbody>\n",
       "    <tr>\n",
       "      <th>13</th>\n",
       "      <td>~ Jennifer Violet</td>\n",
       "      <td>302.651329</td>\n",
       "    </tr>\n",
       "    <tr>\n",
       "      <th>17</th>\n",
       "      <td>~ Michael Wall</td>\n",
       "      <td>182.389717</td>\n",
       "    </tr>\n",
       "    <tr>\n",
       "      <th>2</th>\n",
       "      <td>~ Bernie Mitchell</td>\n",
       "      <td>74.834959</td>\n",
       "    </tr>\n",
       "    <tr>\n",
       "      <th>1</th>\n",
       "      <td>~ Anthony Campbell</td>\n",
       "      <td>51.150043</td>\n",
       "    </tr>\n",
       "    <tr>\n",
       "      <th>0</th>\n",
       "      <td>~ Angus Robinson</td>\n",
       "      <td>40.754201</td>\n",
       "    </tr>\n",
       "  </tbody>\n",
       "</table>\n",
       "</div>"
      ],
      "text/plain": [
       "                 sender  spam_score\n",
       "13    ~ Jennifer Violet  302.651329\n",
       "17       ~ Michael Wall  182.389717\n",
       "2     ~ Bernie Mitchell   74.834959\n",
       "1    ~ Anthony Campbell   51.150043\n",
       "0      ~ Angus Robinson   40.754201"
      ]
     },
     "execution_count": 22,
     "metadata": {},
     "output_type": "execute_result"
    }
   ],
   "source": [
    "spamscore.head()"
   ]
  },
  {
   "cell_type": "code",
   "execution_count": 23,
   "metadata": {},
   "outputs": [
    {
     "name": "stderr",
     "output_type": "stream",
     "text": [
      "/home/nak3t/.conda/envs/BERTPython/lib/python3.8/site-packages/matplotlib/backends/backend_agg.py:240: RuntimeWarning: Glyph 8296 missing from current font.\n",
      "  font.set_text(s, 0.0, flags=flags)\n",
      "/home/nak3t/.conda/envs/BERTPython/lib/python3.8/site-packages/matplotlib/backends/backend_agg.py:240: RuntimeWarning: Glyph 8297 missing from current font.\n",
      "  font.set_text(s, 0.0, flags=flags)\n",
      "/home/nak3t/.conda/envs/BERTPython/lib/python3.8/site-packages/matplotlib/backends/backend_agg.py:240: RuntimeWarning: Glyph 127942 missing from current font.\n",
      "  font.set_text(s, 0.0, flags=flags)\n",
      "/home/nak3t/.conda/envs/BERTPython/lib/python3.8/site-packages/matplotlib/backends/backend_agg.py:203: RuntimeWarning: Glyph 8296 missing from current font.\n",
      "  font.set_text(s, 0, flags=flags)\n",
      "/home/nak3t/.conda/envs/BERTPython/lib/python3.8/site-packages/matplotlib/backends/backend_agg.py:203: RuntimeWarning: Glyph 8297 missing from current font.\n",
      "  font.set_text(s, 0, flags=flags)\n",
      "/home/nak3t/.conda/envs/BERTPython/lib/python3.8/site-packages/matplotlib/backends/backend_agg.py:203: RuntimeWarning: Glyph 127942 missing from current font.\n",
      "  font.set_text(s, 0, flags=flags)\n"
     ]
    },
    {
     "data": {
      "image/png": "[encoded data removed]",
      "text/plain": [
       "<Figure size 720x720 with 1 Axes>"
      ]
     },
     "metadata": {
      "needs_background": "light"
     },
     "output_type": "display_data"
    }
   ],
   "source": [
    "\n",
    "spamscore.plot(x='sender',y='spam_score',kind = 'barh',figsize=(10,10))\n",
    "\n",
    "plt.show() "
   ]
  },
  {
   "cell_type": "code",
   "execution_count": 69,
   "metadata": {},
   "outputs": [
    {
     "name": "stderr",
     "output_type": "stream",
     "text": [
      "No model was supplied, defaulted to distilbert-base-uncased-finetuned-sst-2-english and revision af0f99b (https://huggingface.co/distilbert-base-uncased-finetuned-sst-2-english).\n",
      "Using a pipeline without specifying a model name and revision in production is not recommended.\n"
     ]
    },
    {
     "data": {
      "application/vnd.jupyter.widget-view+json": {
       "model_id": "9542a9a00e5e45cc8950e23cc5b508d0",
       "version_major": 2,
       "version_minor": 0
      },
      "text/plain": [
       "HBox(children=(HTML(value='Downloading'), FloatProgress(value=0.0, max=629.0), HTML(value='')))"
      ]
     },
     "metadata": {},
     "output_type": "display_data"
    },
    {
     "name": "stdout",
     "output_type": "stream",
     "text": [
      "\n"
     ]
    },
    {
     "data": {
      "application/vnd.jupyter.widget-view+json": {
       "model_id": "5f1db36869d94a2194c97493202cde30",
       "version_major": 2,
       "version_minor": 0
      },
      "text/plain": [
       "HBox(children=(HTML(value='Downloading'), FloatProgress(value=0.0, max=267844284.0), HTML(value='')))"
      ]
     },
     "metadata": {},
     "output_type": "display_data"
    },
    {
     "name": "stdout",
     "output_type": "stream",
     "text": [
      "\n"
     ]
    },
    {
     "data": {
      "application/vnd.jupyter.widget-view+json": {
       "model_id": "ebf23a5602a44200bc1ef863154baaa6",
       "version_major": 2,
       "version_minor": 0
      },
      "text/plain": [
       "HBox(children=(HTML(value='Downloading'), FloatProgress(value=0.0, max=48.0), HTML(value='')))"
      ]
     },
     "metadata": {},
     "output_type": "display_data"
    },
    {
     "name": "stdout",
     "output_type": "stream",
     "text": [
      "\n"
     ]
    },
    {
     "data": {
      "application/vnd.jupyter.widget-view+json": {
       "model_id": "bc60c561ef9c40889e8446a917aaa628",
       "version_major": 2,
       "version_minor": 0
      },
      "text/plain": [
       "HBox(children=(HTML(value='Downloading'), FloatProgress(value=0.0, max=231508.0), HTML(value='')))"
      ]
     },
     "metadata": {},
     "output_type": "display_data"
    },
    {
     "name": "stdout",
     "output_type": "stream",
     "text": [
      "\n"
     ]
    },
    {
     "data": {
      "text/plain": [
       "[{'label': 'POSITIVE', 'score': 0.9998656511306763},\n",
       " {'label': 'NEGATIVE', 'score': 0.9991129040718079}]"
      ]
     },
     "execution_count": 69,
     "metadata": {},
     "output_type": "execute_result"
    }
   ],
   "source": [
    "#Sentiment Analysis\n",
    "\n",
    "from transformers import pipeline\n",
    "sentiment_pipeline = pipeline(\"sentiment-analysis\")\n",
    "data = [\"I love you\", \"I hate you\"]\n",
    "sentiment_pipeline(data)"
   ]
  },
  {
   "cell_type": "code",
   "execution_count": null,
   "metadata": {},
   "outputs": [],
   "source": []
  }
 ],
 "metadata": {
  "kernelspec": {
   "display_name": "Python [conda env:.conda-BERTPython]",
   "language": "python",
   "name": "conda-env-.conda-BERTPython-py"
  },
  "language_info": {
   "codemirror_mode": {
    "name": "ipython",
    "version": 3
   },
   "file_extension": ".py",
   "mimetype": "text/x-python",
   "name": "python",
   "nbconvert_exporter": "python",
   "pygments_lexer": "ipython3",
   "version": "3.8.10"
  }
 },
 "nbformat": 4,
 "nbformat_minor": 4
}
